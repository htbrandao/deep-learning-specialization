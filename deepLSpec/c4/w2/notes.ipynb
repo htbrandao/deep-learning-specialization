{
 "cells": [
  {
   "cell_type": "markdown",
   "metadata": {},
   "source": [
    "# Course 4: Week 2"
   ]
  },
  {
   "cell_type": "markdown",
   "metadata": {},
   "source": [
    "## # ResNet\n",
    "\n",
    "![](media/rn.png)\n",
    "\n",
    "![](media/rn2.png)\n",
    "\n",
    "Residual block: \n",
    "\n",
    "![](media/rn3.png)\n",
    "\n",
    "We will stack the residual blocks:\n",
    "\n",
    "![](media/rn4.png)\n",
    "\n",
    "![](media/rn5.png)"
   ]
  },
  {
   "cell_type": "markdown",
   "metadata": {},
   "source": [
    "## ## Why ResNets work\n",
    "\n",
    "A deeper network can hurt the training ability.\n",
    "\n",
    "![](media/rn6.png)\n",
    "\n",
    "In case we run weight decay, this might happen:\n",
    "\n",
    "![](media/rn7.png)\n",
    "\n",
    "It is easy for the activation block the learn the identity function (i.e. $f(x) = x$).\n",
    "\n",
    "Which means it'll just copy the value\n",
    "\n",
    "$a^{[l+2]} = a^{[l]}$\n",
    "\n",
    "Note that we would need the garantee that the dimensions would be the same. Then, we need to use **same convolutions**, to preserve the shape.\n",
    "\n",
    "We could multiply $a^{[l]}$ by a matrix $W_s$ with same dimension as $a^{[l+2]}$ to keep it from falling apart.\n",
    "\n",
    "$a^{[l+2]}$.shape() == $(W_s * a^{[l]})$.shape()\n",
    "___\n",
    "\n",
    "**Example:**\n",
    "\n",
    "![](media/rn8.png)\n",
    "___"
   ]
  },
  {
   "cell_type": "markdown",
   "metadata": {},
   "source": [
    "## # 1x1 Conv\n",
    "\n",
    "It doesn't make much sense to apply to a single channel matrix\n",
    "\n",
    "![](media/obo.png)\n",
    "\n",
    "But applying to a slice through channels, lead to discovering features.\n",
    "\n",
    "Apply it to a transversal slice and activate it with a ReLU. Giving us a real number to represent that section.\n",
    "\n",
    "![](media/obo2.png)\n",
    "\n",
    "![](media/obo3.png)\n",
    "\n",
    "## ## Use case:\n",
    "\n",
    "Shrinking volume, instead of $height$ and $width$:\n",
    "\n",
    "![](media/obo4.png)"
   ]
  },
  {
   "cell_type": "markdown",
   "metadata": {},
   "source": []
  },
  {
   "cell_type": "markdown",
   "metadata": {},
   "source": []
  },
  {
   "cell_type": "markdown",
   "metadata": {},
   "source": []
  },
  {
   "cell_type": "markdown",
   "metadata": {},
   "source": []
  },
  {
   "cell_type": "markdown",
   "metadata": {},
   "source": []
  },
  {
   "cell_type": "markdown",
   "metadata": {},
   "source": []
  },
  {
   "cell_type": "code",
   "execution_count": 25,
   "metadata": {},
   "outputs": [
    {
     "name": "stdout",
     "output_type": "stream",
     "text": [
      "renamed '/home/f4119597/Downloads/Screenshot.png' -> 'media/obo4.png'\r\n"
     ]
    }
   ],
   "source": [
    "! mv -v /home/f4119597/Downloads/Screenshot.png media/obo4.png"
   ]
  },
  {
   "cell_type": "code",
   "execution_count": null,
   "metadata": {},
   "outputs": [],
   "source": []
  }
 ],
 "metadata": {
  "kernelspec": {
   "display_name": "Python 3",
   "language": "python",
   "name": "python3"
  },
  "language_info": {
   "codemirror_mode": {
    "name": "ipython",
    "version": 3
   },
   "file_extension": ".py",
   "mimetype": "text/x-python",
   "name": "python",
   "nbconvert_exporter": "python",
   "pygments_lexer": "ipython3",
   "version": "3.6.9"
  }
 },
 "nbformat": 4,
 "nbformat_minor": 2
}
