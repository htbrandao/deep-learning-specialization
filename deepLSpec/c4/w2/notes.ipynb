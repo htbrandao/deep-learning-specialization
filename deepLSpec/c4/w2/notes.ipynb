{
 "cells": [
  {
   "cell_type": "markdown",
   "metadata": {},
   "source": [
    "# Course 4: Week 2"
   ]
  },
  {
   "cell_type": "markdown",
   "metadata": {},
   "source": [
    "## # ResNet\n",
    "\n",
    "![](media/rn.png)\n",
    "\n",
    "![](media/rn2.png)\n",
    "\n",
    "Residual block: \n",
    "\n",
    "![](media/rn3.png)\n",
    "\n",
    "We will stack the residual blocks:\n",
    "\n",
    "![](media/rn4.png)\n",
    "\n",
    "![](media/rn5.png)"
   ]
  },
  {
   "cell_type": "markdown",
   "metadata": {},
   "source": [
    "## ## Why ResNets work\n",
    "\n",
    "A deeper network can hurt the training ability.\n",
    "\n",
    "![](media/rn6.png)\n",
    "\n",
    "In case we run weight decay, this might happen:\n",
    "\n",
    "![](media/rn7.png)\n",
    "\n",
    "It is easy for the activation block to learn the identity function (i.e. $f(x) = x$).\n",
    "\n",
    "Which means it'll just copy the value\n",
    "\n",
    "$a^{[l+2]} = a^{[l]}$\n",
    "\n",
    "Note that we would need the garantee that the dimensions would be the same. Then, we need to use **same convolutions**, to preserve the shape.\n",
    "\n",
    "We could multiply $a^{[l]}$ by a matrix $W_s$ with same dimension as $a^{[l+2]}$ to keep it from falling apart.\n",
    "\n",
    "$a^{[l+2]}$.shape() == $(W_s * a^{[l]})$.shape()\n",
    "___\n",
    "\n",
    "**Example:**\n",
    "\n",
    "![](media/rn8.png)\n",
    "___"
   ]
  },
  {
   "cell_type": "markdown",
   "metadata": {},
   "source": [
    "## # 1x1 Conv\n",
    "\n",
    "It doesn't make much sense to apply to a single channel matrix\n",
    "\n",
    "![](media/obo.png)\n",
    "\n",
    "But applying to a slice through channels, lead to discovering features.\n",
    "\n",
    "Apply it to a transversal slice and activate it with a ReLU. Giving us a real number to represent that section.\n",
    "\n",
    "![](media/obo2.png)\n",
    "\n",
    "![](media/obo3.png)\n",
    "\n",
    "## ## Use case:\n",
    "\n",
    "Shrinking volume, instead of $height$ and $width$:\n",
    "\n",
    "![](media/obo4.png)"
   ]
  },
  {
   "cell_type": "markdown",
   "metadata": {},
   "source": [
    "## # Inception Network\n",
    "\n",
    "[...] \"When designing a layer for a ConvNet, you might have to pick, do you want a 1 by 3 filter, or 3 by 3, or 5 by 5, or do you want a pooling layer? What the inception network does is it says, why should you do them all?\"\n",
    "\n",
    "![](media/inc.png)\n",
    "\n",
    "Do them all, concatenate the outputs, and let the network learn it's paremeters:\n",
    "\n",
    "![](media/inc2.png)\n",
    "\n",
    "Note that, it'll lead to a high *computational cost*!\n",
    "___\n",
    "\n",
    "Let's focus on the $5x5$ filter:\n",
    "\n",
    "![](media/inc3.png)\n",
    "\n",
    "Instead, use $1x1 Conv$:\n",
    "\n",
    "![](media/inc4.png)\n",
    "\n",
    "Instead of 120 millions, we'll do 12.4 millions. Almost 10 times less multiplications.\n",
    "\n",
    "![](media/inc5.png)\n",
    "___\n",
    "\n",
    "**Example:**\n",
    "\n",
    "![](media/inc6.png)\n",
    "\n",
    "GoogleNet:\n",
    "\n",
    "![](media/inc7.png)\n",
    "\n",
    "Note that the side branches try to make predictions using softmax as the network runs.\n",
    "\n",
    "![](media/inc8.png)"
   ]
  },
  {
   "cell_type": "markdown",
   "metadata": {},
   "source": [
    "## # Transfer Learning\n",
    "\n",
    "(*Remember Course 3: Week 2*)\n",
    "\n",
    "![](media/trans.png)\n",
    "\n",
    "You could also freeze fewer layers.\n",
    "\n",
    "![](media/trans2.png)\n",
    "\n",
    "Or, if your dataset is big enough, use the downloaded weights as initialization (instead of random initialization) and train on the entire network.\n",
    "\n",
    "![](media/trans3.png)"
   ]
  },
  {
   "cell_type": "markdown",
   "metadata": {},
   "source": [
    "## # Data augmentation\n",
    "\n",
    "Common techniques:\n",
    "\n",
    "- Image size manipulation:\n",
    "\n",
    "![](media/dag.png)\n",
    "\n",
    "- Color shifting:\n",
    "\n",
    "![](media/dag2.png)"
   ]
  },
  {
   "cell_type": "code",
   "execution_count": null,
   "metadata": {},
   "outputs": [],
   "source": []
  }
 ],
 "metadata": {
  "kernelspec": {
   "display_name": "Python 3",
   "language": "python",
   "name": "python3"
  },
  "language_info": {
   "codemirror_mode": {
    "name": "ipython",
    "version": 3
   },
   "file_extension": ".py",
   "mimetype": "text/x-python",
   "name": "python",
   "nbconvert_exporter": "python",
   "pygments_lexer": "ipython3",
   "version": "3.6.8"
  }
 },
 "nbformat": 4,
 "nbformat_minor": 2
}
