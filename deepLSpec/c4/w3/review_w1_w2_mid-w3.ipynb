{
 "cells": [
  {
   "cell_type": "markdown",
   "metadata": {},
   "source": [
    "# # Review: Week 1, 2 and mid week 3"
   ]
  },
  {
   "cell_type": "markdown",
   "metadata": {},
   "source": [
    "## ## Week 1"
   ]
  },
  {
   "cell_type": "markdown",
   "metadata": {},
   "source": [
    "## I) Edge detection"
   ]
  },
  {
   "cell_type": "code",
   "execution_count": 393,
   "metadata": {},
   "outputs": [],
   "source": [
    "import numpy as np\n",
    "from sklearn import datasets\n",
    "import matplotlib.pyplot as plt"
   ]
  },
  {
   "cell_type": "code",
   "execution_count": 394,
   "metadata": {},
   "outputs": [],
   "source": [
    "dt = datasets.load_digits()"
   ]
  },
  {
   "cell_type": "code",
   "execution_count": 395,
   "metadata": {},
   "outputs": [],
   "source": [
    "# print(dt.DESCR)"
   ]
  },
  {
   "cell_type": "code",
   "execution_count": 396,
   "metadata": {},
   "outputs": [
    {
     "data": {
      "text/plain": [
       "(1797, 1797, 10, 1797)"
      ]
     },
     "execution_count": 396,
     "metadata": {},
     "output_type": "execute_result"
    }
   ],
   "source": [
    "len(dt.data), len(dt.target), len(dt.target_names), len(dt.images)"
   ]
  },
  {
   "cell_type": "code",
   "execution_count": 397,
   "metadata": {},
   "outputs": [
    {
     "data": {
      "text/plain": [
       "(1797, 64)"
      ]
     },
     "execution_count": 397,
     "metadata": {},
     "output_type": "execute_result"
    }
   ],
   "source": [
    "dt.data.shape"
   ]
  },
  {
   "cell_type": "code",
   "execution_count": 398,
   "metadata": {},
   "outputs": [
    {
     "data": {
      "text/plain": [
       "(1797,)"
      ]
     },
     "execution_count": 398,
     "metadata": {},
     "output_type": "execute_result"
    }
   ],
   "source": [
    "dt.target.shape"
   ]
  },
  {
   "cell_type": "code",
   "execution_count": 399,
   "metadata": {},
   "outputs": [
    {
     "data": {
      "text/plain": [
       "(1797, 8, 8)"
      ]
     },
     "execution_count": 399,
     "metadata": {},
     "output_type": "execute_result"
    }
   ],
   "source": [
    "dt.images.shape"
   ]
  },
  {
   "cell_type": "code",
   "execution_count": 400,
   "metadata": {},
   "outputs": [
    {
     "name": "stdout",
     "output_type": "stream",
     "text": [
      "vector:\n",
      "[[ 0.  0.  0. 12. 13.  5.  0.  0.]\n",
      " [ 0.  0.  0. 11. 16.  9.  0.  0.]\n",
      " [ 0.  0.  3. 15. 16.  6.  0.  0.]\n",
      " [ 0.  7. 15. 16. 16.  2.  0.  0.]\n",
      " [ 0.  0.  1. 16. 16.  3.  0.  0.]\n",
      " [ 0.  0.  1. 16. 16.  6.  0.  0.]\n",
      " [ 0.  0.  1. 16. 16.  6.  0.  0.]\n",
      " [ 0.  0.  0. 11. 16. 10.  0.  0.]]\n",
      "label:1\n"
     ]
    }
   ],
   "source": [
    "no1 = dt.images[1]\n",
    "no1_target = dt.target[1]\n",
    "\n",
    "print('vector:\\n{}\\nlabel:{}'.format(no1, no1_target))"
   ]
  },
  {
   "cell_type": "markdown",
   "metadata": {},
   "source": [
    "The above array would look like something like this:\n",
    "\n",
    "![](media/1.png)"
   ]
  },
  {
   "cell_type": "markdown",
   "metadata": {},
   "source": [
    "*(Check below to see that I got that right lol)*"
   ]
  },
  {
   "cell_type": "code",
   "execution_count": 401,
   "metadata": {},
   "outputs": [
    {
     "data": {
      "image/png": "[encoded data removed]",
      "text/plain": [
       "<Figure size 216x216 with 1 Axes>"
      ]
     },
     "metadata": {
      "needs_background": "light"
     },
     "output_type": "display_data"
    }
   ],
   "source": [
    "plt.figure(1, figsize=(3, 3))\n",
    "plt.imshow(no1, cmap=plt.cm.gray_r, interpolation='nearest')\n",
    "plt.show()"
   ]
  },
  {
   "cell_type": "markdown",
   "metadata": {},
   "source": [
    "___\n",
    "\n",
    "**Example: Vertical edge detection**"
   ]
  },
  {
   "cell_type": "markdown",
   "metadata": {},
   "source": [
    "Define the edge detector:"
   ]
  },
  {
   "cell_type": "code",
   "execution_count": 402,
   "metadata": {},
   "outputs": [],
   "source": [
    "v_edge_detector = np.array([\n",
    "                        [1, 0, -1],\n",
    "                        [1, 0, -1],\n",
    "                        [1, 0, -1]\n",
    "])"
   ]
  },
  {
   "cell_type": "markdown",
   "metadata": {},
   "source": [
    "Let's define helper functions:"
   ]
  },
  {
   "cell_type": "code",
   "execution_count": 435,
   "metadata": {},
   "outputs": [],
   "source": [
    "# Walk over the picture\n",
    "\n",
    "def stride(_image, _filter, add_stride=0):\n",
    "    coords = []\n",
    "    h = _image.shape[0]\n",
    "    w = _image.shape[1]\n",
    "    f_h = _filter.shape[0]\n",
    "    f_w = _filter.shape[1]\n",
    "    # Note that we don't need to set default stride value\n",
    "    # of 1 because we are already iterating over the\n",
    "    # lines and columns\n",
    "    for line in range(h):\n",
    "        for col in range(w):\n",
    "            start = line, col\n",
    "            end = line + f_h + add_stride, col + f_w + add_stride\n",
    "            if end[0] <= h:\n",
    "                if end[1] <=  w:\n",
    "                    coords.append([start, end])\n",
    "    return coords"
   ]
  },
  {
   "cell_type": "code",
   "execution_count": 436,
   "metadata": {},
   "outputs": [],
   "source": [
    "# Perform the convolution\n",
    "    \n",
    "def conv2d(_image, _filter, add_stride=0, verbose=True):\n",
    "    convs = []\n",
    "    coords = stride(_image, _filter, add_stride)\n",
    "    f_x = _filter.shape[0]\n",
    "    f_y = _filter.shape[1]\n",
    "    for c in coords:\n",
    "        # start\n",
    "        s_x = c[0][0]\n",
    "        s_y = c[0][1]\n",
    "        # end\n",
    "        e_x = c[1][0]\n",
    "        e_y = c[1][1]\n",
    "        window = _image[s_x:e_x, s_y:e_y]\n",
    "        conv = window * _filter\n",
    "        det = np.sum(conv)\n",
    "        convs.append(det)\n",
    "        if verbose == True:\n",
    "            print('Coords: {}'.format(c))\n",
    "            print('Slice:\\n{}'.format(window))\n",
    "            print('Conv:\\n{}'.format(conv))\n",
    "            print('Sum: {}'.format(det) + '\\n')\n",
    "    # We need to save the results from each convolution\n",
    "    # in our new convolution result matrix\n",
    "    # The result matrix shall have height and width:\n",
    "    # (h_prev - filter_h) + 1\n",
    "    r_h = _image.shape[0] - f_x + 1\n",
    "    r_w = _image.shape[1] - f_y + 1\n",
    "    # No, fill in the values from the convolution\n",
    "    # into the result matrix\n",
    "    r = np.array(convs).reshape(r_h, r_w)\n",
    "    return r"
   ]
  },
  {
   "cell_type": "markdown",
   "metadata": {},
   "source": [
    "**Case I**:"
   ]
  },
  {
   "cell_type": "code",
   "execution_count": 405,
   "metadata": {},
   "outputs": [
    {
     "data": {
      "text/plain": [
       "(array([[10, 10, 10,  0,  0,  0],\n",
       "        [10, 10, 10,  0,  0,  0],\n",
       "        [10, 10, 10,  0,  0,  0],\n",
       "        [10, 10, 10,  0,  0,  0],\n",
       "        [10, 10, 10,  0,  0,  0],\n",
       "        [10, 10, 10,  0,  0,  0]]), (6, 6))"
      ]
     },
     "execution_count": 405,
     "metadata": {},
     "output_type": "execute_result"
    }
   ],
   "source": [
    "vertical_array = np.array([\n",
    "    [10, 10, 10, 0, 0, 0],\n",
    "    [10, 10, 10, 0, 0, 0],\n",
    "    [10, 10, 10, 0, 0, 0],\n",
    "    [10, 10, 10, 0, 0, 0],\n",
    "    [10, 10, 10, 0, 0, 0],\n",
    "    [10, 10, 10, 0, 0, 0]\n",
    "    ])\n",
    "\n",
    "vertical_array, vertical_array.shape"
   ]
  },
  {
   "cell_type": "code",
   "execution_count": 438,
   "metadata": {},
   "outputs": [
    {
     "data": {
      "text/plain": [
       "array([[ 0, 30, 30,  0],\n",
       "       [ 0, 30, 30,  0],\n",
       "       [ 0, 30, 30,  0],\n",
       "       [ 0, 30, 30,  0]])"
      ]
     },
     "execution_count": 438,
     "metadata": {},
     "output_type": "execute_result"
    }
   ],
   "source": [
    "vertical_conv = conv2d(vertical_array, v_edge_detector, verbose=False)\n",
    "vertical_conv"
   ]
  },
  {
   "cell_type": "code",
   "execution_count": 407,
   "metadata": {},
   "outputs": [
    {
     "data": {
      "text/plain": [
       "array([[False,  True,  True, False],\n",
       "       [False,  True,  True, False],\n",
       "       [False,  True,  True, False],\n",
       "       [False,  True,  True, False]])"
      ]
     },
     "execution_count": 407,
     "metadata": {},
     "output_type": "execute_result"
    }
   ],
   "source": [
    "vertical_conv > 0"
   ]
  },
  {
   "cell_type": "markdown",
   "metadata": {},
   "source": [
    "**Case II**:"
   ]
  },
  {
   "cell_type": "code",
   "execution_count": 408,
   "metadata": {},
   "outputs": [
    {
     "data": {
      "text/plain": [
       "array([[ 0.,  0.,  0., 12., 13.,  5.,  0.,  0.],\n",
       "       [ 0.,  0.,  0., 11., 16.,  9.,  0.,  0.],\n",
       "       [ 0.,  0.,  3., 15., 16.,  6.,  0.,  0.],\n",
       "       [ 0.,  7., 15., 16., 16.,  2.,  0.,  0.],\n",
       "       [ 0.,  0.,  1., 16., 16.,  3.,  0.,  0.],\n",
       "       [ 0.,  0.,  1., 16., 16.,  6.,  0.,  0.],\n",
       "       [ 0.,  0.,  1., 16., 16.,  6.,  0.,  0.],\n",
       "       [ 0.,  0.,  0., 11., 16., 10.,  0.,  0.]])"
      ]
     },
     "execution_count": 408,
     "metadata": {},
     "output_type": "execute_result"
    }
   ],
   "source": [
    "no1"
   ]
  },
  {
   "cell_type": "code",
   "execution_count": 409,
   "metadata": {},
   "outputs": [
    {
     "data": {
      "image/png": "[encoded data removed]",
      "text/plain": [
       "<Figure size 216x216 with 1 Axes>"
      ]
     },
     "metadata": {
      "needs_background": "light"
     },
     "output_type": "display_data"
    }
   ],
   "source": [
    "plt.figure(1, figsize=(3, 3))\n",
    "plt.imshow(no1, cmap=plt.cm.gray_r, interpolation='nearest')\n",
    "plt.show()"
   ]
  },
  {
   "cell_type": "code",
   "execution_count": 440,
   "metadata": {
    "scrolled": false
   },
   "outputs": [
    {
     "data": {
      "text/plain": [
       "array([[ -3., -38., -42.,  18.,  45.,  20.],\n",
       "       [-18., -35., -30.,  25.,  48.,  17.],\n",
       "       [-19., -40., -29.,  36.,  48.,  11.],\n",
       "       [-17., -41., -31.,  37.,  48.,  11.],\n",
       "       [ -3., -48., -45.,  33.,  48.,  15.],\n",
       "       [ -2., -43., -46.,  21.,  48.,  22.]])"
      ]
     },
     "execution_count": 440,
     "metadata": {},
     "output_type": "execute_result"
    }
   ],
   "source": [
    "no1_conv_v = conv2d(no1, v_edge_detector, verbose=False)\n",
    "no1_conv_v"
   ]
  },
  {
   "cell_type": "markdown",
   "metadata": {},
   "source": [
    "Let's see it another way:"
   ]
  },
  {
   "cell_type": "code",
   "execution_count": 411,
   "metadata": {},
   "outputs": [
    {
     "data": {
      "text/plain": [
       "array([[False, False, False,  True,  True,  True],\n",
       "       [False, False, False,  True,  True,  True],\n",
       "       [False, False, False,  True,  True,  True],\n",
       "       [False, False, False,  True,  True,  True],\n",
       "       [False, False, False,  True,  True,  True],\n",
       "       [False, False, False,  True,  True,  True]])"
      ]
     },
     "execution_count": 411,
     "metadata": {},
     "output_type": "execute_result"
    }
   ],
   "source": [
    "no1_conv_v > 0"
   ]
  },
  {
   "cell_type": "markdown",
   "metadata": {},
   "source": [
    "See how it captures the vertical edge?\n",
    "\n",
    "Let's try it again applying a horizontal edge detector:"
   ]
  },
  {
   "cell_type": "code",
   "execution_count": 412,
   "metadata": {},
   "outputs": [
    {
     "data": {
      "text/plain": [
       "array([[ 1,  1,  1],\n",
       "       [ 0,  0,  0],\n",
       "       [-1, -1, -1]])"
      ]
     },
     "execution_count": 412,
     "metadata": {},
     "output_type": "execute_result"
    }
   ],
   "source": [
    "h_edge_detector = v_edge_detector.T\n",
    "h_edge_detector"
   ]
  },
  {
   "cell_type": "code",
   "execution_count": 413,
   "metadata": {},
   "outputs": [
    {
     "data": {
      "text/plain": [
       "array([[ 0.,  0.,  0., 12., 13.,  5.,  0.,  0.],\n",
       "       [ 0.,  0.,  0., 11., 16.,  9.,  0.,  0.],\n",
       "       [ 0.,  0.,  3., 15., 16.,  6.,  0.,  0.],\n",
       "       [ 0.,  7., 15., 16., 16.,  2.,  0.,  0.],\n",
       "       [ 0.,  0.,  1., 16., 16.,  3.,  0.,  0.],\n",
       "       [ 0.,  0.,  1., 16., 16.,  6.,  0.,  0.],\n",
       "       [ 0.,  0.,  1., 16., 16.,  6.,  0.,  0.],\n",
       "       [ 0.,  0.,  0., 11., 16., 10.,  0.,  0.]])"
      ]
     },
     "execution_count": 413,
     "metadata": {},
     "output_type": "execute_result"
    }
   ],
   "source": [
    "no1"
   ]
  },
  {
   "cell_type": "code",
   "execution_count": 414,
   "metadata": {},
   "outputs": [
    {
     "data": {
      "image/png": "[encoded data removed]",
      "text/plain": [
       "<Figure size 216x216 with 1 Axes>"
      ]
     },
     "metadata": {
      "needs_background": "light"
     },
     "output_type": "display_data"
    }
   ],
   "source": [
    "plt.figure(1, figsize=(3, 3))\n",
    "plt.imshow(no1, cmap=plt.cm.gray_r, interpolation='nearest')\n",
    "plt.show()"
   ]
  },
  {
   "cell_type": "code",
   "execution_count": 441,
   "metadata": {},
   "outputs": [],
   "source": [
    "no1_conv_h = conv2d(no1, h_edge_detector, verbose=False)"
   ]
  },
  {
   "cell_type": "code",
   "execution_count": 442,
   "metadata": {},
   "outputs": [
    {
     "data": {
      "text/plain": [
       "array([[False, False, False, False, False, False],\n",
       "       [False, False, False,  True,  True,  True],\n",
       "       [ True,  True,  True,  True,  True,  True],\n",
       "       [ True,  True,  True, False, False, False],\n",
       "       [False, False, False, False, False, False],\n",
       "       [ True,  True,  True,  True, False, False]])"
      ]
     },
     "execution_count": 442,
     "metadata": {},
     "output_type": "execute_result"
    }
   ],
   "source": [
    "no1_conv_h > 0"
   ]
  },
  {
   "cell_type": "markdown",
   "metadata": {},
   "source": [
    "**Case III:**\n",
    "\n",
    "Let's do it for another number:"
   ]
  },
  {
   "cell_type": "code",
   "execution_count": 417,
   "metadata": {},
   "outputs": [
    {
     "name": "stdout",
     "output_type": "stream",
     "text": [
      "vector:\n",
      "[[ 0.  2.  9. 15. 14.  9.  3.  0.]\n",
      " [ 0.  4. 13.  8.  9. 16.  8.  0.]\n",
      " [ 0.  0.  0.  6. 14. 15.  3.  0.]\n",
      " [ 0.  0.  0. 11. 14.  2.  0.  0.]\n",
      " [ 0.  0.  0.  2. 15. 11.  0.  0.]\n",
      " [ 0.  0.  0.  0.  2. 15.  4.  0.]\n",
      " [ 0.  1.  5.  6. 13. 16.  6.  0.]\n",
      " [ 0.  2. 12. 12. 13. 11.  0.  0.]]\n",
      "label:3\n"
     ]
    }
   ],
   "source": [
    "no3 = dt.images[13]\n",
    "no3_target = dt.target[13]\n",
    "\n",
    "print('vector:\\n{}\\nlabel:{}'.format(no3, no3_target))"
   ]
  },
  {
   "cell_type": "code",
   "execution_count": 418,
   "metadata": {},
   "outputs": [
    {
     "data": {
      "image/png": "[encoded data removed]",
      "text/plain": [
       "<Figure size 216x216 with 1 Axes>"
      ]
     },
     "metadata": {
      "needs_background": "light"
     },
     "output_type": "display_data"
    }
   ],
   "source": [
    "plt.figure(1, figsize=(3, 3))\n",
    "plt.imshow(no3, cmap=plt.cm.gray_r, interpolation='nearest')\n",
    "plt.show()"
   ]
  },
  {
   "cell_type": "markdown",
   "metadata": {},
   "source": [
    "![](media/3.png)"
   ]
  },
  {
   "cell_type": "code",
   "execution_count": 443,
   "metadata": {},
   "outputs": [],
   "source": [
    "no3_conv_v = conv2d(no3, v_edge_detector, verbose=False)\n",
    "no3_conv_h = conv2d(no3, h_edge_detector, verbose=False)"
   ]
  },
  {
   "cell_type": "code",
   "execution_count": 420,
   "metadata": {},
   "outputs": [
    {
     "data": {
      "text/plain": [
       "array([[-22., -23., -15., -11.,  23.,  40.],\n",
       "       [-13., -21., -24.,  -8.,  26.,  33.],\n",
       "       [  0., -19., -43.,  -9.,  40.,  28.],\n",
       "       [  0., -13., -31., -15.,  27.,  28.],\n",
       "       [ -5.,  -7., -25., -34.,  20.,  42.],\n",
       "       [-17., -15., -11., -24.,  18.,  42.]])"
      ]
     },
     "execution_count": 420,
     "metadata": {},
     "output_type": "execute_result"
    }
   ],
   "source": [
    "no3_conv_v"
   ]
  },
  {
   "cell_type": "code",
   "execution_count": 421,
   "metadata": {},
   "outputs": [
    {
     "data": {
      "text/plain": [
       "array([[False, False, False, False,  True,  True],\n",
       "       [False, False, False, False,  True,  True],\n",
       "       [False, False, False, False,  True,  True],\n",
       "       [False, False, False, False,  True,  True],\n",
       "       [False, False, False, False,  True,  True],\n",
       "       [False, False, False, False,  True,  True]])"
      ]
     },
     "execution_count": 421,
     "metadata": {},
     "output_type": "execute_result"
    }
   ],
   "source": [
    "no3_conv_v > 0"
   ]
  },
  {
   "cell_type": "code",
   "execution_count": 422,
   "metadata": {},
   "outputs": [
    {
     "data": {
      "text/plain": [
       "array([[ 11.,  20.,  18.,   3.,  -6.,  -6.],\n",
       "       [ 17.,  14.,   5.,   6.,  17.,  22.],\n",
       "       [  0.,   4.,   3.,   7.,   6.,   7.],\n",
       "       [  0.,  11.,  23.,  10.,  -5., -17.],\n",
       "       [ -6., -10.,  -7.,  -7.,  -9., -11.],\n",
       "       [-14., -26., -35., -19.,  -3.,   8.]])"
      ]
     },
     "execution_count": 422,
     "metadata": {},
     "output_type": "execute_result"
    }
   ],
   "source": [
    "no3_conv_h"
   ]
  },
  {
   "cell_type": "code",
   "execution_count": 423,
   "metadata": {},
   "outputs": [
    {
     "data": {
      "text/plain": [
       "array([[ True,  True,  True,  True, False, False],\n",
       "       [ True,  True,  True,  True,  True,  True],\n",
       "       [False,  True,  True,  True,  True,  True],\n",
       "       [False,  True,  True,  True, False, False],\n",
       "       [False, False, False, False, False, False],\n",
       "       [False, False, False, False, False,  True]])"
      ]
     },
     "execution_count": 423,
     "metadata": {},
     "output_type": "execute_result"
    }
   ],
   "source": [
    "no3_conv_h > 0"
   ]
  },
  {
   "cell_type": "markdown",
   "metadata": {},
   "source": [
    "___\n",
    "We may also use the filter matrix values as parameters to be learned by backprop:\n",
    "\n",
    "![](media/pback.png)\n",
    "\n",
    "Just remember that the *Loss* will point out how fare we are from the actual target, and the learning rate together with the partial derivatives will update the weights, leading them to our goal of feature detection.\n",
    "___"
   ]
  },
  {
   "cell_type": "markdown",
   "metadata": {},
   "source": [
    "## II) Convolutions over volume"
   ]
  },
  {
   "cell_type": "markdown",
   "metadata": {},
   "source": [
    "We will apply convolution in the following form:\n",
    "\n",
    "$Image_{6x6x3} * Filter_{3x3x3} = Conv_{4x4}$\n",
    "\n",
    "Note that since the image has 3 channels, the filter also have to, so it handles the image well."
   ]
  },
  {
   "cell_type": "markdown",
   "metadata": {},
   "source": [
    "___\n",
    "**Example:**"
   ]
  },
  {
   "cell_type": "code",
   "execution_count": 424,
   "metadata": {},
   "outputs": [],
   "source": [
    "from PIL import Image"
   ]
  },
  {
   "cell_type": "markdown",
   "metadata": {},
   "source": [
    "**Behold my mighty sunflower and its pixels!**"
   ]
  },
  {
   "cell_type": "code",
   "execution_count": 430,
   "metadata": {},
   "outputs": [],
   "source": [
    "image = Image.open('media/sunflower.jpeg')"
   ]
  },
  {
   "cell_type": "code",
   "execution_count": 431,
   "metadata": {},
   "outputs": [
    {
     "data": {
      "image/png": "[encoded data removed]",
      "text/plain": [
       "<Figure size 216x216 with 1 Axes>"
      ]
     },
     "metadata": {
      "needs_background": "light"
     },
     "output_type": "display_data"
    }
   ],
   "source": [
    "plt.figure(1, figsize=(3, 3))\n",
    "plt.imshow(image, cmap=plt.cm.gray_r, interpolation='nearest')\n",
    "plt.show()"
   ]
  },
  {
   "cell_type": "markdown",
   "metadata": {},
   "source": [
    "Notice it's three (RGB) channels"
   ]
  },
  {
   "cell_type": "code",
   "execution_count": 457,
   "metadata": {},
   "outputs": [
    {
     "data": {
      "text/plain": [
       "(8, 8, 3)"
      ]
     },
     "execution_count": 457,
     "metadata": {},
     "output_type": "execute_result"
    }
   ],
   "source": [
    "sunf = np.asarray(image)\n",
    "sunf.shape"
   ]
  },
  {
   "cell_type": "markdown",
   "metadata": {},
   "source": [
    "Let's try again with the *vertical edge detection*."
   ]
  },
  {
   "cell_type": "code",
   "execution_count": 479,
   "metadata": {},
   "outputs": [
    {
     "data": {
      "text/plain": [
       "(3, 3, 3)"
      ]
     },
     "execution_count": 479,
     "metadata": {},
     "output_type": "execute_result"
    }
   ],
   "source": [
    "vert_detect_3d = np.array([\n",
    "                            [\n",
    "                                [1, 0, -1],\n",
    "                                [1, 0, -1],\n",
    "                                [1, 0, -1]\n",
    "                            ],\n",
    "                            [\n",
    "                                [1, 0, -1],\n",
    "                                [1, 0, -1],\n",
    "                                [1, 0, -1]\n",
    "                            ],\n",
    "                            [\n",
    "                                [1, 0, -1],\n",
    "                                [1, 0, -1],\n",
    "                                [1, 0, -1]\n",
    "                            ]\n",
    "                        ])\n",
    "\n",
    "vert_detect_3d.shape"
   ]
  },
  {
   "cell_type": "markdown",
   "metadata": {},
   "source": [
    "For pixel values, typically zero is taken to be black, and 255 is taken to be white.\n",
    "\n",
    "Let's divide all pixels by 255 to keep it simple."
   ]
  },
  {
   "cell_type": "code",
   "execution_count": 474,
   "metadata": {},
   "outputs": [],
   "source": [
    "sunf = sunf/255.0"
   ]
  },
  {
   "cell_type": "markdown",
   "metadata": {},
   "source": [
    "We need to apply it to EACH channel.\n",
    "\n",
    "Helper function time:"
   ]
  },
  {
   "cell_type": "code",
   "execution_count": 482,
   "metadata": {},
   "outputs": [],
   "source": [
    "def stride3d(_image, _filter, add_stride=0):\n",
    "    coords = []\n",
    "    h = _image.shape[0]\n",
    "    w = _image.shape[1]\n",
    "    c = _image.shape[2]\n",
    "    f_h = _filter.shape[0]\n",
    "    f_w = _filter.shape[1]\n",
    "    f_c = _filter.shape[2]\n",
    "    # Note that we don't need to set default stride value\n",
    "    # of 1 because we are already iterating over the\n",
    "    # lines and columns\n",
    "    for channel in range(c):\n",
    "        for line in range(h):\n",
    "            for col in range(w):\n",
    "                start = line, col\n",
    "                end = line + f_h + add_stride, col + f_w + add_stride\n",
    "                if end[0] <= h:\n",
    "                    if end[1] <=  w:\n",
    "                        coords.append([start, end, channel])\n",
    "    return coords   "
   ]
  },
  {
   "cell_type": "code",
   "execution_count": 535,
   "metadata": {},
   "outputs": [],
   "source": [
    "# stride3d(_image=sunf, _filter=vert_detect_3d)"
   ]
  },
  {
   "cell_type": "code",
   "execution_count": 547,
   "metadata": {},
   "outputs": [],
   "source": [
    "def conv3d(_image, _filter, add_stride=0, verbose=False):\n",
    "    convs = []\n",
    "    coords = stride3d(_image, _filter)\n",
    "    f_x = _filter.shape[0]\n",
    "    f_y = _filter.shape[1]\n",
    "    f_z = _filter.shape[2]\n",
    "    for xyc in coords:\n",
    "        #channel\n",
    "        s_c = xyc[2]\n",
    "        # start\n",
    "        s_x = xyc[0][0]\n",
    "        s_y = xyc[0][1]\n",
    "        # end\n",
    "        e_x = xyc[1][0]\n",
    "        e_y = xyc[1][1]\n",
    "        window = _image[s_x:e_x, s_y:e_y, s_c]\n",
    "        conv = window * _filter\n",
    "        det = np.sum(conv)\n",
    "        convs.append(det)\n",
    "        if verbose == True:\n",
    "            print('Coords: {}'.format(xyc))\n",
    "            print('Slice:\\n{}'.format(window))\n",
    "            print('Conv:\\n{}'.format(conv))\n",
    "            print('Sum: {}'.format(det) + '\\n')\n",
    "    # We need to save the results from each convolution\n",
    "    # in our new convolution result matrix\n",
    "    # The result matrix shall have height and width:\n",
    "    # (h_prev - filter_h) + 1\n",
    "    r_h = _image.shape[0] - f_x + 1\n",
    "    r_w = _image.shape[1] - f_y + 1\n",
    "    r_c = _image.shape[2]\n",
    "    # No, fill in the values from the convolution\n",
    "    # into the result matrix\n",
    "    r = np.array(convs).reshape(r_h, r_w, r_c)\n",
    "    return r    "
   ]
  },
  {
   "cell_type": "code",
   "execution_count": 551,
   "metadata": {
    "scrolled": false
   },
   "outputs": [],
   "source": [
    "sunf_conv = conv3d(_image=sunf, _filter=vert_detect_3d, verbose=False)"
   ]
  },
  {
   "cell_type": "code",
   "execution_count": 553,
   "metadata": {},
   "outputs": [
    {
     "data": {
      "text/plain": [
       "(6, 6, 3)"
      ]
     },
     "execution_count": 553,
     "metadata": {},
     "output_type": "execute_result"
    }
   ],
   "source": [
    "sunf_conv.shape"
   ]
  },
  {
   "cell_type": "code",
   "execution_count": 560,
   "metadata": {},
   "outputs": [
    {
     "data": {
      "image/png": "[encoded data removed]",
      "text/plain": [
       "<Figure size 216x216 with 1 Axes>"
      ]
     },
     "metadata": {
      "needs_background": "light"
     },
     "output_type": "display_data"
    }
   ],
   "source": [
    "plt.figure(1, figsize=(3, 3))\n",
    "plt.imshow(image, cmap=plt.cm.gray_r, interpolation='nearest')\n",
    "plt.show()"
   ]
  },
  {
   "cell_type": "code",
   "execution_count": 557,
   "metadata": {},
   "outputs": [
    {
     "data": {
      "text/plain": [
       "array([[ True, False,  True, False,  True, False],\n",
       "       [ True, False,  True, False,  True, False],\n",
       "       [ True, False,  True, False,  True, False],\n",
       "       [ True,  True,  True, False,  True, False],\n",
       "       [ True, False,  True, False,  True, False],\n",
       "       [ True, False,  True, False,  True, False]])"
      ]
     },
     "execution_count": 557,
     "metadata": {},
     "output_type": "execute_result"
    }
   ],
   "source": [
    "sunf_conv[:, :, 0] > 0"
   ]
  },
  {
   "cell_type": "code",
   "execution_count": 558,
   "metadata": {},
   "outputs": [
    {
     "data": {
      "text/plain": [
       "array([[False,  True, False,  True, False,  True],\n",
       "       [ True, False,  True, False,  True, False],\n",
       "       [False,  True, False,  True, False,  True],\n",
       "       [False,  True, False, False,  True, False],\n",
       "       [False, False,  True, False, False,  True],\n",
       "       [ True, False,  True, False,  True, False]])"
      ]
     },
     "execution_count": 558,
     "metadata": {},
     "output_type": "execute_result"
    }
   ],
   "source": [
    "sunf_conv[:, :, 1] > 0"
   ]
  },
  {
   "cell_type": "code",
   "execution_count": 559,
   "metadata": {},
   "outputs": [
    {
     "data": {
      "text/plain": [
       "array([[False, False,  True, False,  True, False],\n",
       "       [ True, False,  True, False,  True, False],\n",
       "       [ True, False,  True, False, False, False],\n",
       "       [False, False,  True, False,  True, False],\n",
       "       [ True, False,  True, False,  True, False],\n",
       "       [ True, False,  True, False,  True, False]])"
      ]
     },
     "execution_count": 559,
     "metadata": {},
     "output_type": "execute_result"
    }
   ],
   "source": [
    "sunf_conv[:, :, 2] > 0"
   ]
  },
  {
   "cell_type": "markdown",
   "metadata": {},
   "source": [
    "There you got it!\n",
    "___"
   ]
  },
  {
   "cell_type": "code",
   "execution_count": null,
   "metadata": {},
   "outputs": [],
   "source": []
  },
  {
   "cell_type": "code",
   "execution_count": null,
   "metadata": {},
   "outputs": [],
   "source": []
  },
  {
   "cell_type": "code",
   "execution_count": null,
   "metadata": {},
   "outputs": [],
   "source": []
  },
  {
   "cell_type": "code",
   "execution_count": null,
   "metadata": {},
   "outputs": [],
   "source": []
  },
  {
   "cell_type": "code",
   "execution_count": null,
   "metadata": {},
   "outputs": [],
   "source": []
  },
  {
   "cell_type": "code",
   "execution_count": null,
   "metadata": {},
   "outputs": [],
   "source": []
  },
  {
   "cell_type": "code",
   "execution_count": null,
   "metadata": {},
   "outputs": [],
   "source": []
  },
  {
   "cell_type": "code",
   "execution_count": null,
   "metadata": {},
   "outputs": [],
   "source": []
  },
  {
   "cell_type": "code",
   "execution_count": null,
   "metadata": {},
   "outputs": [],
   "source": []
  },
  {
   "cell_type": "code",
   "execution_count": null,
   "metadata": {},
   "outputs": [],
   "source": []
  },
  {
   "cell_type": "code",
   "execution_count": null,
   "metadata": {},
   "outputs": [],
   "source": []
  },
  {
   "cell_type": "code",
   "execution_count": null,
   "metadata": {},
   "outputs": [],
   "source": []
  },
  {
   "cell_type": "code",
   "execution_count": null,
   "metadata": {},
   "outputs": [],
   "source": []
  },
  {
   "cell_type": "code",
   "execution_count": null,
   "metadata": {},
   "outputs": [],
   "source": []
  },
  {
   "cell_type": "code",
   "execution_count": null,
   "metadata": {},
   "outputs": [],
   "source": []
  },
  {
   "cell_type": "code",
   "execution_count": null,
   "metadata": {},
   "outputs": [],
   "source": []
  },
  {
   "cell_type": "code",
   "execution_count": null,
   "metadata": {},
   "outputs": [],
   "source": []
  },
  {
   "cell_type": "code",
   "execution_count": null,
   "metadata": {},
   "outputs": [],
   "source": []
  },
  {
   "cell_type": "code",
   "execution_count": null,
   "metadata": {},
   "outputs": [],
   "source": []
  },
  {
   "cell_type": "code",
   "execution_count": null,
   "metadata": {},
   "outputs": [],
   "source": []
  },
  {
   "cell_type": "code",
   "execution_count": null,
   "metadata": {},
   "outputs": [],
   "source": []
  },
  {
   "cell_type": "code",
   "execution_count": null,
   "metadata": {},
   "outputs": [],
   "source": []
  },
  {
   "cell_type": "code",
   "execution_count": null,
   "metadata": {},
   "outputs": [],
   "source": []
  },
  {
   "cell_type": "code",
   "execution_count": null,
   "metadata": {},
   "outputs": [],
   "source": []
  },
  {
   "cell_type": "code",
   "execution_count": null,
   "metadata": {},
   "outputs": [],
   "source": []
  },
  {
   "cell_type": "code",
   "execution_count": null,
   "metadata": {},
   "outputs": [],
   "source": []
  },
  {
   "cell_type": "code",
   "execution_count": null,
   "metadata": {},
   "outputs": [],
   "source": []
  },
  {
   "cell_type": "code",
   "execution_count": null,
   "metadata": {},
   "outputs": [],
   "source": []
  },
  {
   "cell_type": "code",
   "execution_count": null,
   "metadata": {},
   "outputs": [],
   "source": []
  },
  {
   "cell_type": "code",
   "execution_count": null,
   "metadata": {},
   "outputs": [],
   "source": []
  }
 ],
 "metadata": {
  "kernelspec": {
   "display_name": "Python 3",
   "language": "python",
   "name": "python3"
  },
  "language_info": {
   "codemirror_mode": {
    "name": "ipython",
    "version": 3
   },
   "file_extension": ".py",
   "mimetype": "text/x-python",
   "name": "python",
   "nbconvert_exporter": "python",
   "pygments_lexer": "ipython3",
   "version": "3.6.9"
  }
 },
 "nbformat": 4,
 "nbformat_minor": 2
}
