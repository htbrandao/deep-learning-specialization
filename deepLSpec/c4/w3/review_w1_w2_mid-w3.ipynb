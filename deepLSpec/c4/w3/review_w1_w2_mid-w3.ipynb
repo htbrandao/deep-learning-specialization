{
 "cells": [
  {
   "cell_type": "markdown",
   "metadata": {},
   "source": [
    "# # Review: Week 1, 2 and mid week 3"
   ]
  },
  {
   "cell_type": "markdown",
   "metadata": {},
   "source": [
    "## ## Week 1"
   ]
  },
  {
   "cell_type": "markdown",
   "metadata": {},
   "source": [
    "## I) Edge detection"
   ]
  },
  {
   "cell_type": "code",
   "execution_count": 52,
   "metadata": {},
   "outputs": [],
   "source": [
    "import numpy as np\n",
    "from sklearn import datasets\n",
    "import matplotlib.pyplot as plt"
   ]
  },
  {
   "cell_type": "code",
   "execution_count": 53,
   "metadata": {},
   "outputs": [],
   "source": [
    "dt = datasets.load_digits()"
   ]
  },
  {
   "cell_type": "code",
   "execution_count": 54,
   "metadata": {},
   "outputs": [],
   "source": [
    "# print(dt.DESCR)"
   ]
  },
  {
   "cell_type": "code",
   "execution_count": 55,
   "metadata": {},
   "outputs": [
    {
     "data": {
      "text/plain": [
       "(1797, 1797, 10, 1797)"
      ]
     },
     "execution_count": 55,
     "metadata": {},
     "output_type": "execute_result"
    }
   ],
   "source": [
    "len(dt.data), len(dt.target), len(dt.target_names), len(dt.images)"
   ]
  },
  {
   "cell_type": "code",
   "execution_count": 56,
   "metadata": {},
   "outputs": [
    {
     "data": {
      "text/plain": [
       "(1797, 64)"
      ]
     },
     "execution_count": 56,
     "metadata": {},
     "output_type": "execute_result"
    }
   ],
   "source": [
    "dt.data.shape"
   ]
  },
  {
   "cell_type": "code",
   "execution_count": 57,
   "metadata": {},
   "outputs": [
    {
     "data": {
      "text/plain": [
       "(1797,)"
      ]
     },
     "execution_count": 57,
     "metadata": {},
     "output_type": "execute_result"
    }
   ],
   "source": [
    "dt.target.shape"
   ]
  },
  {
   "cell_type": "code",
   "execution_count": 58,
   "metadata": {},
   "outputs": [
    {
     "data": {
      "text/plain": [
       "(1797, 8, 8)"
      ]
     },
     "execution_count": 58,
     "metadata": {},
     "output_type": "execute_result"
    }
   ],
   "source": [
    "dt.images.shape"
   ]
  },
  {
   "cell_type": "code",
   "execution_count": 59,
   "metadata": {},
   "outputs": [
    {
     "name": "stdout",
     "output_type": "stream",
     "text": [
      "vector:\n",
      "[[ 0.  0.  0. 12. 13.  5.  0.  0.]\n",
      " [ 0.  0.  0. 11. 16.  9.  0.  0.]\n",
      " [ 0.  0.  3. 15. 16.  6.  0.  0.]\n",
      " [ 0.  7. 15. 16. 16.  2.  0.  0.]\n",
      " [ 0.  0.  1. 16. 16.  3.  0.  0.]\n",
      " [ 0.  0.  1. 16. 16.  6.  0.  0.]\n",
      " [ 0.  0.  1. 16. 16.  6.  0.  0.]\n",
      " [ 0.  0.  0. 11. 16. 10.  0.  0.]]\n",
      "label:1\n"
     ]
    }
   ],
   "source": [
    "no1 = dt.images[1]\n",
    "no1_target = dt.target[1]\n",
    "\n",
    "print('vector:\\n{}\\nlabel:{}'.format(no1, no1_target))"
   ]
  },
  {
   "cell_type": "markdown",
   "metadata": {},
   "source": [
    "The above array would look like something like this:\n",
    "\n",
    "![](media/1.png)"
   ]
  },
  {
   "cell_type": "markdown",
   "metadata": {},
   "source": [
    "*(Check below to see that I got that right lol)*"
   ]
  },
  {
   "cell_type": "code",
   "execution_count": 60,
   "metadata": {},
   "outputs": [
    {
     "data": {
      "image/png": "[encoded data removed]",
      "text/plain": [
       "<Figure size 216x216 with 1 Axes>"
      ]
     },
     "metadata": {
      "needs_background": "light"
     },
     "output_type": "display_data"
    }
   ],
   "source": [
    "plt.figure(1, figsize=(3, 3))\n",
    "plt.imshow(no1, cmap=plt.cm.gray_r, interpolation='nearest')\n",
    "plt.show()"
   ]
  },
  {
   "cell_type": "markdown",
   "metadata": {},
   "source": [
    "**Example: Vertical edge detection**\n",
    "\n",
    "Define the edge detector:"
   ]
  },
  {
   "cell_type": "code",
   "execution_count": 61,
   "metadata": {},
   "outputs": [],
   "source": [
    "v_edge_detector = np.array([\n",
    "                        [1, 0, -1],\n",
    "                        [1, 0, -1],\n",
    "                        [1, 0, -1]\n",
    "])"
   ]
  },
  {
   "cell_type": "markdown",
   "metadata": {},
   "source": [
    "Let's define helper functions:"
   ]
  },
  {
   "cell_type": "code",
   "execution_count": 62,
   "metadata": {},
   "outputs": [],
   "source": [
    "# Walk over the picture\n",
    "\n",
    "def stride(_image, _filter, add_stride=0):\n",
    "    coords = []\n",
    "    h = _image.shape[0]\n",
    "    w = _image.shape[1]\n",
    "    f_h = _filter.shape[0]\n",
    "    f_w = _filter.shape[1]\n",
    "    # Note that we don't need to set default stride value\n",
    "    # of 1 because we are already iterating over the\n",
    "    # lines and columns\n",
    "    for line in range(h):\n",
    "        for col in range(w):\n",
    "            start = line, col\n",
    "            end = line + f_h + add_stride, col + f_w + add_stride\n",
    "            if end[0] <= h:\n",
    "                if end[1] <=  w:\n",
    "                    coords.append([start, end])\n",
    "    return coords"
   ]
  },
  {
   "cell_type": "markdown",
   "metadata": {},
   "source": [
    "Input dimension:\n",
    "\n",
    "$n_{height}^{[l-1]}$ x $n_{width}^{[l-1]}$ x $n_{channels}^{[l-1]}$\n",
    "\n",
    "Output dimension:\n",
    "\n",
    "$n_{height}^{[l]}$ x $n_{width}^{[l]}$ x $n_{channels}^{[l]}$\n",
    "\n",
    "**where**,\n",
    "\n",
    "$n^{[l]} = floor([\\frac{n^{[l]}+2*p^{[l]}-f}{s^{[l]}} +1]$)"
   ]
  },
  {
   "cell_type": "markdown",
   "metadata": {},
   "source": [
    "**if** $height \\neq width$, **then**\n",
    "\n",
    "$n_{height}^{[l]} = floor([\\frac{n_{height}^{[l]}+2*p^{[l]}-f}{s^{[l]}} +1]$)\n",
    "\n",
    "**and**,\n",
    "\n",
    "$n_{width}^{[l]} = floor([\\frac{n_{width}^{[l]}+2*p^{[l]}-f}{s^{[l]}}+1]$)"
   ]
  },
  {
   "cell_type": "code",
   "execution_count": 63,
   "metadata": {},
   "outputs": [],
   "source": [
    "# Perform the convolution\n",
    "    \n",
    "def conv2d(_image, _filter, add_stride=0, verbose=True):\n",
    "    convs = []\n",
    "    coords = stride(_image, _filter, add_stride)\n",
    "    f_x = _filter.shape[0]\n",
    "    f_y = _filter.shape[1]\n",
    "    for c in coords:\n",
    "        # start\n",
    "        s_x = c[0][0]\n",
    "        s_y = c[0][1]\n",
    "        # end\n",
    "        e_x = c[1][0]\n",
    "        e_y = c[1][1]\n",
    "        window = _image[s_x:e_x, s_y:e_y]\n",
    "        conv = window * _filter\n",
    "        det = np.sum(conv)\n",
    "        convs.append(det)\n",
    "        if verbose == True:\n",
    "            print('Coords: {}'.format(c))\n",
    "            print('Slice:\\n{}'.format(window))\n",
    "            print('Conv:\\n{}'.format(conv))\n",
    "            print('Sum: {}'.format(det) + '\\n')\n",
    "    # We need to save the results from each convolution\n",
    "    # in our new convolution result matrix\n",
    "    # The result matrix shall have height and width:\n",
    "    # (h_prev - filter_h) + 1\n",
    "    r_h = _image.shape[0] - f_x + 1\n",
    "    r_w = _image.shape[1] - f_y + 1\n",
    "    # Now, fill in the values from the convolution\n",
    "    # into the result matrix\n",
    "    r = np.array(convs).reshape(r_h, r_w)\n",
    "    return r"
   ]
  },
  {
   "cell_type": "markdown",
   "metadata": {},
   "source": [
    "**Case I**:"
   ]
  },
  {
   "cell_type": "code",
   "execution_count": 64,
   "metadata": {},
   "outputs": [
    {
     "data": {
      "text/plain": [
       "(array([[10, 10, 10,  0,  0,  0],\n",
       "        [10, 10, 10,  0,  0,  0],\n",
       "        [10, 10, 10,  0,  0,  0],\n",
       "        [10, 10, 10,  0,  0,  0],\n",
       "        [10, 10, 10,  0,  0,  0],\n",
       "        [10, 10, 10,  0,  0,  0]]), (6, 6))"
      ]
     },
     "execution_count": 64,
     "metadata": {},
     "output_type": "execute_result"
    }
   ],
   "source": [
    "vertical_array = np.array([\n",
    "    [10, 10, 10, 0, 0, 0],\n",
    "    [10, 10, 10, 0, 0, 0],\n",
    "    [10, 10, 10, 0, 0, 0],\n",
    "    [10, 10, 10, 0, 0, 0],\n",
    "    [10, 10, 10, 0, 0, 0],\n",
    "    [10, 10, 10, 0, 0, 0]\n",
    "    ])\n",
    "\n",
    "vertical_array, vertical_array.shape"
   ]
  },
  {
   "cell_type": "code",
   "execution_count": 65,
   "metadata": {},
   "outputs": [
    {
     "data": {
      "text/plain": [
       "array([[ 0, 30, 30,  0],\n",
       "       [ 0, 30, 30,  0],\n",
       "       [ 0, 30, 30,  0],\n",
       "       [ 0, 30, 30,  0]])"
      ]
     },
     "execution_count": 65,
     "metadata": {},
     "output_type": "execute_result"
    }
   ],
   "source": [
    "vertical_conv = conv2d(vertical_array, v_edge_detector, verbose=False)\n",
    "vertical_conv"
   ]
  },
  {
   "cell_type": "code",
   "execution_count": 66,
   "metadata": {},
   "outputs": [
    {
     "data": {
      "text/plain": [
       "array([[False,  True,  True, False],\n",
       "       [False,  True,  True, False],\n",
       "       [False,  True,  True, False],\n",
       "       [False,  True,  True, False]])"
      ]
     },
     "execution_count": 66,
     "metadata": {},
     "output_type": "execute_result"
    }
   ],
   "source": [
    "vertical_conv > 0"
   ]
  },
  {
   "cell_type": "markdown",
   "metadata": {},
   "source": [
    "**Case II**:"
   ]
  },
  {
   "cell_type": "code",
   "execution_count": 67,
   "metadata": {},
   "outputs": [
    {
     "data": {
      "text/plain": [
       "array([[ 0.,  0.,  0., 12., 13.,  5.,  0.,  0.],\n",
       "       [ 0.,  0.,  0., 11., 16.,  9.,  0.,  0.],\n",
       "       [ 0.,  0.,  3., 15., 16.,  6.,  0.,  0.],\n",
       "       [ 0.,  7., 15., 16., 16.,  2.,  0.,  0.],\n",
       "       [ 0.,  0.,  1., 16., 16.,  3.,  0.,  0.],\n",
       "       [ 0.,  0.,  1., 16., 16.,  6.,  0.,  0.],\n",
       "       [ 0.,  0.,  1., 16., 16.,  6.,  0.,  0.],\n",
       "       [ 0.,  0.,  0., 11., 16., 10.,  0.,  0.]])"
      ]
     },
     "execution_count": 67,
     "metadata": {},
     "output_type": "execute_result"
    }
   ],
   "source": [
    "no1"
   ]
  },
  {
   "cell_type": "code",
   "execution_count": 68,
   "metadata": {},
   "outputs": [
    {
     "data": {
      "image/png": "[encoded data removed]",
      "text/plain": [
       "<Figure size 216x216 with 1 Axes>"
      ]
     },
     "metadata": {
      "needs_background": "light"
     },
     "output_type": "display_data"
    }
   ],
   "source": [
    "plt.figure(1, figsize=(3, 3))\n",
    "plt.imshow(no1, cmap=plt.cm.gray_r, interpolation='nearest')\n",
    "plt.show()"
   ]
  },
  {
   "cell_type": "code",
   "execution_count": 69,
   "metadata": {
    "scrolled": false
   },
   "outputs": [
    {
     "data": {
      "text/plain": [
       "array([[ -3., -38., -42.,  18.,  45.,  20.],\n",
       "       [-18., -35., -30.,  25.,  48.,  17.],\n",
       "       [-19., -40., -29.,  36.,  48.,  11.],\n",
       "       [-17., -41., -31.,  37.,  48.,  11.],\n",
       "       [ -3., -48., -45.,  33.,  48.,  15.],\n",
       "       [ -2., -43., -46.,  21.,  48.,  22.]])"
      ]
     },
     "execution_count": 69,
     "metadata": {},
     "output_type": "execute_result"
    }
   ],
   "source": [
    "no1_conv_v = conv2d(no1, v_edge_detector, verbose=False)\n",
    "no1_conv_v"
   ]
  },
  {
   "cell_type": "markdown",
   "metadata": {},
   "source": [
    "Let's see it another way:"
   ]
  },
  {
   "cell_type": "code",
   "execution_count": 70,
   "metadata": {},
   "outputs": [
    {
     "data": {
      "text/plain": [
       "array([[False, False, False,  True,  True,  True],\n",
       "       [False, False, False,  True,  True,  True],\n",
       "       [False, False, False,  True,  True,  True],\n",
       "       [False, False, False,  True,  True,  True],\n",
       "       [False, False, False,  True,  True,  True],\n",
       "       [False, False, False,  True,  True,  True]])"
      ]
     },
     "execution_count": 70,
     "metadata": {},
     "output_type": "execute_result"
    }
   ],
   "source": [
    "no1_conv_v > 0"
   ]
  },
  {
   "cell_type": "markdown",
   "metadata": {},
   "source": [
    "See how it captures the vertical edge?\n",
    "\n",
    "Let's try it again applying a horizontal edge detector:"
   ]
  },
  {
   "cell_type": "code",
   "execution_count": 71,
   "metadata": {},
   "outputs": [
    {
     "data": {
      "text/plain": [
       "array([[ 1,  1,  1],\n",
       "       [ 0,  0,  0],\n",
       "       [-1, -1, -1]])"
      ]
     },
     "execution_count": 71,
     "metadata": {},
     "output_type": "execute_result"
    }
   ],
   "source": [
    "h_edge_detector = v_edge_detector.T\n",
    "h_edge_detector"
   ]
  },
  {
   "cell_type": "code",
   "execution_count": 72,
   "metadata": {},
   "outputs": [
    {
     "data": {
      "text/plain": [
       "array([[ 0.,  0.,  0., 12., 13.,  5.,  0.,  0.],\n",
       "       [ 0.,  0.,  0., 11., 16.,  9.,  0.,  0.],\n",
       "       [ 0.,  0.,  3., 15., 16.,  6.,  0.,  0.],\n",
       "       [ 0.,  7., 15., 16., 16.,  2.,  0.,  0.],\n",
       "       [ 0.,  0.,  1., 16., 16.,  3.,  0.,  0.],\n",
       "       [ 0.,  0.,  1., 16., 16.,  6.,  0.,  0.],\n",
       "       [ 0.,  0.,  1., 16., 16.,  6.,  0.,  0.],\n",
       "       [ 0.,  0.,  0., 11., 16., 10.,  0.,  0.]])"
      ]
     },
     "execution_count": 72,
     "metadata": {},
     "output_type": "execute_result"
    }
   ],
   "source": [
    "no1"
   ]
  },
  {
   "cell_type": "code",
   "execution_count": 73,
   "metadata": {},
   "outputs": [
    {
     "data": {
      "image/png": "[encoded data removed]",
      "text/plain": [
       "<Figure size 216x216 with 1 Axes>"
      ]
     },
     "metadata": {
      "needs_background": "light"
     },
     "output_type": "display_data"
    }
   ],
   "source": [
    "plt.figure(1, figsize=(3, 3))\n",
    "plt.imshow(no1, cmap=plt.cm.gray_r, interpolation='nearest')\n",
    "plt.show()"
   ]
  },
  {
   "cell_type": "code",
   "execution_count": 74,
   "metadata": {},
   "outputs": [],
   "source": [
    "no1_conv_h = conv2d(no1, h_edge_detector, verbose=False)"
   ]
  },
  {
   "cell_type": "code",
   "execution_count": 75,
   "metadata": {},
   "outputs": [
    {
     "data": {
      "text/plain": [
       "array([[False, False, False, False, False, False],\n",
       "       [False, False, False,  True,  True,  True],\n",
       "       [ True,  True,  True,  True,  True,  True],\n",
       "       [ True,  True,  True, False, False, False],\n",
       "       [False, False, False, False, False, False],\n",
       "       [ True,  True,  True,  True, False, False]])"
      ]
     },
     "execution_count": 75,
     "metadata": {},
     "output_type": "execute_result"
    }
   ],
   "source": [
    "no1_conv_h > 0"
   ]
  },
  {
   "cell_type": "markdown",
   "metadata": {},
   "source": [
    "___\n",
    "We may also use the filter matrix values as parameters to be learned by backprop:\n",
    "\n",
    "![](media/pback.png)\n",
    "\n",
    "Just remember that the *Loss* will point out how fare we are from the actual target, and the learning rate together with the partial derivatives will update the weights, leading them to our goal of feature detection."
   ]
  },
  {
   "cell_type": "markdown",
   "metadata": {},
   "source": [
    "## II) Convolutions over volume"
   ]
  },
  {
   "cell_type": "markdown",
   "metadata": {},
   "source": [
    "We will apply convolution in the following form:\n",
    "\n",
    "$Image_{8x8x3} * Filter_{3x3x3} = Conv_{6x6}$\n",
    "\n",
    "Note that since the image has 3 channels, the filter also have to, so it handles the image well.\n",
    "\n",
    "**Example:**"
   ]
  },
  {
   "cell_type": "code",
   "execution_count": 76,
   "metadata": {},
   "outputs": [],
   "source": [
    "from PIL import Image"
   ]
  },
  {
   "cell_type": "code",
   "execution_count": 77,
   "metadata": {},
   "outputs": [],
   "source": [
    "image = Image.open('media/sunflower.jpeg')"
   ]
  },
  {
   "cell_type": "markdown",
   "metadata": {},
   "source": [
    "Behold my mighty sunflower and its pixels:"
   ]
  },
  {
   "cell_type": "code",
   "execution_count": 78,
   "metadata": {},
   "outputs": [
    {
     "data": {
      "image/png": "[encoded data removed]",
      "text/plain": [
       "<Figure size 216x216 with 1 Axes>"
      ]
     },
     "metadata": {
      "needs_background": "light"
     },
     "output_type": "display_data"
    }
   ],
   "source": [
    "plt.figure(1, figsize=(3, 3))\n",
    "plt.imshow(image, cmap=plt.cm.gray_r, interpolation='nearest')\n",
    "plt.show()"
   ]
  },
  {
   "cell_type": "markdown",
   "metadata": {},
   "source": [
    "Notice it's three (RGB) channels"
   ]
  },
  {
   "cell_type": "code",
   "execution_count": 79,
   "metadata": {},
   "outputs": [
    {
     "data": {
      "text/plain": [
       "(8, 8, 3)"
      ]
     },
     "execution_count": 79,
     "metadata": {},
     "output_type": "execute_result"
    }
   ],
   "source": [
    "sunf = np.asarray(image)\n",
    "sunf.shape"
   ]
  },
  {
   "cell_type": "markdown",
   "metadata": {},
   "source": [
    "Let's try again with the $vertical$ $edge$ $detection$."
   ]
  },
  {
   "cell_type": "markdown",
   "metadata": {},
   "source": [
    "<div class=\"alert alert-warning\">\n",
    "Note that we will apply the <b>same filter</b> for all the channels.\n",
    "\n",
    "This doesn't need to happen like this.\n",
    "\n",
    "Usually, each filter channel will be aimed at something different.\n",
    "\n",
    "Remember that there's the possibility for the values of the filter to become parameters updated using gradient descent! So they'll probably be distinct all over.\n",
    "\n",
    "</div>"
   ]
  },
  {
   "cell_type": "code",
   "execution_count": 80,
   "metadata": {},
   "outputs": [
    {
     "data": {
      "text/plain": [
       "(3, 3, 3)"
      ]
     },
     "execution_count": 80,
     "metadata": {},
     "output_type": "execute_result"
    }
   ],
   "source": [
    "vert_detect_3d = np.array([\n",
    "                            [\n",
    "                                [1, 0, -1],\n",
    "                                [1, 0, -1],\n",
    "                                [1, 0, -1]\n",
    "                            ],\n",
    "                            [\n",
    "                                [1, 0, -1],\n",
    "                                [1, 0, -1],\n",
    "                                [1, 0, -1]\n",
    "                            ],\n",
    "                            [\n",
    "                                [1, 0, -1],\n",
    "                                [1, 0, -1],\n",
    "                                [1, 0, -1]\n",
    "                            ]\n",
    "                        ])\n",
    "\n",
    "vert_detect_3d.shape"
   ]
  },
  {
   "cell_type": "code",
   "execution_count": 81,
   "metadata": {},
   "outputs": [],
   "source": [
    "# For pixel values, typically 0 is taken to be black, and 255 is taken to be white.\n",
    "# Let's divide all pixels by 255 to keep it simple.\n",
    "\n",
    "# sunf = sunf/255.0"
   ]
  },
  {
   "cell_type": "markdown",
   "metadata": {},
   "source": [
    "We need to apply it to each channel at the same time.\n",
    "\n",
    "Note that, for each convolution, the output will be 2 dimensional:\n",
    "\n",
    "![](media/3dconv.png)"
   ]
  },
  {
   "cell_type": "markdown",
   "metadata": {},
   "source": [
    "Helper functions time:"
   ]
  },
  {
   "cell_type": "code",
   "execution_count": 249,
   "metadata": {},
   "outputs": [],
   "source": [
    "def stride3d(_image, _filter, add_stride=0):\n",
    "    coords = []\n",
    "    x = 0\n",
    "    y = 0\n",
    "    z = 0\n",
    "\n",
    "    f_h = _filter.shape[0]\n",
    "    f_w = _filter.shape[1]\n",
    "    f_z = _filter.shape[2]\n",
    "    \n",
    "    img_h = _image.shape[0]\n",
    "    img_w = _image.shape[1]\n",
    "    img_z = _image.shape[2]\n",
    "        \n",
    "    for line in range(img_h):\n",
    "\n",
    "        if line + f_h <= img_h:\n",
    "                x_start = line\n",
    "                x_end = line + f_h\n",
    "\n",
    "        for col in range(img_w):\n",
    "\n",
    "            if col + f_w <= img_w:\n",
    "                y_start = col\n",
    "                y_end = col +  f_w\n",
    "\n",
    "            coords.append([x_start, x_end, y_start, y_end])\n",
    "\n",
    "        out = np.unique(coords, axis=0)\n",
    "    return out   "
   ]
  },
  {
   "cell_type": "code",
   "execution_count": 254,
   "metadata": {
    "scrolled": false
   },
   "outputs": [],
   "source": [
    "def conv3d(_image, _filter, add_stride=0, verbose=False):\n",
    "    convs = []\n",
    "    sums = []\n",
    "    coords = stride3d(_image, _filter)\n",
    "    f_x = _filter.shape[0]\n",
    "    f_y = _filter.shape[1]\n",
    "    f_z = _filter.shape[2]\n",
    "    cnt = 1\n",
    "    for xyc in coords:\n",
    "        # x\n",
    "        s_x = xyc[0]\n",
    "        e_x = xyc[1]\n",
    "        # y\n",
    "        s_y = xyc[2]\n",
    "        e_y = xyc[3]\n",
    "        cube = _image[s_x:e_x, s_y:e_y, :]\n",
    "        conv = cube * _filter\n",
    "        total = np.sum(conv)\n",
    "        convs.append(total)\n",
    "        sums.append(total)\n",
    "        if verbose == True:\n",
    "            print('Convolution #{}'.format(cnt))\n",
    "            cnt += 1\n",
    "            print('Coords: [{}:{}, {}:{}, {}]'.format(s_x, e_x, s_y, e_y, ':'))\n",
    "            print('Slice:\\n{}'.format(cube))\n",
    "            print('Conv:\\n{}'.format(conv))\n",
    "            print('Sum: {}'.format(total) + '\\n')\n",
    "    r_h = _image.shape[0] - f_x + 1\n",
    "    r_w = _image.shape[1] - f_y + 1\n",
    "    r = np.array(sums).reshape(r_h, r_w)\n",
    "    \n",
    "    return r"
   ]
  },
  {
   "cell_type": "code",
   "execution_count": 257,
   "metadata": {
    "scrolled": false
   },
   "outputs": [
    {
     "name": "stdout",
     "output_type": "stream",
     "text": [
      "Convolution #1\n",
      "Coords: [0:3, 0:3, :]\n",
      "Slice:\n",
      "[[[248 255 244]\n",
      "  [179 151  88]\n",
      "  [158 140  66]]\n",
      "\n",
      " [[245 223 236]\n",
      "  [170 149  84]\n",
      "  [237 215 129]]\n",
      "\n",
      " [[254 245 246]\n",
      "  [165 145  48]\n",
      "  [236 247 125]]]\n",
      "Conv:\n",
      "[[[ 248    0 -244]\n",
      "  [ 179    0  -88]\n",
      "  [ 158    0  -66]]\n",
      "\n",
      " [[ 245    0 -236]\n",
      "  [ 170    0  -84]\n",
      "  [ 237    0 -129]]\n",
      "\n",
      " [[ 254    0 -246]\n",
      "  [ 165    0  -48]\n",
      "  [ 236    0 -125]]]\n",
      "Sum: 626\n",
      "\n",
      "Convolution #2\n",
      "Coords: [0:3, 1:4, :]\n",
      "Slice:\n",
      "[[[179 151  88]\n",
      "  [158 140  66]\n",
      "  [169 142  65]]\n",
      "\n",
      " [[170 149  84]\n",
      "  [237 215 129]\n",
      "  [246 234 100]]\n",
      "\n",
      " [[165 145  48]\n",
      "  [236 247 125]\n",
      "  [201 199  64]]]\n",
      "Conv:\n",
      "[[[ 179    0  -88]\n",
      "  [ 158    0  -66]\n",
      "  [ 169    0  -65]]\n",
      "\n",
      " [[ 170    0  -84]\n",
      "  [ 237    0 -129]\n",
      "  [ 246    0 -100]]\n",
      "\n",
      " [[ 165    0  -48]\n",
      "  [ 236    0 -125]\n",
      "  [ 201    0  -64]]]\n",
      "Sum: 992\n",
      "\n",
      "Convolution #3\n",
      "Coords: [0:3, 2:5, :]\n",
      "Slice:\n",
      "[[[158 140  66]\n",
      "  [169 142  65]\n",
      "  [177 138  79]]\n",
      "\n",
      " [[237 215 129]\n",
      "  [246 234 100]\n",
      "  [240 220  71]]\n",
      "\n",
      " [[236 247 125]\n",
      "  [201 199  64]\n",
      "  [215 216  52]]]\n",
      "Conv:\n",
      "[[[ 158    0  -66]\n",
      "  [ 169    0  -65]\n",
      "  [ 177    0  -79]]\n",
      "\n",
      " [[ 237    0 -129]\n",
      "  [ 246    0 -100]\n",
      "  [ 240    0  -71]]\n",
      "\n",
      " [[ 236    0 -125]\n",
      "  [ 201    0  -64]\n",
      "  [ 215    0  -52]]]\n",
      "Sum: 1128\n",
      "\n",
      "Convolution #4\n",
      "Coords: [0:3, 3:6, :]\n",
      "Slice:\n",
      "[[[169 142  65]\n",
      "  [177 138  79]\n",
      "  [168 121  67]]\n",
      "\n",
      " [[246 234 100]\n",
      "  [240 220  71]\n",
      "  [211 214 107]]\n",
      "\n",
      " [[201 199  64]\n",
      "  [215 216  52]\n",
      "  [245 244  94]]]\n",
      "Conv:\n",
      "[[[ 169    0  -65]\n",
      "  [ 177    0  -79]\n",
      "  [ 168    0  -67]]\n",
      "\n",
      " [[ 246    0 -100]\n",
      "  [ 240    0  -71]\n",
      "  [ 211    0 -107]]\n",
      "\n",
      " [[ 201    0  -64]\n",
      "  [ 215    0  -52]\n",
      "  [ 245    0  -94]]]\n",
      "Sum: 1173\n",
      "\n",
      "Convolution #5\n",
      "Coords: [0:3, 4:7, :]\n",
      "Slice:\n",
      "[[[177 138  79]\n",
      "  [168 121  67]\n",
      "  [176 156  83]]\n",
      "\n",
      " [[240 220  71]\n",
      "  [211 214 107]\n",
      "  [158 131  78]]\n",
      "\n",
      " [[215 216  52]\n",
      "  [245 244  94]\n",
      "  [175 148  61]]]\n",
      "Conv:\n",
      "[[[ 177    0  -79]\n",
      "  [ 168    0  -67]\n",
      "  [ 176    0  -83]]\n",
      "\n",
      " [[ 240    0  -71]\n",
      "  [ 211    0 -107]\n",
      "  [ 158    0  -78]]\n",
      "\n",
      " [[ 215    0  -52]\n",
      "  [ 245    0  -94]\n",
      "  [ 175    0  -61]]]\n",
      "Sum: 1073\n",
      "\n",
      "Convolution #6\n",
      "Coords: [0:3, 5:8, :]\n",
      "Slice:\n",
      "[[[168 121  67]\n",
      "  [176 156  83]\n",
      "  [255 248 251]]\n",
      "\n",
      " [[211 214 107]\n",
      "  [158 131  78]\n",
      "  [244 255 255]]\n",
      "\n",
      " [[245 244  94]\n",
      "  [175 148  61]\n",
      "  [255 253 255]]]\n",
      "Conv:\n",
      "[[[ 168    0  -67]\n",
      "  [ 176    0  -83]\n",
      "  [ 255    0 -251]]\n",
      "\n",
      " [[ 211    0 -107]\n",
      "  [ 158    0  -78]\n",
      "  [ 244    0 -255]]\n",
      "\n",
      " [[ 245    0  -94]\n",
      "  [ 175    0  -61]\n",
      "  [ 255    0 -255]]]\n",
      "Sum: 636\n",
      "\n",
      "Convolution #7\n",
      "Coords: [1:4, 0:3, :]\n",
      "Slice:\n",
      "[[[245 223 236]\n",
      "  [170 149  84]\n",
      "  [237 215 129]]\n",
      "\n",
      " [[254 245 246]\n",
      "  [165 145  48]\n",
      "  [236 247 125]]\n",
      "\n",
      " [[255 253 255]\n",
      "  [178 154 106]\n",
      "  [239 214 122]]]\n",
      "Conv:\n",
      "[[[ 245    0 -236]\n",
      "  [ 170    0  -84]\n",
      "  [ 237    0 -129]]\n",
      "\n",
      " [[ 254    0 -246]\n",
      "  [ 165    0  -48]\n",
      "  [ 236    0 -125]]\n",
      "\n",
      " [[ 255    0 -255]\n",
      "  [ 178    0 -106]\n",
      "  [ 239    0 -122]]]\n",
      "Sum: 628\n",
      "\n",
      "Convolution #8\n",
      "Coords: [1:4, 1:4, :]\n",
      "Slice:\n",
      "[[[170 149  84]\n",
      "  [237 215 129]\n",
      "  [246 234 100]]\n",
      "\n",
      " [[165 145  48]\n",
      "  [236 247 125]\n",
      "  [201 199  64]]\n",
      "\n",
      " [[178 154 106]\n",
      "  [239 214 122]\n",
      "  [231 209  71]]]\n",
      "Conv:\n",
      "[[[ 170    0  -84]\n",
      "  [ 237    0 -129]\n",
      "  [ 246    0 -100]]\n",
      "\n",
      " [[ 165    0  -48]\n",
      "  [ 236    0 -125]\n",
      "  [ 201    0  -64]]\n",
      "\n",
      " [[ 178    0 -106]\n",
      "  [ 239    0 -122]\n",
      "  [ 231    0  -71]]]\n",
      "Sum: 1054\n",
      "\n",
      "Convolution #9\n",
      "Coords: [1:4, 2:5, :]\n",
      "Slice:\n",
      "[[[237 215 129]\n",
      "  [246 234 100]\n",
      "  [240 220  71]]\n",
      "\n",
      " [[236 247 125]\n",
      "  [201 199  64]\n",
      "  [215 216  52]]\n",
      "\n",
      " [[239 214 122]\n",
      "  [231 209  71]\n",
      "  [203 224  83]]]\n",
      "Conv:\n",
      "[[[ 237    0 -129]\n",
      "  [ 246    0 -100]\n",
      "  [ 240    0  -71]]\n",
      "\n",
      " [[ 236    0 -125]\n",
      "  [ 201    0  -64]\n",
      "  [ 215    0  -52]]\n",
      "\n",
      " [[ 239    0 -122]\n",
      "  [ 231    0  -71]\n",
      "  [ 203    0  -83]]]\n",
      "Sum: 1231\n",
      "\n",
      "Convolution #10\n",
      "Coords: [1:4, 3:6, :]\n",
      "Slice:\n",
      "[[[246 234 100]\n",
      "  [240 220  71]\n",
      "  [211 214 107]]\n",
      "\n",
      " [[201 199  64]\n",
      "  [215 216  52]\n",
      "  [245 244  94]]\n",
      "\n",
      " [[231 209  71]\n",
      "  [203 224  83]\n",
      "  [247 226 133]]]\n",
      "Conv:\n",
      "[[[ 246    0 -100]\n",
      "  [ 240    0  -71]\n",
      "  [ 211    0 -107]]\n",
      "\n",
      " [[ 201    0  -64]\n",
      "  [ 215    0  -52]\n",
      "  [ 245    0  -94]]\n",
      "\n",
      " [[ 231    0  -71]\n",
      "  [ 203    0  -83]\n",
      "  [ 247    0 -133]]]\n",
      "Sum: 1264\n",
      "\n",
      "Convolution #11\n",
      "Coords: [1:4, 4:7, :]\n",
      "Slice:\n",
      "[[[240 220  71]\n",
      "  [211 214 107]\n",
      "  [158 131  78]]\n",
      "\n",
      " [[215 216  52]\n",
      "  [245 244  94]\n",
      "  [175 148  61]]\n",
      "\n",
      " [[203 224  83]\n",
      "  [247 226 133]\n",
      "  [172 146  71]]]\n",
      "Conv:\n",
      "[[[ 240    0  -71]\n",
      "  [ 211    0 -107]\n",
      "  [ 158    0  -78]]\n",
      "\n",
      " [[ 215    0  -52]\n",
      "  [ 245    0  -94]\n",
      "  [ 175    0  -61]]\n",
      "\n",
      " [[ 203    0  -83]\n",
      "  [ 247    0 -133]\n",
      "  [ 172    0  -71]]]\n",
      "Sum: 1116\n",
      "\n",
      "Convolution #12\n",
      "Coords: [1:4, 5:8, :]\n",
      "Slice:\n",
      "[[[211 214 107]\n",
      "  [158 131  78]\n",
      "  [244 255 255]]\n",
      "\n",
      " [[245 244  94]\n",
      "  [175 148  61]\n",
      "  [255 253 255]]\n",
      "\n",
      " [[247 226 133]\n",
      "  [172 146  71]\n",
      "  [255 254 251]]]\n",
      "Conv:\n",
      "[[[ 211    0 -107]\n",
      "  [ 158    0  -78]\n",
      "  [ 244    0 -255]]\n",
      "\n",
      " [[ 245    0  -94]\n",
      "  [ 175    0  -61]\n",
      "  [ 255    0 -255]]\n",
      "\n",
      " [[ 247    0 -133]\n",
      "  [ 172    0  -71]\n",
      "  [ 255    0 -251]]]\n",
      "Sum: 657\n",
      "\n",
      "Convolution #13\n",
      "Coords: [2:5, 0:3, :]\n",
      "Slice:\n",
      "[[[254 245 246]\n",
      "  [165 145  48]\n",
      "  [236 247 125]]\n",
      "\n",
      " [[255 253 255]\n",
      "  [178 154 106]\n",
      "  [239 214 122]]\n",
      "\n",
      " [[253 240 223]\n",
      "  [166 143  76]\n",
      "  [170 148  88]]]\n",
      "Conv:\n",
      "[[[ 254    0 -246]\n",
      "  [ 165    0  -48]\n",
      "  [ 236    0 -125]]\n",
      "\n",
      " [[ 255    0 -255]\n",
      "  [ 178    0 -106]\n",
      "  [ 239    0 -122]]\n",
      "\n",
      " [[ 253    0 -223]\n",
      "  [ 166    0  -76]\n",
      "  [ 170    0  -88]]]\n",
      "Sum: 627\n",
      "\n",
      "Convolution #14\n",
      "Coords: [2:5, 1:4, :]\n",
      "Slice:\n",
      "[[[165 145  48]\n",
      "  [236 247 125]\n",
      "  [201 199  64]]\n",
      "\n",
      " [[178 154 106]\n",
      "  [239 214 122]\n",
      "  [231 209  71]]\n",
      "\n",
      " [[166 143  76]\n",
      "  [170 148  88]\n",
      "  [ 92 216 106]]]\n",
      "Conv:\n",
      "[[[ 165    0  -48]\n",
      "  [ 236    0 -125]\n",
      "  [ 201    0  -64]]\n",
      "\n",
      " [[ 178    0 -106]\n",
      "  [ 239    0 -122]\n",
      "  [ 231    0  -71]]\n",
      "\n",
      " [[ 166    0  -76]\n",
      "  [ 170    0  -88]\n",
      "  [  92    0 -106]]]\n",
      "Sum: 872\n",
      "\n",
      "Convolution #15\n",
      "Coords: [2:5, 2:5, :]\n",
      "Slice:\n",
      "[[[236 247 125]\n",
      "  [201 199  64]\n",
      "  [215 216  52]]\n",
      "\n",
      " [[239 214 122]\n",
      "  [231 209  71]\n",
      "  [203 224  83]]\n",
      "\n",
      " [[170 148  88]\n",
      "  [ 92 216 106]\n",
      "  [109 209 113]]]\n",
      "Conv:\n",
      "[[[ 236    0 -125]\n",
      "  [ 201    0  -64]\n",
      "  [ 215    0  -52]]\n",
      "\n",
      " [[ 239    0 -122]\n",
      "  [ 231    0  -71]\n",
      "  [ 203    0  -83]]\n",
      "\n",
      " [[ 170    0  -88]\n",
      "  [  92    0 -106]\n",
      "  [ 109    0 -113]]]\n",
      "Sum: 872\n",
      "\n",
      "Convolution #16\n",
      "Coords: [2:5, 3:6, :]\n",
      "Slice:\n",
      "[[[201 199  64]\n",
      "  [215 216  52]\n",
      "  [245 244  94]]\n",
      "\n",
      " [[231 209  71]\n",
      "  [203 224  83]\n",
      "  [247 226 133]]\n",
      "\n",
      " [[ 92 216 106]\n",
      "  [109 209 113]\n",
      "  [175 167  94]]]\n",
      "Conv:\n",
      "[[[ 201    0  -64]\n",
      "  [ 215    0  -52]\n",
      "  [ 245    0  -94]]\n",
      "\n",
      " [[ 231    0  -71]\n",
      "  [ 203    0  -83]\n",
      "  [ 247    0 -133]]\n",
      "\n",
      " [[  92    0 -106]\n",
      "  [ 109    0 -113]\n",
      "  [ 175    0  -94]]]\n",
      "Sum: 908\n",
      "\n",
      "Convolution #17\n",
      "Coords: [2:5, 4:7, :]\n",
      "Slice:\n",
      "[[[215 216  52]\n",
      "  [245 244  94]\n",
      "  [175 148  61]]\n",
      "\n",
      " [[203 224  83]\n",
      "  [247 226 133]\n",
      "  [172 146  71]]\n",
      "\n",
      " [[109 209 113]\n",
      "  [175 167  94]\n",
      "  [156 130  56]]]\n",
      "Conv:\n",
      "[[[ 215    0  -52]\n",
      "  [ 245    0  -94]\n",
      "  [ 175    0  -61]]\n",
      "\n",
      " [[ 203    0  -83]\n",
      "  [ 247    0 -133]\n",
      "  [ 172    0  -71]]\n",
      "\n",
      " [[ 109    0 -113]\n",
      "  [ 175    0  -94]\n",
      "  [ 156    0  -56]]]\n",
      "Sum: 940\n",
      "\n",
      "Convolution #18\n",
      "Coords: [2:5, 5:8, :]\n",
      "Slice:\n",
      "[[[245 244  94]\n",
      "  [175 148  61]\n",
      "  [255 253 255]]\n",
      "\n",
      " [[247 226 133]\n",
      "  [172 146  71]\n",
      "  [255 254 251]]\n",
      "\n",
      " [[175 167  94]\n",
      "  [156 130  56]\n",
      "  [255 247 255]]]\n",
      "Conv:\n",
      "[[[ 245    0  -94]\n",
      "  [ 175    0  -61]\n",
      "  [ 255    0 -255]]\n",
      "\n",
      " [[ 247    0 -133]\n",
      "  [ 172    0  -71]\n",
      "  [ 255    0 -251]]\n",
      "\n",
      " [[ 175    0  -94]\n",
      "  [ 156    0  -56]\n",
      "  [ 255    0 -255]]]\n",
      "Sum: 665\n",
      "\n",
      "Convolution #19\n",
      "Coords: [3:6, 0:3, :]\n",
      "Slice:\n",
      "[[[255 253 255]\n",
      "  [178 154 106]\n",
      "  [239 214 122]]\n",
      "\n",
      " [[253 240 223]\n",
      "  [166 143  76]\n",
      "  [170 148  88]]\n",
      "\n",
      " [[255 254 250]\n",
      "  [201 250 220]\n",
      "  [240 252 240]]]\n",
      "Conv:\n",
      "[[[ 255    0 -255]\n",
      "  [ 178    0 -106]\n",
      "  [ 239    0 -122]]\n",
      "\n",
      " [[ 253    0 -223]\n",
      "  [ 166    0  -76]\n",
      "  [ 170    0  -88]]\n",
      "\n",
      " [[ 255    0 -250]\n",
      "  [ 201    0 -220]\n",
      "  [ 240    0 -240]]]\n",
      "Sum: 377\n",
      "\n",
      "Convolution #20\n",
      "Coords: [3:6, 1:4, :]\n",
      "Slice:\n",
      "[[[178 154 106]\n",
      "  [239 214 122]\n",
      "  [231 209  71]]\n",
      "\n",
      " [[166 143  76]\n",
      "  [170 148  88]\n",
      "  [ 92 216 106]]\n",
      "\n",
      " [[201 250 220]\n",
      "  [240 252 240]\n",
      "  [113 221 101]]]\n",
      "Conv:\n",
      "[[[ 178    0 -106]\n",
      "  [ 239    0 -122]\n",
      "  [ 231    0  -71]]\n",
      "\n",
      " [[ 166    0  -76]\n",
      "  [ 170    0  -88]\n",
      "  [  92    0 -106]]\n",
      "\n",
      " [[ 201    0 -220]\n",
      "  [ 240    0 -240]\n",
      "  [ 113    0 -101]]]\n",
      "Sum: 500\n",
      "\n",
      "Convolution #21\n",
      "Coords: [3:6, 2:5, :]\n",
      "Slice:\n",
      "[[[239 214 122]\n",
      "  [231 209  71]\n",
      "  [203 224  83]]\n",
      "\n",
      " [[170 148  88]\n",
      "  [ 92 216 106]\n",
      "  [109 209 113]]\n",
      "\n",
      " [[240 252 240]\n",
      "  [113 221 101]\n",
      "  [ 94 212  72]]]\n",
      "Conv:\n",
      "[[[ 239    0 -122]\n",
      "  [ 231    0  -71]\n",
      "  [ 203    0  -83]]\n",
      "\n",
      " [[ 170    0  -88]\n",
      "  [  92    0 -106]\n",
      "  [ 109    0 -113]]\n",
      "\n",
      " [[ 240    0 -240]\n",
      "  [ 113    0 -101]\n",
      "  [  94    0  -72]]]\n",
      "Sum: 495\n",
      "\n",
      "Convolution #22\n",
      "Coords: [3:6, 3:6, :]\n",
      "Slice:\n",
      "[[[231 209  71]\n",
      "  [203 224  83]\n",
      "  [247 226 133]]\n",
      "\n",
      " [[ 92 216 106]\n",
      "  [109 209 113]\n",
      "  [175 167  94]]\n",
      "\n",
      " [[113 221 101]\n",
      "  [ 94 212  72]\n",
      "  [242 251 232]]]\n",
      "Conv:\n",
      "[[[ 231    0  -71]\n",
      "  [ 203    0  -83]\n",
      "  [ 247    0 -133]]\n",
      "\n",
      " [[  92    0 -106]\n",
      "  [ 109    0 -113]\n",
      "  [ 175    0  -94]]\n",
      "\n",
      " [[ 113    0 -101]\n",
      "  [  94    0  -72]\n",
      "  [ 242    0 -232]]]\n",
      "Sum: 501\n",
      "\n",
      "Convolution #23\n",
      "Coords: [3:6, 4:7, :]\n",
      "Slice:\n",
      "[[[203 224  83]\n",
      "  [247 226 133]\n",
      "  [172 146  71]]\n",
      "\n",
      " [[109 209 113]\n",
      "  [175 167  94]\n",
      "  [156 130  56]]\n",
      "\n",
      " [[ 94 212  72]\n",
      "  [242 251 232]\n",
      "  [247 255 255]]]\n",
      "Conv:\n",
      "[[[ 203    0  -83]\n",
      "  [ 247    0 -133]\n",
      "  [ 172    0  -71]]\n",
      "\n",
      " [[ 109    0 -113]\n",
      "  [ 175    0  -94]\n",
      "  [ 156    0  -56]]\n",
      "\n",
      " [[  94    0  -72]\n",
      "  [ 242    0 -232]\n",
      "  [ 247    0 -255]]]\n",
      "Sum: 536\n",
      "\n",
      "Convolution #24\n",
      "Coords: [3:6, 5:8, :]\n",
      "Slice:\n",
      "[[[247 226 133]\n",
      "  [172 146  71]\n",
      "  [255 254 251]]\n",
      "\n",
      " [[175 167  94]\n",
      "  [156 130  56]\n",
      "  [255 247 255]]\n",
      "\n",
      " [[242 251 232]\n",
      "  [247 255 255]\n",
      "  [255 251 255]]]\n",
      "Conv:\n",
      "[[[ 247    0 -133]\n",
      "  [ 172    0  -71]\n",
      "  [ 255    0 -251]]\n",
      "\n",
      " [[ 175    0  -94]\n",
      "  [ 156    0  -56]\n",
      "  [ 255    0 -255]]\n",
      "\n",
      " [[ 242    0 -232]\n",
      "  [ 247    0 -255]\n",
      "  [ 255    0 -255]]]\n",
      "Sum: 402\n",
      "\n",
      "Convolution #25\n",
      "Coords: [4:7, 0:3, :]\n",
      "Slice:\n",
      "[[[253 240 223]\n",
      "  [166 143  76]\n",
      "  [170 148  88]]\n",
      "\n",
      " [[255 254 250]\n",
      "  [201 250 220]\n",
      "  [240 252 240]]\n",
      "\n",
      " [[254 255 239]\n",
      "  [ 21 255  58]\n",
      "  [ 32 244  45]]]\n",
      "Conv:\n",
      "[[[ 253    0 -223]\n",
      "  [ 166    0  -76]\n",
      "  [ 170    0  -88]]\n",
      "\n",
      " [[ 255    0 -250]\n",
      "  [ 201    0 -220]\n",
      "  [ 240    0 -240]]\n",
      "\n",
      " [[ 254    0 -239]\n",
      "  [  21    0  -58]\n",
      "  [  32    0  -45]]]\n",
      "Sum: 153\n",
      "\n",
      "Convolution #26\n",
      "Coords: [4:7, 1:4, :]\n",
      "Slice:\n",
      "[[[166 143  76]\n",
      "  [170 148  88]\n",
      "  [ 92 216 106]]\n",
      "\n",
      " [[201 250 220]\n",
      "  [240 252 240]\n",
      "  [113 221 101]]\n",
      "\n",
      " [[ 21 255  58]\n",
      "  [ 32 244  45]\n",
      "  [100 222  75]]]\n",
      "Conv:\n",
      "[[[ 166    0  -76]\n",
      "  [ 170    0  -88]\n",
      "  [  92    0 -106]]\n",
      "\n",
      " [[ 201    0 -220]\n",
      "  [ 240    0 -240]\n",
      "  [ 113    0 -101]]\n",
      "\n",
      " [[  21    0  -58]\n",
      "  [  32    0  -45]\n",
      "  [ 100    0  -75]]]\n",
      "Sum: 126\n",
      "\n",
      "Convolution #27\n",
      "Coords: [4:7, 2:5, :]\n",
      "Slice:\n",
      "[[[170 148  88]\n",
      "  [ 92 216 106]\n",
      "  [109 209 113]]\n",
      "\n",
      " [[240 252 240]\n",
      "  [113 221 101]\n",
      "  [ 94 212  72]]\n",
      "\n",
      " [[ 32 244  45]\n",
      "  [100 222  75]\n",
      "  [101 212 117]]]\n",
      "Conv:\n",
      "[[[ 170    0  -88]\n",
      "  [  92    0 -106]\n",
      "  [ 109    0 -113]]\n",
      "\n",
      " [[ 240    0 -240]\n",
      "  [ 113    0 -101]\n",
      "  [  94    0  -72]]\n",
      "\n",
      " [[  32    0  -45]\n",
      "  [ 100    0  -75]\n",
      "  [ 101    0 -117]]]\n",
      "Sum: 94\n",
      "\n",
      "Convolution #28\n",
      "Coords: [4:7, 3:6, :]\n",
      "Slice:\n",
      "[[[ 92 216 106]\n",
      "  [109 209 113]\n",
      "  [175 167  94]]\n",
      "\n",
      " [[113 221 101]\n",
      "  [ 94 212  72]\n",
      "  [242 251 232]]\n",
      "\n",
      " [[100 222  75]\n",
      "  [101 212 117]\n",
      "  [255 254 250]]]\n",
      "Conv:\n",
      "[[[  92    0 -106]\n",
      "  [ 109    0 -113]\n",
      "  [ 175    0  -94]]\n",
      "\n",
      " [[ 113    0 -101]\n",
      "  [  94    0  -72]\n",
      "  [ 242    0 -232]]\n",
      "\n",
      " [[ 100    0  -75]\n",
      "  [ 101    0 -117]\n",
      "  [ 255    0 -250]]]\n",
      "Sum: 121\n",
      "\n",
      "Convolution #29\n",
      "Coords: [4:7, 4:7, :]\n",
      "Slice:\n",
      "[[[109 209 113]\n",
      "  [175 167  94]\n",
      "  [156 130  56]]\n",
      "\n",
      " [[ 94 212  72]\n",
      "  [242 251 232]\n",
      "  [247 255 255]]\n",
      "\n",
      " [[101 212 117]\n",
      "  [255 254 250]\n",
      "  [254 254 244]]]\n",
      "Conv:\n",
      "[[[ 109    0 -113]\n",
      "  [ 175    0  -94]\n",
      "  [ 156    0  -56]]\n",
      "\n",
      " [[  94    0  -72]\n",
      "  [ 242    0 -232]\n",
      "  [ 247    0 -255]]\n",
      "\n",
      " [[ 101    0 -117]\n",
      "  [ 255    0 -250]\n",
      "  [ 254    0 -244]]]\n",
      "Sum: 200\n",
      "\n",
      "Convolution #30\n",
      "Coords: [4:7, 5:8, :]\n",
      "Slice:\n",
      "[[[175 167  94]\n",
      "  [156 130  56]\n",
      "  [255 247 255]]\n",
      "\n",
      " [[242 251 232]\n",
      "  [247 255 255]\n",
      "  [255 251 255]]\n",
      "\n",
      " [[255 254 250]\n",
      "  [254 254 244]\n",
      "  [254 251 255]]]\n",
      "Conv:\n",
      "[[[ 175    0  -94]\n",
      "  [ 156    0  -56]\n",
      "  [ 255    0 -255]]\n",
      "\n",
      " [[ 242    0 -232]\n",
      "  [ 247    0 -255]\n",
      "  [ 255    0 -255]]\n",
      "\n",
      " [[ 255    0 -250]\n",
      "  [ 254    0 -244]\n",
      "  [ 254    0 -255]]]\n",
      "Sum: 197\n",
      "\n",
      "Convolution #31\n",
      "Coords: [5:8, 0:3, :]\n",
      "Slice:\n",
      "[[[255 254 250]\n",
      "  [201 250 220]\n",
      "  [240 252 240]]\n",
      "\n",
      " [[254 255 239]\n",
      "  [ 21 255  58]\n",
      "  [ 32 244  45]]\n",
      "\n",
      " [[255 250 255]\n",
      "  [247 255 255]\n",
      "  [239 254 231]]]\n",
      "Conv:\n",
      "[[[ 255    0 -250]\n",
      "  [ 201    0 -220]\n",
      "  [ 240    0 -240]]\n",
      "\n",
      " [[ 254    0 -239]\n",
      "  [  21    0  -58]\n",
      "  [  32    0  -45]]\n",
      "\n",
      " [[ 255    0 -255]\n",
      "  [ 247    0 -255]\n",
      "  [ 239    0 -231]]]\n",
      "Sum: -49\n",
      "\n",
      "Convolution #32\n",
      "Coords: [5:8, 1:4, :]\n",
      "Slice:\n",
      "[[[201 250 220]\n",
      "  [240 252 240]\n",
      "  [113 221 101]]\n",
      "\n",
      " [[ 21 255  58]\n",
      "  [ 32 244  45]\n",
      "  [100 222  75]]\n",
      "\n",
      " [[247 255 255]\n",
      "  [239 254 231]\n",
      "  [ 91 226  72]]]\n",
      "Conv:\n",
      "[[[ 201    0 -220]\n",
      "  [ 240    0 -240]\n",
      "  [ 113    0 -101]]\n",
      "\n",
      " [[  21    0  -58]\n",
      "  [  32    0  -45]\n",
      "  [ 100    0  -75]]\n",
      "\n",
      " [[ 247    0 -255]\n",
      "  [ 239    0 -231]\n",
      "  [  91    0  -72]]]\n",
      "Sum: -13\n",
      "\n",
      "Convolution #33\n",
      "Coords: [5:8, 2:5, :]\n",
      "Slice:\n",
      "[[[240 252 240]\n",
      "  [113 221 101]\n",
      "  [ 94 212  72]]\n",
      "\n",
      " [[ 32 244  45]\n",
      "  [100 222  75]\n",
      "  [101 212 117]]\n",
      "\n",
      " [[239 254 231]\n",
      "  [ 91 226  72]\n",
      "  [106 209  94]]]\n",
      "Conv:\n",
      "[[[ 240    0 -240]\n",
      "  [ 113    0 -101]\n",
      "  [  94    0  -72]]\n",
      "\n",
      " [[  32    0  -45]\n",
      "  [ 100    0  -75]\n",
      "  [ 101    0 -117]]\n",
      "\n",
      " [[ 239    0 -231]\n",
      "  [  91    0  -72]\n",
      "  [ 106    0  -94]]]\n",
      "Sum: 69\n",
      "\n",
      "Convolution #34\n",
      "Coords: [5:8, 3:6, :]\n",
      "Slice:\n",
      "[[[113 221 101]\n",
      "  [ 94 212  72]\n",
      "  [242 251 232]]\n",
      "\n",
      " [[100 222  75]\n",
      "  [101 212 117]\n",
      "  [255 254 250]]\n",
      "\n",
      " [[ 91 226  72]\n",
      "  [106 209  94]\n",
      "  [255 250 255]]]\n",
      "Conv:\n",
      "[[[ 113    0 -101]\n",
      "  [  94    0  -72]\n",
      "  [ 242    0 -232]]\n",
      "\n",
      " [[ 100    0  -75]\n",
      "  [ 101    0 -117]\n",
      "  [ 255    0 -250]]\n",
      "\n",
      " [[  91    0  -72]\n",
      "  [ 106    0  -94]\n",
      "  [ 255    0 -255]]]\n",
      "Sum: 89\n",
      "\n",
      "Convolution #35\n",
      "Coords: [5:8, 4:7, :]\n",
      "Slice:\n",
      "[[[ 94 212  72]\n",
      "  [242 251 232]\n",
      "  [247 255 255]]\n",
      "\n",
      " [[101 212 117]\n",
      "  [255 254 250]\n",
      "  [254 254 244]]\n",
      "\n",
      " [[106 209  94]\n",
      "  [255 250 255]\n",
      "  [255 253 255]]]\n",
      "Conv:\n",
      "[[[  94    0  -72]\n",
      "  [ 242    0 -232]\n",
      "  [ 247    0 -255]]\n",
      "\n",
      " [[ 101    0 -117]\n",
      "  [ 255    0 -250]\n",
      "  [ 254    0 -244]]\n",
      "\n",
      " [[ 106    0  -94]\n",
      "  [ 255    0 -255]\n",
      "  [ 255    0 -255]]]\n",
      "Sum: 35\n",
      "\n",
      "Convolution #36\n",
      "Coords: [5:8, 5:8, :]\n",
      "Slice:\n",
      "[[[242 251 232]\n",
      "  [247 255 255]\n",
      "  [255 251 255]]\n",
      "\n",
      " [[255 254 250]\n",
      "  [254 254 244]\n",
      "  [254 251 255]]\n",
      "\n",
      " [[255 250 255]\n",
      "  [255 253 255]\n",
      "  [247 255 244]]]\n",
      "Conv:\n",
      "[[[ 242    0 -232]\n",
      "  [ 247    0 -255]\n",
      "  [ 255    0 -255]]\n",
      "\n",
      " [[ 255    0 -250]\n",
      "  [ 254    0 -244]\n",
      "  [ 254    0 -255]]\n",
      "\n",
      " [[ 255    0 -255]\n",
      "  [ 255    0 -255]\n",
      "  [ 247    0 -244]]]\n",
      "Sum: 19\n",
      "\n"
     ]
    }
   ],
   "source": [
    "sunf_conv = conv3d(_image=sunf, _filter=vert_detect_3d, verbose=True)"
   ]
  },
  {
   "cell_type": "code",
   "execution_count": 259,
   "metadata": {},
   "outputs": [
    {
     "data": {
      "text/plain": [
       "(array([[ 626,  992, 1128, 1173, 1073,  636],\n",
       "        [ 628, 1054, 1231, 1264, 1116,  657],\n",
       "        [ 627,  872,  872,  908,  940,  665],\n",
       "        [ 377,  500,  495,  501,  536,  402],\n",
       "        [ 153,  126,   94,  121,  200,  197],\n",
       "        [ -49,  -13,   69,   89,   35,   19]]), (6, 6))"
      ]
     },
     "execution_count": 259,
     "metadata": {},
     "output_type": "execute_result"
    }
   ],
   "source": [
    "sunf_conv, sunf_conv.shape"
   ]
  },
  {
   "cell_type": "markdown",
   "metadata": {},
   "source": [
    "Remember the image:"
   ]
  },
  {
   "cell_type": "code",
   "execution_count": 86,
   "metadata": {},
   "outputs": [
    {
     "data": {
      "image/png": "[encoded data removed]",
      "text/plain": [
       "<Figure size 216x216 with 1 Axes>"
      ]
     },
     "metadata": {
      "needs_background": "light"
     },
     "output_type": "display_data"
    }
   ],
   "source": [
    "plt.figure(1, figsize=(3, 3))\n",
    "plt.imshow(image, cmap=plt.cm.gray_r, interpolation='nearest')\n",
    "plt.show()"
   ]
  },
  {
   "cell_type": "code",
   "execution_count": 87,
   "metadata": {},
   "outputs": [
    {
     "name": "stdout",
     "output_type": "stream",
     "text": [
      "Channel: R\n",
      "Conv\n",
      "[[  348   -24   126   -75   351  -429]\n",
      " [  342  -684   960 -1101   759 -1344]\n",
      " [  363   -12   135  -126   387   -39]\n",
      " [  399     6   315   -39    27  -258]\n",
      " [ 1218  -117  1083  -297  1167  -240]\n",
      " [  834  -543  1017  -882   684 -1467]]\n",
      "\n",
      "Channel: G\n",
      "Conv\n",
      "[[ -306   369  -495   459   -45    72]\n",
      " [  327  -507   249 -1059   495 -1365]\n",
      " [ -390   417  -582   705  -546   675]\n",
      " [ -297   342   -33   -18   273  -387]\n",
      " [  -27   -60     9   -12   -33   180]\n",
      " [  372  -342   216  -759   855 -1413]]\n",
      "\n",
      "Channel: B\n",
      "Conv\n",
      "[[   -3  -390   162  -153   354  -294]\n",
      " [  729  -303   414  -276   630   -12]\n",
      " [   84  -531    48  -234  -120  -351]\n",
      " [  -93  -324    33  -231   351    -6]\n",
      " [  354 -1479   510 -1281   261 -1320]\n",
      " [  546  -906   213  -567   699   -51]]\n",
      "\n"
     ]
    }
   ],
   "source": [
    "rgb = ['R', 'G', 'B']\n",
    "for channel in range(sunf_conv.shape[2]):\n",
    "    print('Channel: {}\\nConv\\n{}\\n'.format(rgb[channel],\n",
    "                                           sunf_conv[:, :, channel]))"
   ]
  },
  {
   "cell_type": "markdown",
   "metadata": {},
   "source": [
    "There you go!"
   ]
  },
  {
   "cell_type": "markdown",
   "metadata": {},
   "source": [
    "## III) Pooling"
   ]
  },
  {
   "cell_type": "markdown",
   "metadata": {},
   "source": [
    "We just conv'd the sunflower,"
   ]
  },
  {
   "cell_type": "code",
   "execution_count": 88,
   "metadata": {},
   "outputs": [
    {
     "data": {
      "text/plain": [
       "(6, 6, 3)"
      ]
     },
     "execution_count": 88,
     "metadata": {},
     "output_type": "execute_result"
    }
   ],
   "source": [
    "sunf_conv.shape"
   ]
  },
  {
   "cell_type": "markdown",
   "metadata": {},
   "source": [
    "Helper functions:"
   ]
  },
  {
   "cell_type": "code",
   "execution_count": 89,
   "metadata": {},
   "outputs": [],
   "source": [
    "def poolWindow(_in, _w_size, pretty=False):\n",
    "    i_x = _in.shape[0]\n",
    "    i_y = _in.shape[1]\n",
    "    i_z = _in.shape[2]\n",
    "    coords = []\n",
    "    for z in range(i_z):\n",
    "        for x in range(i_x):\n",
    "            for y in range(i_y):\n",
    "                start = x, y\n",
    "                end = x + _w_size, y + _w_size\n",
    "                if end[0] < i_x + 1:\n",
    "                    if end[1] < i_y + 1:\n",
    "                        coords.append([start, end, z])\n",
    "    return coords"
   ]
  },
  {
   "cell_type": "code",
   "execution_count": 90,
   "metadata": {},
   "outputs": [],
   "source": [
    "from math import floor"
   ]
  },
  {
   "cell_type": "code",
   "execution_count": 91,
   "metadata": {},
   "outputs": [],
   "source": [
    "def maxPool(_in, _w_size, pretty=False):\n",
    "    print('input shape = {}'.format(_in.shape))\n",
    "    coords = poolWindow(_in, _w_size)\n",
    "    pools = []\n",
    "    output = ''\n",
    "    for c in coords:\n",
    "        x_start = c[0][0]\n",
    "        x_end = c[1][0]\n",
    "        y_start = c[0][1]\n",
    "        y_end = c[1][1]\n",
    "        z = c[2]\n",
    "        window = _in[x_start:x_end, y_start:y_end, z]\n",
    "        maxpool = np.max(window)\n",
    "        pools.append(maxpool)\n",
    "        if pretty == True:\n",
    "            print('x: {} -> {}, y: {} -> {}, z: {}'.format(x_start,\n",
    "                                                            x_end,\n",
    "                                                            y_start,\n",
    "                                                            y_end,\n",
    "                                                            z))\n",
    "            print('window:\\n{}'.format(window))\n",
    "            print('max pool = {}\\n'.format(maxpool))\n",
    "    out_shape_x = floor((_in.shape[0] - _w_size) + 1)\n",
    "    out_shape_y = floor((_in.shape[1] - _w_size) + 1)\n",
    "    out_shape_z = _in.shape[2]\n",
    "    output = np.array(pools).reshape(out_shape_x,\n",
    "                                     out_shape_y,\n",
    "                                     out_shape_z)\n",
    "    print('output shape = {}'.format(output.shape))\n",
    "    return output"
   ]
  },
  {
   "cell_type": "code",
   "execution_count": 92,
   "metadata": {
    "scrolled": false
   },
   "outputs": [
    {
     "name": "stdout",
     "output_type": "stream",
     "text": [
      "input shape = (6, 6, 3)\n",
      "output shape = (4, 4, 3)\n"
     ]
    },
    {
     "data": {
      "text/plain": [
       "array([[[ 960,  960,  960],\n",
       "        [ 759,  960,  960],\n",
       "        [ 960,  759, 1218],\n",
       "        [1083, 1167, 1167]],\n",
       "\n",
       "       [[1218, 1083, 1167],\n",
       "        [1167,  417,  705],\n",
       "        [ 705,  705,  417],\n",
       "        [ 705,  705,  705]],\n",
       "\n",
       "       [[ 417,  705,  705],\n",
       "        [ 705,  372,  342],\n",
       "        [ 855,  855,  729],\n",
       "        [ 414,  630,  630]],\n",
       "\n",
       "       [[ 729,  414,  630],\n",
       "        [ 630,  510,  510],\n",
       "        [ 510,  351,  546],\n",
       "        [ 510,  699,  699]]])"
      ]
     },
     "execution_count": 92,
     "metadata": {},
     "output_type": "execute_result"
    }
   ],
   "source": [
    "maxPool(sunf_conv, 3, False)"
   ]
  },
  {
   "cell_type": "markdown",
   "metadata": {},
   "source": [
    "And there you have it!\n",
    "___"
   ]
  },
  {
   "cell_type": "code",
   "execution_count": null,
   "metadata": {},
   "outputs": [],
   "source": []
  },
  {
   "cell_type": "code",
   "execution_count": null,
   "metadata": {},
   "outputs": [],
   "source": []
  },
  {
   "cell_type": "code",
   "execution_count": null,
   "metadata": {},
   "outputs": [],
   "source": []
  },
  {
   "cell_type": "code",
   "execution_count": null,
   "metadata": {},
   "outputs": [],
   "source": []
  },
  {
   "cell_type": "code",
   "execution_count": null,
   "metadata": {},
   "outputs": [],
   "source": []
  },
  {
   "cell_type": "code",
   "execution_count": null,
   "metadata": {},
   "outputs": [],
   "source": []
  },
  {
   "cell_type": "code",
   "execution_count": null,
   "metadata": {},
   "outputs": [],
   "source": []
  },
  {
   "cell_type": "code",
   "execution_count": null,
   "metadata": {},
   "outputs": [],
   "source": []
  },
  {
   "cell_type": "code",
   "execution_count": null,
   "metadata": {},
   "outputs": [],
   "source": []
  },
  {
   "cell_type": "code",
   "execution_count": null,
   "metadata": {},
   "outputs": [],
   "source": []
  },
  {
   "cell_type": "code",
   "execution_count": null,
   "metadata": {},
   "outputs": [],
   "source": []
  },
  {
   "cell_type": "code",
   "execution_count": null,
   "metadata": {},
   "outputs": [],
   "source": []
  },
  {
   "cell_type": "code",
   "execution_count": null,
   "metadata": {},
   "outputs": [],
   "source": []
  },
  {
   "cell_type": "code",
   "execution_count": null,
   "metadata": {},
   "outputs": [],
   "source": []
  },
  {
   "cell_type": "code",
   "execution_count": null,
   "metadata": {},
   "outputs": [],
   "source": []
  },
  {
   "cell_type": "code",
   "execution_count": null,
   "metadata": {},
   "outputs": [],
   "source": []
  },
  {
   "cell_type": "code",
   "execution_count": null,
   "metadata": {},
   "outputs": [],
   "source": []
  },
  {
   "cell_type": "code",
   "execution_count": null,
   "metadata": {},
   "outputs": [],
   "source": []
  },
  {
   "cell_type": "code",
   "execution_count": null,
   "metadata": {},
   "outputs": [],
   "source": []
  },
  {
   "cell_type": "code",
   "execution_count": null,
   "metadata": {},
   "outputs": [],
   "source": []
  },
  {
   "cell_type": "code",
   "execution_count": null,
   "metadata": {},
   "outputs": [],
   "source": []
  },
  {
   "cell_type": "code",
   "execution_count": null,
   "metadata": {},
   "outputs": [],
   "source": []
  },
  {
   "cell_type": "code",
   "execution_count": null,
   "metadata": {},
   "outputs": [],
   "source": []
  },
  {
   "cell_type": "code",
   "execution_count": null,
   "metadata": {},
   "outputs": [],
   "source": []
  },
  {
   "cell_type": "code",
   "execution_count": null,
   "metadata": {},
   "outputs": [],
   "source": []
  }
 ],
 "metadata": {
  "kernelspec": {
   "display_name": "Python 3",
   "language": "python",
   "name": "python3"
  },
  "language_info": {
   "codemirror_mode": {
    "name": "ipython",
    "version": 3
   },
   "file_extension": ".py",
   "mimetype": "text/x-python",
   "name": "python",
   "nbconvert_exporter": "python",
   "pygments_lexer": "ipython3",
   "version": "3.6.9"
  }
 },
 "nbformat": 4,
 "nbformat_minor": 2
}
