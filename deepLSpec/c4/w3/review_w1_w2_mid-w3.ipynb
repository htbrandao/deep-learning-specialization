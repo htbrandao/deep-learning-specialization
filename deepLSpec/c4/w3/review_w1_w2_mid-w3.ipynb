{
 "cells": [
  {
   "cell_type": "markdown",
   "metadata": {},
   "source": [
    "# # Review: Week 1, 2 and mid week 3"
   ]
  },
  {
   "cell_type": "markdown",
   "metadata": {},
   "source": [
    "## ## Week 1"
   ]
  },
  {
   "cell_type": "markdown",
   "metadata": {},
   "source": [
    "## I) Edge detection"
   ]
  },
  {
   "cell_type": "code",
   "execution_count": 1,
   "metadata": {},
   "outputs": [],
   "source": [
    "import numpy as np\n",
    "from sklearn import datasets\n",
    "import matplotlib.pyplot as plt"
   ]
  },
  {
   "cell_type": "code",
   "execution_count": 2,
   "metadata": {},
   "outputs": [],
   "source": [
    "dt = datasets.load_digits()"
   ]
  },
  {
   "cell_type": "code",
   "execution_count": 3,
   "metadata": {},
   "outputs": [],
   "source": [
    "# print(dt.DESCR)"
   ]
  },
  {
   "cell_type": "code",
   "execution_count": 4,
   "metadata": {},
   "outputs": [
    {
     "data": {
      "text/plain": [
       "(1797, 1797, 10, 1797)"
      ]
     },
     "execution_count": 4,
     "metadata": {},
     "output_type": "execute_result"
    }
   ],
   "source": [
    "len(dt.data), len(dt.target), len(dt.target_names), len(dt.images)"
   ]
  },
  {
   "cell_type": "code",
   "execution_count": 5,
   "metadata": {},
   "outputs": [
    {
     "data": {
      "text/plain": [
       "(1797, 64)"
      ]
     },
     "execution_count": 5,
     "metadata": {},
     "output_type": "execute_result"
    }
   ],
   "source": [
    "dt.data.shape"
   ]
  },
  {
   "cell_type": "code",
   "execution_count": 6,
   "metadata": {},
   "outputs": [
    {
     "data": {
      "text/plain": [
       "(1797,)"
      ]
     },
     "execution_count": 6,
     "metadata": {},
     "output_type": "execute_result"
    }
   ],
   "source": [
    "dt.target.shape"
   ]
  },
  {
   "cell_type": "code",
   "execution_count": 14,
   "metadata": {},
   "outputs": [
    {
     "data": {
      "text/plain": [
       "(1797, 8, 8)"
      ]
     },
     "execution_count": 14,
     "metadata": {},
     "output_type": "execute_result"
    }
   ],
   "source": [
    "dt.images.shape"
   ]
  },
  {
   "cell_type": "code",
   "execution_count": 15,
   "metadata": {},
   "outputs": [
    {
     "name": "stdout",
     "output_type": "stream",
     "text": [
      "vector:\n",
      "[[ 0.  0.  0. 12. 13.  5.  0.  0.]\n",
      " [ 0.  0.  0. 11. 16.  9.  0.  0.]\n",
      " [ 0.  0.  3. 15. 16.  6.  0.  0.]\n",
      " [ 0.  7. 15. 16. 16.  2.  0.  0.]\n",
      " [ 0.  0.  1. 16. 16.  3.  0.  0.]\n",
      " [ 0.  0.  1. 16. 16.  6.  0.  0.]\n",
      " [ 0.  0.  1. 16. 16.  6.  0.  0.]\n",
      " [ 0.  0.  0. 11. 16. 10.  0.  0.]]\n",
      "label:1\n"
     ]
    }
   ],
   "source": [
    "no1 = dt.images[1]\n",
    "no1_target = dt.target[1]\n",
    "\n",
    "print('vector:\\n{}\\nlabel:{}'.format(no1, no1_target))"
   ]
  },
  {
   "cell_type": "markdown",
   "metadata": {},
   "source": [
    "The above array would look like something like this:\n",
    "\n",
    "![](media/1.png)"
   ]
  },
  {
   "cell_type": "markdown",
   "metadata": {},
   "source": [
    "*(Check below to see that I got that right lol)*"
   ]
  },
  {
   "cell_type": "code",
   "execution_count": 16,
   "metadata": {},
   "outputs": [
    {
     "data": {
      "image/png": "[encoded data removed]",
      "text/plain": [
       "<Figure size 216x216 with 1 Axes>"
      ]
     },
     "metadata": {
      "needs_background": "light"
     },
     "output_type": "display_data"
    }
   ],
   "source": [
    "plt.figure(1, figsize=(3, 3))\n",
    "plt.imshow(no1, cmap=plt.cm.gray_r, interpolation='nearest')\n",
    "plt.show()"
   ]
  },
  {
   "cell_type": "markdown",
   "metadata": {},
   "source": [
    "**Example: Vertical edge detection**\n",
    "\n",
    "Define the edge detector:"
   ]
  },
  {
   "cell_type": "code",
   "execution_count": 17,
   "metadata": {},
   "outputs": [],
   "source": [
    "v_edge_detector = np.array([\n",
    "                        [1, 0, -1],\n",
    "                        [1, 0, -1],\n",
    "                        [1, 0, -1]\n",
    "])"
   ]
  },
  {
   "cell_type": "markdown",
   "metadata": {},
   "source": [
    "Let's define helper functions:"
   ]
  },
  {
   "cell_type": "code",
   "execution_count": 18,
   "metadata": {},
   "outputs": [],
   "source": [
    "# Walk over the picture\n",
    "\n",
    "def stride(_image, _filter, add_stride=0):\n",
    "    coords = []\n",
    "    h = _image.shape[0]\n",
    "    w = _image.shape[1]\n",
    "    f_h = _filter.shape[0]\n",
    "    f_w = _filter.shape[1]\n",
    "    # Note that we don't need to set default stride value\n",
    "    # of 1 because we are already iterating over the\n",
    "    # lines and columns\n",
    "    for line in range(h):\n",
    "        for col in range(w):\n",
    "            start = line, col\n",
    "            end = line + f_h + add_stride, col + f_w + add_stride\n",
    "            if end[0] <= h:\n",
    "                if end[1] <=  w:\n",
    "                    coords.append([start, end])\n",
    "    return coords"
   ]
  },
  {
   "cell_type": "markdown",
   "metadata": {},
   "source": [
    "Input dimension:\n",
    "\n",
    "$n_{height}^{[l-1]}$ x $n_{width}^{[l-1]}$ x $n_{channels}^{[l-1]}$\n",
    "\n",
    "Output dimension:\n",
    "\n",
    "$n_{height}^{[l]}$ x $n_{width}^{[l]}$ x $n_{channels}^{[l]}$\n",
    "\n",
    "**where**,\n",
    "\n",
    "$n^{[l]} = floor([\\frac{n^{[l]}+2*p^{[l]}-f}{s^{[l]}} +1]$)"
   ]
  },
  {
   "cell_type": "markdown",
   "metadata": {},
   "source": [
    "**if** $height \\neq width$, **then**\n",
    "\n",
    "$n_{height}^{[l]} = floor([\\frac{n_{height}^{[l]}+2*p^{[l]}-f}{s^{[l]}} +1]$)\n",
    "\n",
    "**and**,\n",
    "\n",
    "$n_{width}^{[l]} = floor([\\frac{n_{width}^{[l]}+2*p^{[l]}-f}{s^{[l]}}+1]$)"
   ]
  },
  {
   "cell_type": "code",
   "execution_count": 19,
   "metadata": {},
   "outputs": [],
   "source": [
    "# Perform the convolution\n",
    "    \n",
    "def conv2d(_image, _filter, add_stride=0, verbose=True):\n",
    "    convs = []\n",
    "    coords = stride(_image, _filter, add_stride)\n",
    "    f_x = _filter.shape[0]\n",
    "    f_y = _filter.shape[1]\n",
    "    for c in coords:\n",
    "        # start\n",
    "        s_x = c[0][0]\n",
    "        s_y = c[0][1]\n",
    "        # end\n",
    "        e_x = c[1][0]\n",
    "        e_y = c[1][1]\n",
    "        window = _image[s_x:e_x, s_y:e_y]\n",
    "        conv = window * _filter\n",
    "        det = np.sum(conv)\n",
    "        convs.append(det)\n",
    "        if verbose == True:\n",
    "            print('Coords: {}'.format(c))\n",
    "            print('Slice:\\n{}'.format(window))\n",
    "            print('Conv:\\n{}'.format(conv))\n",
    "            print('Sum: {}'.format(det) + '\\n')\n",
    "    # We need to save the results from each convolution\n",
    "    # in our new convolution result matrix\n",
    "    # The result matrix shall have height and width:\n",
    "    # (h_prev - filter_h) + 1\n",
    "    r_h = _image.shape[0] - f_x + 1\n",
    "    r_w = _image.shape[1] - f_y + 1\n",
    "    # Now, fill in the values from the convolution\n",
    "    # into the result matrix\n",
    "    r = np.array(convs).reshape(r_h, r_w)\n",
    "    return r"
   ]
  },
  {
   "cell_type": "markdown",
   "metadata": {},
   "source": [
    "**Case I**:"
   ]
  },
  {
   "cell_type": "code",
   "execution_count": 20,
   "metadata": {},
   "outputs": [
    {
     "data": {
      "text/plain": [
       "(array([[10, 10, 10,  0,  0,  0],\n",
       "        [10, 10, 10,  0,  0,  0],\n",
       "        [10, 10, 10,  0,  0,  0],\n",
       "        [10, 10, 10,  0,  0,  0],\n",
       "        [10, 10, 10,  0,  0,  0],\n",
       "        [10, 10, 10,  0,  0,  0]]), (6, 6))"
      ]
     },
     "execution_count": 20,
     "metadata": {},
     "output_type": "execute_result"
    }
   ],
   "source": [
    "vertical_array = np.array([\n",
    "    [10, 10, 10, 0, 0, 0],\n",
    "    [10, 10, 10, 0, 0, 0],\n",
    "    [10, 10, 10, 0, 0, 0],\n",
    "    [10, 10, 10, 0, 0, 0],\n",
    "    [10, 10, 10, 0, 0, 0],\n",
    "    [10, 10, 10, 0, 0, 0]\n",
    "    ])\n",
    "\n",
    "vertical_array, vertical_array.shape"
   ]
  },
  {
   "cell_type": "code",
   "execution_count": 21,
   "metadata": {},
   "outputs": [
    {
     "data": {
      "text/plain": [
       "array([[ 0, 30, 30,  0],\n",
       "       [ 0, 30, 30,  0],\n",
       "       [ 0, 30, 30,  0],\n",
       "       [ 0, 30, 30,  0]])"
      ]
     },
     "execution_count": 21,
     "metadata": {},
     "output_type": "execute_result"
    }
   ],
   "source": [
    "vertical_conv = conv2d(vertical_array, v_edge_detector, verbose=False)\n",
    "vertical_conv"
   ]
  },
  {
   "cell_type": "code",
   "execution_count": 22,
   "metadata": {},
   "outputs": [
    {
     "data": {
      "text/plain": [
       "array([[False,  True,  True, False],\n",
       "       [False,  True,  True, False],\n",
       "       [False,  True,  True, False],\n",
       "       [False,  True,  True, False]])"
      ]
     },
     "execution_count": 22,
     "metadata": {},
     "output_type": "execute_result"
    }
   ],
   "source": [
    "vertical_conv > 0"
   ]
  },
  {
   "cell_type": "markdown",
   "metadata": {},
   "source": [
    "**Case II**:"
   ]
  },
  {
   "cell_type": "code",
   "execution_count": 23,
   "metadata": {},
   "outputs": [
    {
     "data": {
      "text/plain": [
       "array([[ 0.,  0.,  0., 12., 13.,  5.,  0.,  0.],\n",
       "       [ 0.,  0.,  0., 11., 16.,  9.,  0.,  0.],\n",
       "       [ 0.,  0.,  3., 15., 16.,  6.,  0.,  0.],\n",
       "       [ 0.,  7., 15., 16., 16.,  2.,  0.,  0.],\n",
       "       [ 0.,  0.,  1., 16., 16.,  3.,  0.,  0.],\n",
       "       [ 0.,  0.,  1., 16., 16.,  6.,  0.,  0.],\n",
       "       [ 0.,  0.,  1., 16., 16.,  6.,  0.,  0.],\n",
       "       [ 0.,  0.,  0., 11., 16., 10.,  0.,  0.]])"
      ]
     },
     "execution_count": 23,
     "metadata": {},
     "output_type": "execute_result"
    }
   ],
   "source": [
    "no1"
   ]
  },
  {
   "cell_type": "code",
   "execution_count": 24,
   "metadata": {},
   "outputs": [
    {
     "data": {
      "image/png": "[encoded data removed]",
      "text/plain": [
       "<Figure size 216x216 with 1 Axes>"
      ]
     },
     "metadata": {
      "needs_background": "light"
     },
     "output_type": "display_data"
    }
   ],
   "source": [
    "plt.figure(1, figsize=(3, 3))\n",
    "plt.imshow(no1, cmap=plt.cm.gray_r, interpolation='nearest')\n",
    "plt.show()"
   ]
  },
  {
   "cell_type": "code",
   "execution_count": 25,
   "metadata": {
    "scrolled": false
   },
   "outputs": [
    {
     "data": {
      "text/plain": [
       "array([[ -3., -38., -42.,  18.,  45.,  20.],\n",
       "       [-18., -35., -30.,  25.,  48.,  17.],\n",
       "       [-19., -40., -29.,  36.,  48.,  11.],\n",
       "       [-17., -41., -31.,  37.,  48.,  11.],\n",
       "       [ -3., -48., -45.,  33.,  48.,  15.],\n",
       "       [ -2., -43., -46.,  21.,  48.,  22.]])"
      ]
     },
     "execution_count": 25,
     "metadata": {},
     "output_type": "execute_result"
    }
   ],
   "source": [
    "no1_conv_v = conv2d(no1, v_edge_detector, verbose=False)\n",
    "no1_conv_v"
   ]
  },
  {
   "cell_type": "markdown",
   "metadata": {},
   "source": [
    "Applying the ReLU function:"
   ]
  },
  {
   "cell_type": "code",
   "execution_count": 55,
   "metadata": {},
   "outputs": [],
   "source": [
    "def ReLU(x):\n",
    "    return np.maximum(x, 0)"
   ]
  },
  {
   "cell_type": "code",
   "execution_count": 56,
   "metadata": {},
   "outputs": [
    {
     "data": {
      "text/plain": [
       "array([[ 0.,  0.,  0., 18., 45., 20.],\n",
       "       [ 0.,  0.,  0., 25., 48., 17.],\n",
       "       [ 0.,  0.,  0., 36., 48., 11.],\n",
       "       [ 0.,  0.,  0., 37., 48., 11.],\n",
       "       [ 0.,  0.,  0., 33., 48., 15.],\n",
       "       [ 0.,  0.,  0., 21., 48., 22.]])"
      ]
     },
     "execution_count": 56,
     "metadata": {},
     "output_type": "execute_result"
    }
   ],
   "source": [
    "ReLU(no1_conv_v)"
   ]
  },
  {
   "cell_type": "markdown",
   "metadata": {},
   "source": [
    "See how it captures the vertical edge?\n",
    "\n",
    "Let's try it again applying a horizontal edge detector:"
   ]
  },
  {
   "cell_type": "code",
   "execution_count": 27,
   "metadata": {},
   "outputs": [
    {
     "data": {
      "text/plain": [
       "array([[ 1,  1,  1],\n",
       "       [ 0,  0,  0],\n",
       "       [-1, -1, -1]])"
      ]
     },
     "execution_count": 27,
     "metadata": {},
     "output_type": "execute_result"
    }
   ],
   "source": [
    "h_edge_detector = v_edge_detector.T\n",
    "h_edge_detector"
   ]
  },
  {
   "cell_type": "code",
   "execution_count": 28,
   "metadata": {},
   "outputs": [
    {
     "data": {
      "text/plain": [
       "array([[ 0.,  0.,  0., 12., 13.,  5.,  0.,  0.],\n",
       "       [ 0.,  0.,  0., 11., 16.,  9.,  0.,  0.],\n",
       "       [ 0.,  0.,  3., 15., 16.,  6.,  0.,  0.],\n",
       "       [ 0.,  7., 15., 16., 16.,  2.,  0.,  0.],\n",
       "       [ 0.,  0.,  1., 16., 16.,  3.,  0.,  0.],\n",
       "       [ 0.,  0.,  1., 16., 16.,  6.,  0.,  0.],\n",
       "       [ 0.,  0.,  1., 16., 16.,  6.,  0.,  0.],\n",
       "       [ 0.,  0.,  0., 11., 16., 10.,  0.,  0.]])"
      ]
     },
     "execution_count": 28,
     "metadata": {},
     "output_type": "execute_result"
    }
   ],
   "source": [
    "no1"
   ]
  },
  {
   "cell_type": "code",
   "execution_count": 29,
   "metadata": {},
   "outputs": [
    {
     "data": {
      "image/png": "[encoded data removed]",
      "text/plain": [
       "<Figure size 216x216 with 1 Axes>"
      ]
     },
     "metadata": {
      "needs_background": "light"
     },
     "output_type": "display_data"
    }
   ],
   "source": [
    "plt.figure(1, figsize=(3, 3))\n",
    "plt.imshow(no1, cmap=plt.cm.gray_r, interpolation='nearest')\n",
    "plt.show()"
   ]
  },
  {
   "cell_type": "code",
   "execution_count": 51,
   "metadata": {},
   "outputs": [
    {
     "data": {
      "text/plain": [
       "array([[ -3.,  -6.,  -9.,  -7.,  -4.,  -1.],\n",
       "       [-22., -27., -20.,   2.,   7.,   7.],\n",
       "       [  2.,   1.,   1.,   2.,   3.,   3.],\n",
       "       [ 21.,  21.,  14.,  -4.,  -4.,  -4.],\n",
       "       [  0.,   0.,   0.,  -3.,  -3.,  -3.],\n",
       "       [  1.,   6.,   6.,   1.,  -4.,  -4.]])"
      ]
     },
     "execution_count": 51,
     "metadata": {},
     "output_type": "execute_result"
    }
   ],
   "source": [
    "no1_conv_h = conv2d(no1, h_edge_detector, verbose=False)\n",
    "no1_conv_h"
   ]
  },
  {
   "cell_type": "code",
   "execution_count": 31,
   "metadata": {},
   "outputs": [
    {
     "data": {
      "text/plain": [
       "array([[False, False, False, False, False, False],\n",
       "       [False, False, False,  True,  True,  True],\n",
       "       [ True,  True,  True,  True,  True,  True],\n",
       "       [ True,  True,  True, False, False, False],\n",
       "       [False, False, False, False, False, False],\n",
       "       [ True,  True,  True,  True, False, False]])"
      ]
     },
     "execution_count": 31,
     "metadata": {},
     "output_type": "execute_result"
    }
   ],
   "source": [
    "no1_conv_h > 0"
   ]
  },
  {
   "cell_type": "markdown",
   "metadata": {},
   "source": [
    "___\n",
    "We may also use the filter matrix values as parameters to be learned by backprop:\n",
    "\n",
    "![](media/pback.png)\n",
    "\n",
    "Just remember that the *Loss* will point out how fare we are from the actual target, and the learning rate together with the partial derivatives will update the weights, leading them to our goal of feature detection."
   ]
  },
  {
   "cell_type": "markdown",
   "metadata": {},
   "source": [
    "## II) Convolutions over volume"
   ]
  },
  {
   "cell_type": "markdown",
   "metadata": {},
   "source": [
    "We will apply convolution in the following form:\n",
    "\n",
    "$Image_{8x8x3} * Filter_{3x3x3} = Conv_{6x6}$\n",
    "\n",
    "We need to apply it to each channel at the same time.\n",
    "\n",
    "For each convolution, the output will be 2 dimensional:\n",
    "\n",
    "![](media/3dconv.png)\n",
    "\n",
    "**Example:**"
   ]
  },
  {
   "cell_type": "code",
   "execution_count": 32,
   "metadata": {},
   "outputs": [],
   "source": [
    "from PIL import Image"
   ]
  },
  {
   "cell_type": "code",
   "execution_count": 33,
   "metadata": {},
   "outputs": [],
   "source": [
    "image = Image.open('media/sunflower.jpeg')"
   ]
  },
  {
   "cell_type": "markdown",
   "metadata": {},
   "source": [
    "Behold my mighty sunflower and its pixels:"
   ]
  },
  {
   "cell_type": "code",
   "execution_count": 34,
   "metadata": {},
   "outputs": [
    {
     "data": {
      "image/png": "[encoded data removed]",
      "text/plain": [
       "<Figure size 216x216 with 1 Axes>"
      ]
     },
     "metadata": {
      "needs_background": "light"
     },
     "output_type": "display_data"
    }
   ],
   "source": [
    "plt.figure(1, figsize=(3, 3))\n",
    "plt.imshow(image, cmap=plt.cm.gray_r, interpolation='nearest')\n",
    "plt.show()"
   ]
  },
  {
   "cell_type": "markdown",
   "metadata": {},
   "source": [
    "Notice it's three (RGB) channels"
   ]
  },
  {
   "cell_type": "code",
   "execution_count": 35,
   "metadata": {},
   "outputs": [
    {
     "data": {
      "text/plain": [
       "(8, 8, 3)"
      ]
     },
     "execution_count": 35,
     "metadata": {},
     "output_type": "execute_result"
    }
   ],
   "source": [
    "sunf = np.asarray(image)\n",
    "sunf.shape"
   ]
  },
  {
   "cell_type": "code",
   "execution_count": 36,
   "metadata": {},
   "outputs": [
    {
     "data": {
      "text/plain": [
       "(3, 3, 3)"
      ]
     },
     "execution_count": 36,
     "metadata": {},
     "output_type": "execute_result"
    }
   ],
   "source": [
    "vert_detect_3d = np.array([\n",
    "                            [\n",
    "                                [1, 0, -1],\n",
    "                                [1, 0, -1],\n",
    "                                [1, 0, -1]\n",
    "                            ],\n",
    "                            [\n",
    "                                [1, 0, -1],\n",
    "                                [1, 0, -1],\n",
    "                                [1, 0, -1]\n",
    "                            ],\n",
    "                            [\n",
    "                                [1, 0, -1],\n",
    "                                [1, 0, -1],\n",
    "                                [1, 0, -1]\n",
    "                            ]\n",
    "                        ])\n",
    "\n",
    "vert_detect_3d.shape"
   ]
  },
  {
   "cell_type": "code",
   "execution_count": 37,
   "metadata": {},
   "outputs": [
    {
     "data": {
      "text/plain": [
       "(3, 3, 3)"
      ]
     },
     "execution_count": 37,
     "metadata": {},
     "output_type": "execute_result"
    }
   ],
   "source": [
    "hor_detect_3d = np.array([\n",
    "                            [\n",
    "                                [1, 1, 1],\n",
    "                                [0, 0, 0],\n",
    "                                [-1, -1, -1]\n",
    "                            ],\n",
    "                            [\n",
    "                                [1, 1, 1],\n",
    "                                [0, 0, 0],\n",
    "                                [-1, -1, -1]\n",
    "                            ],\n",
    "                            [\n",
    "                                [1, 1, 1],\n",
    "                                [0, 0, 0],\n",
    "                                [-1, -1, -1]\n",
    "                            ]\n",
    "                        ])\n",
    "\n",
    "hor_detect_3d.shape"
   ]
  },
  {
   "cell_type": "markdown",
   "metadata": {},
   "source": [
    "Helper functions:"
   ]
  },
  {
   "cell_type": "code",
   "execution_count": 38,
   "metadata": {},
   "outputs": [],
   "source": [
    "def stride2d(_image, _filter, add_stride=0):\n",
    "    coords = []\n",
    "    x = 0\n",
    "    y = 0\n",
    "    z = 0\n",
    "\n",
    "    f_h = _filter.shape[0]\n",
    "    f_w = _filter.shape[1]\n",
    "    f_z = _filter.shape[2]\n",
    "    \n",
    "    img_h = _image.shape[0]\n",
    "    img_w = _image.shape[1]\n",
    "    img_z = _image.shape[2]\n",
    "        \n",
    "    for line in range(img_h):\n",
    "\n",
    "        if line + f_h <= img_h:\n",
    "                x_start = line\n",
    "                x_end = line + f_h\n",
    "\n",
    "        for col in range(img_w):\n",
    "\n",
    "            if col + f_w <= img_w:\n",
    "                y_start = col\n",
    "                y_end = col +  f_w\n",
    "\n",
    "            coords.append([x_start, x_end, y_start, y_end])\n",
    "\n",
    "        out = np.unique(coords, axis=0)\n",
    "    return out   "
   ]
  },
  {
   "cell_type": "code",
   "execution_count": 39,
   "metadata": {
    "scrolled": false
   },
   "outputs": [],
   "source": [
    "def conv3d(_image, _filter, add_stride=0, verbose=False):\n",
    "    convs = []\n",
    "    sums = []\n",
    "    coords = stride2d(_image, _filter)\n",
    "    f_x = _filter.shape[0]\n",
    "    f_y = _filter.shape[1]\n",
    "    f_z = _filter.shape[2]\n",
    "    for xyc in coords:\n",
    "        # x\n",
    "        s_x = xyc[0]\n",
    "        e_x = xyc[1]\n",
    "        # y\n",
    "        s_y = xyc[2]\n",
    "        e_y = xyc[3]\n",
    "        cube = _image[s_x:e_x, s_y:e_y, :]\n",
    "        conv = cube * _filter\n",
    "        total = np.sum(conv)\n",
    "        convs.append(total)\n",
    "        sums.append(total)\n",
    "        if verbose == True:\n",
    "            print('Coords: [{}:{}, {}:{}, {}]'.format(s_x, e_x, s_y, e_y, ':'))\n",
    "            print('Slice:\\n{}'.format(cube))\n",
    "            print('Conv:\\n{}'.format(conv))\n",
    "            print('Sum: {}'.format(total) + '\\n')\n",
    "    r_h = _image.shape[0] - f_x + 1\n",
    "    r_w = _image.shape[1] - f_y + 1\n",
    "    r = np.array(sums).reshape(r_h, r_w)\n",
    "    \n",
    "    return r"
   ]
  },
  {
   "cell_type": "code",
   "execution_count": 40,
   "metadata": {
    "scrolled": true
   },
   "outputs": [],
   "source": [
    "sunf_conv = conv3d(_image=sunf, _filter=vert_detect_3d, verbose=False)"
   ]
  },
  {
   "cell_type": "code",
   "execution_count": 41,
   "metadata": {},
   "outputs": [
    {
     "data": {
      "text/plain": [
       "(array([[ 626,  992, 1128, 1173, 1073,  636],\n",
       "        [ 628, 1054, 1231, 1264, 1116,  657],\n",
       "        [ 627,  872,  872,  908,  940,  665],\n",
       "        [ 377,  500,  495,  501,  536,  402],\n",
       "        [ 153,  126,   94,  121,  200,  197],\n",
       "        [ -49,  -13,   69,   89,   35,   19]]), (6, 6))"
      ]
     },
     "execution_count": 41,
     "metadata": {},
     "output_type": "execute_result"
    }
   ],
   "source": [
    "sunf_conv, sunf_conv.shape"
   ]
  },
  {
   "cell_type": "markdown",
   "metadata": {},
   "source": [
    "## III) Pooling"
   ]
  },
  {
   "cell_type": "markdown",
   "metadata": {},
   "source": [
    "Helper functions:"
   ]
  },
  {
   "cell_type": "code",
   "execution_count": 42,
   "metadata": {},
   "outputs": [],
   "source": [
    "def poolWindow(_in, _w_size):\n",
    "    i_x = _in.shape[0]\n",
    "    i_y = _in.shape[1]\n",
    "    coords = []\n",
    "    for x in range(i_x):\n",
    "        for y in range(i_y):\n",
    "            start = x, y\n",
    "            end = x + _w_size, y + _w_size\n",
    "            if end[0] <= i_x:\n",
    "                if end[1] <= i_y:\n",
    "                    coords.append([start, end])\n",
    "    return coords"
   ]
  },
  {
   "cell_type": "code",
   "execution_count": 43,
   "metadata": {},
   "outputs": [],
   "source": [
    "from math import floor"
   ]
  },
  {
   "cell_type": "code",
   "execution_count": 44,
   "metadata": {},
   "outputs": [],
   "source": [
    "def maxPool(_in, _w_size, pretty=False):\n",
    "    print('input shape = {}\\n'.format(_in.shape))\n",
    "    coords = poolWindow(_in, _w_size)\n",
    "    pools = []\n",
    "    output = ''\n",
    "    for c in coords:\n",
    "        x_start = c[0][0]\n",
    "        x_end = c[1][0]\n",
    "        y_start = c[0][1]\n",
    "        y_end = c[1][1]\n",
    "        window = _in[x_start:x_end, y_start:y_end]\n",
    "        maxpool = np.max(window)\n",
    "        pools.append(maxpool)\n",
    "        if pretty == True:\n",
    "            print('x: {} -> {}, y: {} -> {}'.format(x_start, x_end, y_start, y_end))\n",
    "            print('window:\\n{}'.format(window))\n",
    "            print('max pool = {}\\n'.format(maxpool))\n",
    "    out_shape_x = floor((_in.shape[0] - _w_size) + 1)\n",
    "    out_shape_y = floor((_in.shape[1] - _w_size) + 1)\n",
    "    output = np.array(pools).reshape(out_shape_x,\n",
    "                                     out_shape_y)\n",
    "    print('output shape = {}'.format(output.shape))\n",
    "    return output"
   ]
  },
  {
   "cell_type": "code",
   "execution_count": 45,
   "metadata": {
    "scrolled": false
   },
   "outputs": [
    {
     "name": "stdout",
     "output_type": "stream",
     "text": [
      "input shape = (6, 6)\n",
      "\n",
      "output shape = (4, 4)\n"
     ]
    },
    {
     "data": {
      "text/plain": [
       "array([[1231, 1264, 1264, 1264],\n",
       "       [1231, 1264, 1264, 1264],\n",
       "       [ 872,  908,  940,  940],\n",
       "       [ 500,  501,  536,  536]])"
      ]
     },
     "execution_count": 45,
     "metadata": {},
     "output_type": "execute_result"
    }
   ],
   "source": [
    "# maxPool(sunf_conv, 3, True)\n",
    "maxPool(sunf_conv, 3, False)"
   ]
  },
  {
   "cell_type": "markdown",
   "metadata": {},
   "source": [
    "And there you have it!\n",
    "___"
   ]
  }
 ],
 "metadata": {
  "kernelspec": {
   "display_name": "Python 3",
   "language": "python",
   "name": "python3"
  },
  "language_info": {
   "codemirror_mode": {
    "name": "ipython",
    "version": 3
   },
   "file_extension": ".py",
   "mimetype": "text/x-python",
   "name": "python",
   "nbconvert_exporter": "python",
   "pygments_lexer": "ipython3",
   "version": "3.6.8"
  }
 },
 "nbformat": 4,
 "nbformat_minor": 2
}
