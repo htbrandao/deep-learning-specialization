{
 "cells": [
  {
   "cell_type": "markdown",
   "metadata": {},
   "source": [
    "# # Review: Week 1, 2 and mid week 3"
   ]
  },
  {
   "cell_type": "markdown",
   "metadata": {},
   "source": [
    "## ## Week 1"
   ]
  },
  {
   "cell_type": "markdown",
   "metadata": {},
   "source": [
    "## I) Edge detection"
   ]
  },
  {
   "cell_type": "code",
   "execution_count": 582,
   "metadata": {},
   "outputs": [],
   "source": [
    "import numpy as np\n",
    "from sklearn import datasets\n",
    "import matplotlib.pyplot as plt"
   ]
  },
  {
   "cell_type": "code",
   "execution_count": 583,
   "metadata": {},
   "outputs": [],
   "source": [
    "dt = datasets.load_digits()"
   ]
  },
  {
   "cell_type": "code",
   "execution_count": 584,
   "metadata": {},
   "outputs": [],
   "source": [
    "# print(dt.DESCR)"
   ]
  },
  {
   "cell_type": "code",
   "execution_count": 585,
   "metadata": {},
   "outputs": [
    {
     "data": {
      "text/plain": [
       "(1797, 1797, 10, 1797)"
      ]
     },
     "execution_count": 585,
     "metadata": {},
     "output_type": "execute_result"
    }
   ],
   "source": [
    "len(dt.data), len(dt.target), len(dt.target_names), len(dt.images)"
   ]
  },
  {
   "cell_type": "code",
   "execution_count": 586,
   "metadata": {},
   "outputs": [
    {
     "data": {
      "text/plain": [
       "(1797, 64)"
      ]
     },
     "execution_count": 586,
     "metadata": {},
     "output_type": "execute_result"
    }
   ],
   "source": [
    "dt.data.shape"
   ]
  },
  {
   "cell_type": "code",
   "execution_count": 587,
   "metadata": {},
   "outputs": [
    {
     "data": {
      "text/plain": [
       "(1797,)"
      ]
     },
     "execution_count": 587,
     "metadata": {},
     "output_type": "execute_result"
    }
   ],
   "source": [
    "dt.target.shape"
   ]
  },
  {
   "cell_type": "code",
   "execution_count": 588,
   "metadata": {},
   "outputs": [
    {
     "data": {
      "text/plain": [
       "(1797, 8, 8)"
      ]
     },
     "execution_count": 588,
     "metadata": {},
     "output_type": "execute_result"
    }
   ],
   "source": [
    "dt.images.shape"
   ]
  },
  {
   "cell_type": "code",
   "execution_count": 589,
   "metadata": {},
   "outputs": [
    {
     "name": "stdout",
     "output_type": "stream",
     "text": [
      "vector:\n",
      "[[ 0.  0.  0. 12. 13.  5.  0.  0.]\n",
      " [ 0.  0.  0. 11. 16.  9.  0.  0.]\n",
      " [ 0.  0.  3. 15. 16.  6.  0.  0.]\n",
      " [ 0.  7. 15. 16. 16.  2.  0.  0.]\n",
      " [ 0.  0.  1. 16. 16.  3.  0.  0.]\n",
      " [ 0.  0.  1. 16. 16.  6.  0.  0.]\n",
      " [ 0.  0.  1. 16. 16.  6.  0.  0.]\n",
      " [ 0.  0.  0. 11. 16. 10.  0.  0.]]\n",
      "label:1\n"
     ]
    }
   ],
   "source": [
    "no1 = dt.images[1]\n",
    "no1_target = dt.target[1]\n",
    "\n",
    "print('vector:\\n{}\\nlabel:{}'.format(no1, no1_target))"
   ]
  },
  {
   "cell_type": "markdown",
   "metadata": {},
   "source": [
    "The above array would look like something like this:\n",
    "\n",
    "![](media/1.png)"
   ]
  },
  {
   "cell_type": "markdown",
   "metadata": {},
   "source": [
    "*(Check below to see that I got that right lol)*"
   ]
  },
  {
   "cell_type": "code",
   "execution_count": 590,
   "metadata": {},
   "outputs": [
    {
     "data": {
      "image/png": "[encoded data removed]",
      "text/plain": [
       "<Figure size 216x216 with 1 Axes>"
      ]
     },
     "metadata": {
      "needs_background": "light"
     },
     "output_type": "display_data"
    }
   ],
   "source": [
    "plt.figure(1, figsize=(3, 3))\n",
    "plt.imshow(no1, cmap=plt.cm.gray_r, interpolation='nearest')\n",
    "plt.show()"
   ]
  },
  {
   "cell_type": "markdown",
   "metadata": {},
   "source": [
    "**Example: Vertical edge detection**\n",
    "\n",
    "Define the edge detector:"
   ]
  },
  {
   "cell_type": "code",
   "execution_count": 591,
   "metadata": {},
   "outputs": [],
   "source": [
    "v_edge_detector = np.array([\n",
    "                        [1, 0, -1],\n",
    "                        [1, 0, -1],\n",
    "                        [1, 0, -1]\n",
    "])"
   ]
  },
  {
   "cell_type": "markdown",
   "metadata": {},
   "source": [
    "Let's define helper functions:"
   ]
  },
  {
   "cell_type": "code",
   "execution_count": 592,
   "metadata": {},
   "outputs": [],
   "source": [
    "# Walk over the picture\n",
    "\n",
    "def stride(_image, _filter, add_stride=0):\n",
    "    coords = []\n",
    "    h = _image.shape[0]\n",
    "    w = _image.shape[1]\n",
    "    f_h = _filter.shape[0]\n",
    "    f_w = _filter.shape[1]\n",
    "    # Note that we don't need to set default stride value\n",
    "    # of 1 because we are already iterating over the\n",
    "    # lines and columns\n",
    "    for line in range(h):\n",
    "        for col in range(w):\n",
    "            start = line, col\n",
    "            end = line + f_h + add_stride, col + f_w + add_stride\n",
    "            if end[0] <= h:\n",
    "                if end[1] <=  w:\n",
    "                    coords.append([start, end])\n",
    "    return coords"
   ]
  },
  {
   "cell_type": "markdown",
   "metadata": {},
   "source": [
    "Input dimension:\n",
    "\n",
    "$n_{height}^{[l-1]}$ x $n_{width}^{[l-1]}$ x $n_{channels}^{[l-1]}$\n",
    "\n",
    "Output dimension:\n",
    "\n",
    "$n_{height}^{[l]}$ x $n_{width}^{[l]}$ x $n_{channels}^{[l]}$\n",
    "\n",
    "**where**,\n",
    "\n",
    "$n^{[l]} = floor([\\frac{n^{[l]}+2*p^{[l]}-f}{s^{[l]}} +1]$)"
   ]
  },
  {
   "cell_type": "markdown",
   "metadata": {},
   "source": [
    "**if** $height \\neq width$, **then**\n",
    "\n",
    "$n_{height}^{[l]} = floor([\\frac{n_{height}^{[l]}+2*p^{[l]}-f}{s^{[l]}} +1]$)\n",
    "\n",
    "**and**,\n",
    "\n",
    "$n_{width}^{[l]} = floor([\\frac{n_{width}^{[l]}+2*p^{[l]}-f}{s^{[l]}}+1]$)"
   ]
  },
  {
   "cell_type": "code",
   "execution_count": 593,
   "metadata": {},
   "outputs": [],
   "source": [
    "# Perform the convolution\n",
    "    \n",
    "def conv2d(_image, _filter, add_stride=0, verbose=True):\n",
    "    convs = []\n",
    "    coords = stride(_image, _filter, add_stride)\n",
    "    f_x = _filter.shape[0]\n",
    "    f_y = _filter.shape[1]\n",
    "    for c in coords:\n",
    "        # start\n",
    "        s_x = c[0][0]\n",
    "        s_y = c[0][1]\n",
    "        # end\n",
    "        e_x = c[1][0]\n",
    "        e_y = c[1][1]\n",
    "        window = _image[s_x:e_x, s_y:e_y]\n",
    "        conv = window * _filter\n",
    "        det = np.sum(conv)\n",
    "        convs.append(det)\n",
    "        if verbose == True:\n",
    "            print('Coords: {}'.format(c))\n",
    "            print('Slice:\\n{}'.format(window))\n",
    "            print('Conv:\\n{}'.format(conv))\n",
    "            print('Sum: {}'.format(det) + '\\n')\n",
    "    # We need to save the results from each convolution\n",
    "    # in our new convolution result matrix\n",
    "    # The result matrix shall have height and width:\n",
    "    # (h_prev - filter_h) + 1\n",
    "    r_h = _image.shape[0] - f_x + 1\n",
    "    r_w = _image.shape[1] - f_y + 1\n",
    "    # Now, fill in the values from the convolution\n",
    "    # into the result matrix\n",
    "    r = np.array(convs).reshape(r_h, r_w)\n",
    "    return r"
   ]
  },
  {
   "cell_type": "markdown",
   "metadata": {},
   "source": [
    "**Case I**:"
   ]
  },
  {
   "cell_type": "code",
   "execution_count": 594,
   "metadata": {},
   "outputs": [
    {
     "data": {
      "text/plain": [
       "(array([[10, 10, 10,  0,  0,  0],\n",
       "        [10, 10, 10,  0,  0,  0],\n",
       "        [10, 10, 10,  0,  0,  0],\n",
       "        [10, 10, 10,  0,  0,  0],\n",
       "        [10, 10, 10,  0,  0,  0],\n",
       "        [10, 10, 10,  0,  0,  0]]), (6, 6))"
      ]
     },
     "execution_count": 594,
     "metadata": {},
     "output_type": "execute_result"
    }
   ],
   "source": [
    "vertical_array = np.array([\n",
    "    [10, 10, 10, 0, 0, 0],\n",
    "    [10, 10, 10, 0, 0, 0],\n",
    "    [10, 10, 10, 0, 0, 0],\n",
    "    [10, 10, 10, 0, 0, 0],\n",
    "    [10, 10, 10, 0, 0, 0],\n",
    "    [10, 10, 10, 0, 0, 0]\n",
    "    ])\n",
    "\n",
    "vertical_array, vertical_array.shape"
   ]
  },
  {
   "cell_type": "code",
   "execution_count": 595,
   "metadata": {},
   "outputs": [
    {
     "data": {
      "text/plain": [
       "array([[ 0, 30, 30,  0],\n",
       "       [ 0, 30, 30,  0],\n",
       "       [ 0, 30, 30,  0],\n",
       "       [ 0, 30, 30,  0]])"
      ]
     },
     "execution_count": 595,
     "metadata": {},
     "output_type": "execute_result"
    }
   ],
   "source": [
    "vertical_conv = conv2d(vertical_array, v_edge_detector, verbose=False)\n",
    "vertical_conv"
   ]
  },
  {
   "cell_type": "code",
   "execution_count": 596,
   "metadata": {},
   "outputs": [
    {
     "data": {
      "text/plain": [
       "array([[False,  True,  True, False],\n",
       "       [False,  True,  True, False],\n",
       "       [False,  True,  True, False],\n",
       "       [False,  True,  True, False]])"
      ]
     },
     "execution_count": 596,
     "metadata": {},
     "output_type": "execute_result"
    }
   ],
   "source": [
    "vertical_conv > 0"
   ]
  },
  {
   "cell_type": "markdown",
   "metadata": {},
   "source": [
    "**Case II**:"
   ]
  },
  {
   "cell_type": "code",
   "execution_count": 597,
   "metadata": {},
   "outputs": [
    {
     "data": {
      "text/plain": [
       "array([[ 0.,  0.,  0., 12., 13.,  5.,  0.,  0.],\n",
       "       [ 0.,  0.,  0., 11., 16.,  9.,  0.,  0.],\n",
       "       [ 0.,  0.,  3., 15., 16.,  6.,  0.,  0.],\n",
       "       [ 0.,  7., 15., 16., 16.,  2.,  0.,  0.],\n",
       "       [ 0.,  0.,  1., 16., 16.,  3.,  0.,  0.],\n",
       "       [ 0.,  0.,  1., 16., 16.,  6.,  0.,  0.],\n",
       "       [ 0.,  0.,  1., 16., 16.,  6.,  0.,  0.],\n",
       "       [ 0.,  0.,  0., 11., 16., 10.,  0.,  0.]])"
      ]
     },
     "execution_count": 597,
     "metadata": {},
     "output_type": "execute_result"
    }
   ],
   "source": [
    "no1"
   ]
  },
  {
   "cell_type": "code",
   "execution_count": 598,
   "metadata": {},
   "outputs": [
    {
     "data": {
      "image/png": "[encoded data removed]",
      "text/plain": [
       "<Figure size 216x216 with 1 Axes>"
      ]
     },
     "metadata": {
      "needs_background": "light"
     },
     "output_type": "display_data"
    }
   ],
   "source": [
    "plt.figure(1, figsize=(3, 3))\n",
    "plt.imshow(no1, cmap=plt.cm.gray_r, interpolation='nearest')\n",
    "plt.show()"
   ]
  },
  {
   "cell_type": "code",
   "execution_count": 599,
   "metadata": {
    "scrolled": false
   },
   "outputs": [
    {
     "data": {
      "text/plain": [
       "array([[ -3., -38., -42.,  18.,  45.,  20.],\n",
       "       [-18., -35., -30.,  25.,  48.,  17.],\n",
       "       [-19., -40., -29.,  36.,  48.,  11.],\n",
       "       [-17., -41., -31.,  37.,  48.,  11.],\n",
       "       [ -3., -48., -45.,  33.,  48.,  15.],\n",
       "       [ -2., -43., -46.,  21.,  48.,  22.]])"
      ]
     },
     "execution_count": 599,
     "metadata": {},
     "output_type": "execute_result"
    }
   ],
   "source": [
    "no1_conv_v = conv2d(no1, v_edge_detector, verbose=False)\n",
    "no1_conv_v"
   ]
  },
  {
   "cell_type": "markdown",
   "metadata": {},
   "source": [
    "Let's see it another way:"
   ]
  },
  {
   "cell_type": "code",
   "execution_count": 600,
   "metadata": {},
   "outputs": [
    {
     "data": {
      "text/plain": [
       "array([[False, False, False,  True,  True,  True],\n",
       "       [False, False, False,  True,  True,  True],\n",
       "       [False, False, False,  True,  True,  True],\n",
       "       [False, False, False,  True,  True,  True],\n",
       "       [False, False, False,  True,  True,  True],\n",
       "       [False, False, False,  True,  True,  True]])"
      ]
     },
     "execution_count": 600,
     "metadata": {},
     "output_type": "execute_result"
    }
   ],
   "source": [
    "no1_conv_v > 0"
   ]
  },
  {
   "cell_type": "markdown",
   "metadata": {},
   "source": [
    "See how it captures the vertical edge?\n",
    "\n",
    "Let's try it again applying a horizontal edge detector:"
   ]
  },
  {
   "cell_type": "code",
   "execution_count": 601,
   "metadata": {},
   "outputs": [
    {
     "data": {
      "text/plain": [
       "array([[ 1,  1,  1],\n",
       "       [ 0,  0,  0],\n",
       "       [-1, -1, -1]])"
      ]
     },
     "execution_count": 601,
     "metadata": {},
     "output_type": "execute_result"
    }
   ],
   "source": [
    "h_edge_detector = v_edge_detector.T\n",
    "h_edge_detector"
   ]
  },
  {
   "cell_type": "code",
   "execution_count": 602,
   "metadata": {},
   "outputs": [
    {
     "data": {
      "text/plain": [
       "array([[ 0.,  0.,  0., 12., 13.,  5.,  0.,  0.],\n",
       "       [ 0.,  0.,  0., 11., 16.,  9.,  0.,  0.],\n",
       "       [ 0.,  0.,  3., 15., 16.,  6.,  0.,  0.],\n",
       "       [ 0.,  7., 15., 16., 16.,  2.,  0.,  0.],\n",
       "       [ 0.,  0.,  1., 16., 16.,  3.,  0.,  0.],\n",
       "       [ 0.,  0.,  1., 16., 16.,  6.,  0.,  0.],\n",
       "       [ 0.,  0.,  1., 16., 16.,  6.,  0.,  0.],\n",
       "       [ 0.,  0.,  0., 11., 16., 10.,  0.,  0.]])"
      ]
     },
     "execution_count": 602,
     "metadata": {},
     "output_type": "execute_result"
    }
   ],
   "source": [
    "no1"
   ]
  },
  {
   "cell_type": "code",
   "execution_count": 603,
   "metadata": {},
   "outputs": [
    {
     "data": {
      "image/png": "[encoded data removed]",
      "text/plain": [
       "<Figure size 216x216 with 1 Axes>"
      ]
     },
     "metadata": {
      "needs_background": "light"
     },
     "output_type": "display_data"
    }
   ],
   "source": [
    "plt.figure(1, figsize=(3, 3))\n",
    "plt.imshow(no1, cmap=plt.cm.gray_r, interpolation='nearest')\n",
    "plt.show()"
   ]
  },
  {
   "cell_type": "code",
   "execution_count": 604,
   "metadata": {},
   "outputs": [],
   "source": [
    "no1_conv_h = conv2d(no1, h_edge_detector, verbose=False)"
   ]
  },
  {
   "cell_type": "code",
   "execution_count": 605,
   "metadata": {},
   "outputs": [
    {
     "data": {
      "text/plain": [
       "array([[False, False, False, False, False, False],\n",
       "       [False, False, False,  True,  True,  True],\n",
       "       [ True,  True,  True,  True,  True,  True],\n",
       "       [ True,  True,  True, False, False, False],\n",
       "       [False, False, False, False, False, False],\n",
       "       [ True,  True,  True,  True, False, False]])"
      ]
     },
     "execution_count": 605,
     "metadata": {},
     "output_type": "execute_result"
    }
   ],
   "source": [
    "no1_conv_h > 0"
   ]
  },
  {
   "cell_type": "markdown",
   "metadata": {},
   "source": [
    "___\n",
    "We may also use the filter matrix values as parameters to be learned by backprop:\n",
    "\n",
    "![](media/pback.png)\n",
    "\n",
    "Just remember that the *Loss* will point out how fare we are from the actual target, and the learning rate together with the partial derivatives will update the weights, leading them to our goal of feature detection."
   ]
  },
  {
   "cell_type": "markdown",
   "metadata": {},
   "source": [
    "## II) Convolutions over volume"
   ]
  },
  {
   "cell_type": "markdown",
   "metadata": {},
   "source": [
    "We will apply convolution in the following form:\n",
    "\n",
    "$Image_{8x8x3} * Filter_{3x3x3} = Conv_{6x6}$\n",
    "\n",
    "Note that since the image has 3 channels, the filter also have to, so it handles the image well.\n",
    "\n",
    "**Example:**"
   ]
  },
  {
   "cell_type": "code",
   "execution_count": 625,
   "metadata": {},
   "outputs": [],
   "source": [
    "from PIL import Image"
   ]
  },
  {
   "cell_type": "code",
   "execution_count": 626,
   "metadata": {},
   "outputs": [],
   "source": [
    "image = Image.open('media/sunflower.jpeg')"
   ]
  },
  {
   "cell_type": "markdown",
   "metadata": {},
   "source": [
    "Behold my mighty sunflower and its pixels:"
   ]
  },
  {
   "cell_type": "code",
   "execution_count": 641,
   "metadata": {},
   "outputs": [
    {
     "data": {
      "image/png": "[encoded data removed]",
      "text/plain": [
       "<Figure size 216x216 with 1 Axes>"
      ]
     },
     "metadata": {
      "needs_background": "light"
     },
     "output_type": "display_data"
    }
   ],
   "source": [
    "plt.figure(1, figsize=(3, 3))\n",
    "plt.imshow(image, cmap=plt.cm.gray_r, interpolation='nearest')\n",
    "plt.show()"
   ]
  },
  {
   "cell_type": "markdown",
   "metadata": {},
   "source": [
    "Notice it's three (RGB) channels"
   ]
  },
  {
   "cell_type": "code",
   "execution_count": 642,
   "metadata": {},
   "outputs": [
    {
     "data": {
      "text/plain": [
       "(8, 8, 3)"
      ]
     },
     "execution_count": 642,
     "metadata": {},
     "output_type": "execute_result"
    }
   ],
   "source": [
    "sunf = np.asarray(image)\n",
    "sunf.shape"
   ]
  },
  {
   "cell_type": "markdown",
   "metadata": {},
   "source": [
    "Let's try again with the $vertical$ $edge$ $detection$."
   ]
  },
  {
   "cell_type": "markdown",
   "metadata": {},
   "source": [
    "<div class=\"alert alert-warning\">\n",
    "Note that we will apply the <b>same filter</b> for all the channels.\n",
    "\n",
    "This doesn't need to happen like this.\n",
    "\n",
    "Usually, each filter channel will be aimed at something different.\n",
    "\n",
    "Remember that there's the possibility for the values of the filter to become parameters updated using gradient descent! So they'll probably be distinct all over.\n",
    "\n",
    "</div>"
   ]
  },
  {
   "cell_type": "code",
   "execution_count": 643,
   "metadata": {},
   "outputs": [
    {
     "data": {
      "text/plain": [
       "(3, 3, 3)"
      ]
     },
     "execution_count": 643,
     "metadata": {},
     "output_type": "execute_result"
    }
   ],
   "source": [
    "vert_detect_3d = np.array([\n",
    "                            [\n",
    "                                [1, 0, -1],\n",
    "                                [1, 0, -1],\n",
    "                                [1, 0, -1]\n",
    "                            ],\n",
    "                            [\n",
    "                                [1, 0, -1],\n",
    "                                [1, 0, -1],\n",
    "                                [1, 0, -1]\n",
    "                            ],\n",
    "                            [\n",
    "                                [1, 0, -1],\n",
    "                                [1, 0, -1],\n",
    "                                [1, 0, -1]\n",
    "                            ]\n",
    "                        ])\n",
    "\n",
    "vert_detect_3d.shape"
   ]
  },
  {
   "cell_type": "code",
   "execution_count": 644,
   "metadata": {},
   "outputs": [],
   "source": [
    "# For pixel values, typically 0 is taken to be black, and 255 is taken to be white.\n",
    "# Let's divide all pixels by 255 to keep it simple.\n",
    "\n",
    "# sunf = sunf/255.0"
   ]
  },
  {
   "cell_type": "markdown",
   "metadata": {},
   "source": [
    "We need to apply it to EACH channel.\n",
    "\n",
    "Helper functions time:"
   ]
  },
  {
   "cell_type": "code",
   "execution_count": 645,
   "metadata": {},
   "outputs": [],
   "source": [
    "def stride3d(_image, _filter, add_stride=0):\n",
    "    coords = []\n",
    "    h = _image.shape[0]\n",
    "    w = _image.shape[1]\n",
    "    c = _image.shape[2]\n",
    "    f_h = _filter.shape[0]\n",
    "    f_w = _filter.shape[1]\n",
    "    f_c = _filter.shape[2]\n",
    "    # Note that we don't need to set default stride value\n",
    "    # of 1 because we are already iterating over the\n",
    "    # lines and columns\n",
    "    for channel in range(c):\n",
    "        for line in range(h):\n",
    "            for col in range(w):\n",
    "                start = line, col\n",
    "                end = line + f_h + add_stride, col + f_w + add_stride\n",
    "                if end[0] <= h:\n",
    "                    if end[1] <= w:\n",
    "                        coords.append([start, end, channel])\n",
    "    return coords   "
   ]
  },
  {
   "cell_type": "code",
   "execution_count": 646,
   "metadata": {},
   "outputs": [],
   "source": [
    "def conv3d(_image, _filter, add_stride=0, verbose=False):\n",
    "    convs = []\n",
    "    coords = stride3d(_image, _filter)\n",
    "    f_x = _filter.shape[0]\n",
    "    f_y = _filter.shape[1]\n",
    "    f_z = _filter.shape[2]\n",
    "    for xyc in coords:\n",
    "        #channel\n",
    "        s_c = xyc[2]\n",
    "        # start\n",
    "        s_x = xyc[0][0]\n",
    "        s_y = xyc[0][1]\n",
    "        # end\n",
    "        e_x = xyc[1][0]\n",
    "        e_y = xyc[1][1]\n",
    "        window = _image[s_x:e_x, s_y:e_y, s_c]\n",
    "        conv = window * _filter\n",
    "        det = np.sum(conv)\n",
    "        convs.append(det)\n",
    "        if verbose == True:\n",
    "            print('Coords: {}'.format(xyc))\n",
    "            print('Slice:\\n{}'.format(window))\n",
    "            print('Conv:\\n{}'.format(conv))\n",
    "            print('Sum: {}'.format(det) + '\\n')\n",
    "    # We need to save the results from each convolution\n",
    "    # in our new convolution result matrix\n",
    "    # The result matrix shall have height and width:\n",
    "    # (h_prev - filter_h) + 1\n",
    "    # and the same number of channels of both image and filter\n",
    "    r_h = _image.shape[0] - f_x + 1\n",
    "    r_w = _image.shape[1] - f_y + 1\n",
    "    r_c = _image.shape[2]\n",
    "    # Now, fill in the values from the convolution\n",
    "    # into the result matrix\n",
    "    r = np.array(convs).reshape(r_h, r_w, r_c)\n",
    "    return r    "
   ]
  },
  {
   "cell_type": "code",
   "execution_count": 647,
   "metadata": {
    "scrolled": false
   },
   "outputs": [],
   "source": [
    "sunf_conv = conv3d(_image=sunf, _filter=vert_detect_3d, verbose=False)"
   ]
  },
  {
   "cell_type": "code",
   "execution_count": 648,
   "metadata": {},
   "outputs": [
    {
     "data": {
      "text/plain": [
       "(6, 6, 3)"
      ]
     },
     "execution_count": 648,
     "metadata": {},
     "output_type": "execute_result"
    }
   ],
   "source": [
    "sunf_conv.shape"
   ]
  },
  {
   "cell_type": "markdown",
   "metadata": {},
   "source": [
    "Remember the image:"
   ]
  },
  {
   "cell_type": "code",
   "execution_count": 649,
   "metadata": {},
   "outputs": [
    {
     "data": {
      "image/png": "[encoded data removed]",
      "text/plain": [
       "<Figure size 216x216 with 1 Axes>"
      ]
     },
     "metadata": {
      "needs_background": "light"
     },
     "output_type": "display_data"
    }
   ],
   "source": [
    "plt.figure(1, figsize=(3, 3))\n",
    "plt.imshow(image, cmap=plt.cm.gray_r, interpolation='nearest')\n",
    "plt.show()"
   ]
  },
  {
   "cell_type": "code",
   "execution_count": 869,
   "metadata": {},
   "outputs": [
    {
     "name": "stdout",
     "output_type": "stream",
     "text": [
      "Channel: R\n",
      "Conv\n",
      "[[  348   -24   126   -75   351  -429]\n",
      " [  342  -684   960 -1101   759 -1344]\n",
      " [  363   -12   135  -126   387   -39]\n",
      " [  399     6   315   -39    27  -258]\n",
      " [ 1218  -117  1083  -297  1167  -240]\n",
      " [  834  -543  1017  -882   684 -1467]]\n",
      "\n",
      "Channel: G\n",
      "Conv\n",
      "[[ -306   369  -495   459   -45    72]\n",
      " [  327  -507   249 -1059   495 -1365]\n",
      " [ -390   417  -582   705  -546   675]\n",
      " [ -297   342   -33   -18   273  -387]\n",
      " [  -27   -60     9   -12   -33   180]\n",
      " [  372  -342   216  -759   855 -1413]]\n",
      "\n",
      "Channel: B\n",
      "Conv\n",
      "[[   -3  -390   162  -153   354  -294]\n",
      " [  729  -303   414  -276   630   -12]\n",
      " [   84  -531    48  -234  -120  -351]\n",
      " [  -93  -324    33  -231   351    -6]\n",
      " [  354 -1479   510 -1281   261 -1320]\n",
      " [  546  -906   213  -567   699   -51]]\n",
      "\n"
     ]
    }
   ],
   "source": [
    "rgb = ['R', 'G', 'B']\n",
    "for channel in range(sunf_conv.shape[2]):\n",
    "    print('Channel: {}\\nConv\\n{}\\n'.format(rgb[channel],\n",
    "                                           sunf_conv[:, :, channel]))"
   ]
  },
  {
   "cell_type": "markdown",
   "metadata": {},
   "source": [
    "There you go!"
   ]
  },
  {
   "cell_type": "markdown",
   "metadata": {},
   "source": [
    "## III) Pooling"
   ]
  },
  {
   "cell_type": "markdown",
   "metadata": {},
   "source": [
    "We just conv'd the sunflower,"
   ]
  },
  {
   "cell_type": "code",
   "execution_count": 740,
   "metadata": {},
   "outputs": [
    {
     "data": {
      "text/plain": [
       "(6, 6, 3)"
      ]
     },
     "execution_count": 740,
     "metadata": {},
     "output_type": "execute_result"
    }
   ],
   "source": [
    "sunf_conv.shape"
   ]
  },
  {
   "cell_type": "markdown",
   "metadata": {},
   "source": [
    "Helper functions:"
   ]
  },
  {
   "cell_type": "code",
   "execution_count": 1040,
   "metadata": {},
   "outputs": [],
   "source": [
    "def poolWindow(_in, _w_size, pretty=False):\n",
    "    i_x = _in.shape[0]\n",
    "    i_y = _in.shape[1]\n",
    "    i_z = _in.shape[2]\n",
    "    coords = []\n",
    "    for z in range(i_z):\n",
    "        for x in range(i_x):\n",
    "            for y in range(i_y):\n",
    "                start = x, y\n",
    "                end = x + _w_size, y + _w_size\n",
    "                if end[0] < i_x + 1:\n",
    "                    if end[1] < i_y + 1:\n",
    "                        coords.append([start, end, z])\n",
    "    return coords"
   ]
  },
  {
   "cell_type": "code",
   "execution_count": 1043,
   "metadata": {},
   "outputs": [],
   "source": [
    "from math import floor"
   ]
  },
  {
   "cell_type": "code",
   "execution_count": 1058,
   "metadata": {},
   "outputs": [],
   "source": [
    "def maxPool(_in, _w_size, pretty=False):\n",
    "    print('input shape = {}'.format(_in.shape))\n",
    "    coords = poolWindow(_in, _w_size)\n",
    "    pools = []\n",
    "    output = ''\n",
    "    for c in coords:\n",
    "        x_start = c[0][0]\n",
    "        x_end = c[1][0]\n",
    "        y_start = c[0][1]\n",
    "        y_end = c[1][1]\n",
    "        z = c[2]\n",
    "        window = _in[x_start:x_end, y_start:y_end, z]\n",
    "        maxpool = np.max(window)\n",
    "        pools.append(maxpool)\n",
    "        if pretty == True:\n",
    "            print('x: {} -> {}, y: {} -> {}, z: {}'.format(x_start,\n",
    "                                                            x_end,\n",
    "                                                            y_start,\n",
    "                                                            y_end,\n",
    "                                                            z))\n",
    "            print('window:\\n{}'.format(window))\n",
    "            print('max pool = {}\\n'.format(maxpool))\n",
    "    out_shape_x = floor((_in.shape[0] - _w_size) + 1)\n",
    "    out_shape_y = floor((_in.shape[1] - _w_size) + 1)\n",
    "    out_shape_z = _in.shape[2]\n",
    "    output = np.array(pools).reshape(out_shape_x,\n",
    "                                     out_shape_y,\n",
    "                                     out_shape_z)\n",
    "    print('output shape = {}'.format(output.shape))\n",
    "    return output"
   ]
  },
  {
   "cell_type": "code",
   "execution_count": 1059,
   "metadata": {
    "scrolled": false
   },
   "outputs": [
    {
     "name": "stdout",
     "output_type": "stream",
     "text": [
      "input shape = (6, 6, 3)\n",
      "output shape = (4, 4, 3)\n"
     ]
    },
    {
     "data": {
      "text/plain": [
       "array([[[ 960,  960,  960],\n",
       "        [ 759,  960,  960],\n",
       "        [ 960,  759, 1218],\n",
       "        [1083, 1167, 1167]],\n",
       "\n",
       "       [[1218, 1083, 1167],\n",
       "        [1167,  417,  705],\n",
       "        [ 705,  705,  417],\n",
       "        [ 705,  705,  705]],\n",
       "\n",
       "       [[ 417,  705,  705],\n",
       "        [ 705,  372,  342],\n",
       "        [ 855,  855,  729],\n",
       "        [ 414,  630,  630]],\n",
       "\n",
       "       [[ 729,  414,  630],\n",
       "        [ 630,  510,  510],\n",
       "        [ 510,  351,  546],\n",
       "        [ 510,  699,  699]]])"
      ]
     },
     "execution_count": 1059,
     "metadata": {},
     "output_type": "execute_result"
    }
   ],
   "source": [
    "maxPool(sunf_conv, 3, False)"
   ]
  },
  {
   "cell_type": "markdown",
   "metadata": {},
   "source": [
    "And there you have it!\n",
    "___"
   ]
  },
  {
   "cell_type": "code",
   "execution_count": null,
   "metadata": {},
   "outputs": [],
   "source": []
  },
  {
   "cell_type": "code",
   "execution_count": null,
   "metadata": {},
   "outputs": [],
   "source": []
  },
  {
   "cell_type": "code",
   "execution_count": null,
   "metadata": {},
   "outputs": [],
   "source": []
  },
  {
   "cell_type": "code",
   "execution_count": null,
   "metadata": {},
   "outputs": [],
   "source": []
  },
  {
   "cell_type": "code",
   "execution_count": null,
   "metadata": {},
   "outputs": [],
   "source": []
  },
  {
   "cell_type": "code",
   "execution_count": null,
   "metadata": {},
   "outputs": [],
   "source": []
  },
  {
   "cell_type": "code",
   "execution_count": null,
   "metadata": {},
   "outputs": [],
   "source": []
  },
  {
   "cell_type": "code",
   "execution_count": null,
   "metadata": {},
   "outputs": [],
   "source": []
  },
  {
   "cell_type": "code",
   "execution_count": null,
   "metadata": {},
   "outputs": [],
   "source": []
  },
  {
   "cell_type": "code",
   "execution_count": null,
   "metadata": {},
   "outputs": [],
   "source": []
  },
  {
   "cell_type": "code",
   "execution_count": null,
   "metadata": {},
   "outputs": [],
   "source": []
  },
  {
   "cell_type": "code",
   "execution_count": null,
   "metadata": {},
   "outputs": [],
   "source": []
  },
  {
   "cell_type": "code",
   "execution_count": null,
   "metadata": {},
   "outputs": [],
   "source": []
  },
  {
   "cell_type": "code",
   "execution_count": null,
   "metadata": {},
   "outputs": [],
   "source": []
  },
  {
   "cell_type": "code",
   "execution_count": null,
   "metadata": {},
   "outputs": [],
   "source": []
  },
  {
   "cell_type": "code",
   "execution_count": null,
   "metadata": {},
   "outputs": [],
   "source": []
  },
  {
   "cell_type": "code",
   "execution_count": null,
   "metadata": {},
   "outputs": [],
   "source": []
  },
  {
   "cell_type": "code",
   "execution_count": null,
   "metadata": {},
   "outputs": [],
   "source": []
  },
  {
   "cell_type": "code",
   "execution_count": null,
   "metadata": {},
   "outputs": [],
   "source": []
  },
  {
   "cell_type": "code",
   "execution_count": null,
   "metadata": {},
   "outputs": [],
   "source": []
  },
  {
   "cell_type": "code",
   "execution_count": null,
   "metadata": {},
   "outputs": [],
   "source": []
  },
  {
   "cell_type": "code",
   "execution_count": null,
   "metadata": {},
   "outputs": [],
   "source": []
  },
  {
   "cell_type": "code",
   "execution_count": null,
   "metadata": {},
   "outputs": [],
   "source": []
  },
  {
   "cell_type": "code",
   "execution_count": null,
   "metadata": {},
   "outputs": [],
   "source": []
  },
  {
   "cell_type": "code",
   "execution_count": null,
   "metadata": {},
   "outputs": [],
   "source": []
  }
 ],
 "metadata": {
  "kernelspec": {
   "display_name": "Python 3",
   "language": "python",
   "name": "python3"
  },
  "language_info": {
   "codemirror_mode": {
    "name": "ipython",
    "version": 3
   },
   "file_extension": ".py",
   "mimetype": "text/x-python",
   "name": "python",
   "nbconvert_exporter": "python",
   "pygments_lexer": "ipython3",
   "version": "3.6.9"
  }
 },
 "nbformat": 4,
 "nbformat_minor": 2
}
