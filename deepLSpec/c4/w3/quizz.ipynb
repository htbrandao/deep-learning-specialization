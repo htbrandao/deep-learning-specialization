{
 "cells": [
  {
   "cell_type": "markdown",
   "metadata": {},
   "source": [
    "# # Quiz 3 (10/10)"
   ]
  },
  {
   "cell_type": "markdown",
   "metadata": {},
   "source": [
    "![](media/Selection_011.png)\n",
    "![](media/Selection_002.png)\n",
    "![](media/Selection_001.png)\n",
    "![](media/Selection_012.png)\n",
    "![](media/Selection_005.png)\n",
    "![](media/Selection_006.png)\n",
    "![](media/Selection_007.png)\n",
    "![](media/Selection_008.png)\n",
    "\n",
    "### 9)\n",
    "Answer: 5 boxes.\n",
    "\n",
    "![](media/Selection_010.png)"
   ]
  },
  {
   "cell_type": "code",
   "execution_count": null,
   "metadata": {},
   "outputs": [],
   "source": []
  }
 ],
 "metadata": {
  "kernelspec": {
   "display_name": "Python 3",
   "language": "python",
   "name": "python3"
  },
  "language_info": {
   "codemirror_mode": {
    "name": "ipython",
    "version": 3
   },
   "file_extension": ".py",
   "mimetype": "text/x-python",
   "name": "python",
   "nbconvert_exporter": "python",
   "pygments_lexer": "ipython3",
   "version": "3.6.9"
  }
 },
 "nbformat": 4,
 "nbformat_minor": 2
}
