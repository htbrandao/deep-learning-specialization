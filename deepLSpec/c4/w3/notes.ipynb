{
 "cells": [
  {
   "cell_type": "markdown",
   "metadata": {},
   "source": [
    "# Course 4: Week 3"
   ]
  },
  {
   "cell_type": "markdown",
   "metadata": {},
   "source": [
    "## # Object Localization\n",
    "\n",
    "We'll output a few more numbers to form the bounding box coordinates.\n",
    "\n",
    "![](media/loc.png)\n",
    "\n",
    "$p_c$ E (0, 1) : is there an object?\n",
    "\n",
    "$b_x$, $b_y$, $b_h$, $b_w$ : bounding box coordinates\n",
    "\n",
    "$c_1$, $c_2$, $c_3$ : object class\n",
    "\n",
    "Loss:\n",
    "\n",
    "- If $y_1 = 1$:\n",
    "\n",
    "$L(ŷ, y) = (ŷ_1^{2} - y_1^{2}) + ... + (ŷ_8^{2} - y_8^{2})$\n",
    "\n",
    "- If $y_1 = 0$, when the rest of the values are **don't care**:\n",
    "\n",
    "$L(ŷ, y) = (ŷ_1^{2} - y_1^{2})$,\n",
    "___\n",
    "\n",
    "**Example:**\n",
    "\n",
    "![](media/loc1.png)"
   ]
  },
  {
   "cell_type": "markdown",
   "metadata": {},
   "source": [
    "## # Landmark Detection\n",
    "\n",
    "Generate a labeled training set of the key landmarks on the disered place of detection.\n",
    "\n",
    "Each landmark will have it's own $(l_x, l_y)$ coordinates.\n",
    "\n",
    "![](media/land.png)\n",
    "\n",
    "[...] \"someone will have had to go through and laboriously annotate all of these landmarks.\"\n",
    "\n",
    "**This is why we should always contribute to open source.**\n",
    "\n",
    "Note that the landmarks should be consistent acrross images."
   ]
  },
  {
   "cell_type": "markdown",
   "metadata": {},
   "source": [
    "## # Object detection"
   ]
  },
  {
   "cell_type": "markdown",
   "metadata": {},
   "source": [
    "## ## Sliding Window\n",
    "\n",
    "First, we need a labeled (and cropped) training set:\n",
    "\n",
    "![](media/od.png)\n",
    "\n",
    "We will apply a sliding window detection using a ConvNet to detect what we want ($0$ or $1$):\n",
    "\n",
    "![](media/od2.png)\n",
    "\n",
    "After striding the window on the entire image, increase the window size. And repeat the process.\n",
    "\n",
    "![](media/od3.png)\n",
    "\n",
    "This takes a high computational cost and need a fine grain to be accurate."
   ]
  },
  {
   "cell_type": "markdown",
   "metadata": {},
   "source": [
    "## ## Convolutional Sliding Window\n",
    "\n",
    "**Example:**\n",
    "\n",
    "![](media/sw.png)\n",
    "\n",
    "We will replace the FC layers with conv layers,\n",
    "\n",
    "![](media/sw2.png)\n",
    "___\n",
    "\n",
    "**Example:**\n",
    "\n",
    "![](media/sw3.png)\n",
    "\n",
    "[...] \"instead of doing it sequentially, with this convolutional implementation that you saw in the previous slide, you can implement the entire image, all maybe 28 by 28 and convolutionally make all the predictions at the same time by one forward pass through this big convnet and hopefully have it recognize the position of the car\"\n",
    "\n",
    "![](media/sw4.png)"
   ]
  },
  {
   "cell_type": "markdown",
   "metadata": {},
   "source": [
    "## # Bounding box prediction\n",
    "\n",
    "![](media/bb.png)\n",
    "\n",
    "![](media/bb1.png)\n",
    "\n",
    "![](media/bb2.png)"
   ]
  },
  {
   "cell_type": "markdown",
   "metadata": {},
   "source": []
  },
  {
   "cell_type": "markdown",
   "metadata": {},
   "source": []
  },
  {
   "cell_type": "markdown",
   "metadata": {},
   "source": []
  },
  {
   "cell_type": "markdown",
   "metadata": {},
   "source": []
  },
  {
   "cell_type": "markdown",
   "metadata": {},
   "source": []
  },
  {
   "cell_type": "markdown",
   "metadata": {},
   "source": []
  },
  {
   "cell_type": "code",
   "execution_count": 21,
   "metadata": {},
   "outputs": [
    {
     "name": "stdout",
     "output_type": "stream",
     "text": [
      "mv: cannot stat '/home/f4119597/Downloads/Screenshot.png': No such file or directory\r\n"
     ]
    }
   ],
   "source": [
    "mv -v /home/f4119597/Downloads/Screenshot.png media/bb.png"
   ]
  },
  {
   "cell_type": "code",
   "execution_count": null,
   "metadata": {},
   "outputs": [],
   "source": []
  },
  {
   "cell_type": "code",
   "execution_count": null,
   "metadata": {},
   "outputs": [],
   "source": []
  },
  {
   "cell_type": "code",
   "execution_count": null,
   "metadata": {},
   "outputs": [],
   "source": []
  },
  {
   "cell_type": "code",
   "execution_count": null,
   "metadata": {},
   "outputs": [],
   "source": []
  },
  {
   "cell_type": "code",
   "execution_count": null,
   "metadata": {},
   "outputs": [],
   "source": []
  },
  {
   "cell_type": "code",
   "execution_count": null,
   "metadata": {},
   "outputs": [],
   "source": []
  },
  {
   "cell_type": "code",
   "execution_count": null,
   "metadata": {},
   "outputs": [],
   "source": []
  },
  {
   "cell_type": "code",
   "execution_count": null,
   "metadata": {},
   "outputs": [],
   "source": []
  },
  {
   "cell_type": "code",
   "execution_count": null,
   "metadata": {},
   "outputs": [],
   "source": []
  },
  {
   "cell_type": "code",
   "execution_count": null,
   "metadata": {},
   "outputs": [],
   "source": []
  },
  {
   "cell_type": "code",
   "execution_count": null,
   "metadata": {},
   "outputs": [],
   "source": []
  },
  {
   "cell_type": "code",
   "execution_count": null,
   "metadata": {},
   "outputs": [],
   "source": []
  },
  {
   "cell_type": "code",
   "execution_count": null,
   "metadata": {},
   "outputs": [],
   "source": []
  },
  {
   "cell_type": "code",
   "execution_count": null,
   "metadata": {},
   "outputs": [],
   "source": []
  },
  {
   "cell_type": "code",
   "execution_count": null,
   "metadata": {},
   "outputs": [],
   "source": []
  },
  {
   "cell_type": "code",
   "execution_count": null,
   "metadata": {},
   "outputs": [],
   "source": []
  },
  {
   "cell_type": "code",
   "execution_count": null,
   "metadata": {},
   "outputs": [],
   "source": []
  }
 ],
 "metadata": {
  "kernelspec": {
   "display_name": "Python 3",
   "language": "python",
   "name": "python3"
  },
  "language_info": {
   "codemirror_mode": {
    "name": "ipython",
    "version": 3
   },
   "file_extension": ".py",
   "mimetype": "text/x-python",
   "name": "python",
   "nbconvert_exporter": "python",
   "pygments_lexer": "ipython3",
   "version": "3.6.9"
  }
 },
 "nbformat": 4,
 "nbformat_minor": 2
}
