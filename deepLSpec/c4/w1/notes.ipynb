{
 "cells": [
  {
   "cell_type": "markdown",
   "metadata": {},
   "source": [
    "# # Course 4: Week 1"
   ]
  },
  {
   "cell_type": "markdown",
   "metadata": {},
   "source": [
    "## ## Convolution\n",
    "\n",
    "[What is an intuitive explanation for convolution?](https://www.quora.com/What-is-an-intuitive-explanation-for-convolution)\n",
    "\n",
    "[Intuitively Understanding Convolutions for Deep Learning](https://towardsdatascience.com/intuitively-understanding-convolutions-for-deep-learning-1f6f42faee1)"
   ]
  },
  {
   "cell_type": "markdown",
   "metadata": {},
   "source": [
    "## ### Edge detection\n",
    "\n",
    "We'll apply a filter, running over the image matrix.\n",
    "\n",
    "The following filter (kernel) is used for vertical edge detection:\n",
    "\n",
    "![](media/ed.png)\n",
    "\n",
    "(For each iteration, this could be represented as: $line_{from\\_picture} * column_{from\\_filter}.T$)\n",
    "\n",
    "Why it works:\n",
    "\n",
    "![](media/ed2.png)\n",
    "\n",
    "[...] \"a vertical edge is where there are bright pixels on the left, you do not care that much what is in the middle and dark pixels on the right.\"\n",
    "\n",
    "![](media/ed3.png)\n",
    "\n",
    "___\n",
    "**Example:**\n",
    "\n",
    "![](media/ed4.png)\n",
    "\n",
    "___\n",
    "**Example:**\n",
    "\n",
    "![](media/ed5.png)"
   ]
  },
  {
   "cell_type": "markdown",
   "metadata": {},
   "source": [
    "## ### Padding\n",
    "\n",
    "Default convolving will lead to lose information on the image's border/edges.\n",
    "\n",
    "![](media/padd.png)\n",
    "\n",
    "So, we could add/use padding. Which will increase the relevance of the image's borders/edges pixels and preserve the output dimmension equals to the input's.\n",
    "\n",
    "![](media/padd2.png)\n",
    "\n",
    "___\n",
    "Forms of implementing padding:\n",
    "\n",
    "![](media/padd3.png)\n",
    "\n",
    "$padding = \\frac{f - 1}{2}$\n",
    "\n",
    "## ### Strided convolutions\n",
    "\n",
    "Works as a `step`, $(i,j)$-wise.\n",
    "\n",
    "With a padding of $p$ and a stride of $s$:\n",
    "\n",
    "\n",
    "![](media/stri.png)\n",
    "\n",
    "$i.e.:$\n",
    "\n",
    "______\n",
    "\n",
    "![](media/stri3.png)\n",
    "\n",
    "___\n",
    "\n",
    "(For non-integer values, round down (floor) the value.)\n",
    "\n",
    "The kernel product only happens when the multiplication is possible:\n",
    "\n",
    "![](media/stri2.png)"
   ]
  },
  {
   "cell_type": "markdown",
   "metadata": {},
   "source": []
  },
  {
   "cell_type": "markdown",
   "metadata": {},
   "source": []
  },
  {
   "cell_type": "markdown",
   "metadata": {},
   "source": []
  },
  {
   "cell_type": "markdown",
   "metadata": {},
   "source": []
  },
  {
   "cell_type": "code",
   "execution_count": 24,
   "metadata": {},
   "outputs": [],
   "source": [
    "import numpy as np"
   ]
  },
  {
   "cell_type": "code",
   "execution_count": 45,
   "metadata": {},
   "outputs": [
    {
     "name": "stdout",
     "output_type": "stream",
     "text": [
      "[[ 3  4  5]\n",
      " [ 1  0  2]\n",
      " [-1  9  7]] \n",
      "shape:(3, 3)\n"
     ]
    }
   ],
   "source": [
    "v = np.array(\n",
    "[[3, 4, 5],\n",
    "[1, 0, 2],\n",
    "[-1, 9, 7]]\n",
    ")\n",
    "\n",
    "print('{} \\n\\nshape:{}'.format(v, v.shape))"
   ]
  },
  {
   "cell_type": "code",
   "execution_count": 40,
   "metadata": {},
   "outputs": [
    {
     "data": {
      "text/plain": [
       "array([[ 5,  4,  3],\n",
       "       [ 2,  0,  1],\n",
       "       [ 7,  9, -1]])"
      ]
     },
     "execution_count": 40,
     "metadata": {},
     "output_type": "execute_result"
    }
   ],
   "source": [
    "np.dot(v, np.array([[0, 0, '1], [0, 1, 0], [1, 0, 0]]))"
   ]
  },
  {
   "cell_type": "code",
   "execution_count": null,
   "metadata": {},
   "outputs": [],
   "source": []
  },
  {
   "cell_type": "code",
   "execution_count": null,
   "metadata": {},
   "outputs": [],
   "source": []
  },
  {
   "cell_type": "code",
   "execution_count": null,
   "metadata": {},
   "outputs": [],
   "source": []
  },
  {
   "cell_type": "code",
   "execution_count": 23,
   "metadata": {},
   "outputs": [
    {
     "name": "stdout",
     "output_type": "stream",
     "text": [
      "renamed '/home/f4119597/Downloads/Screenshot.png' -> 'media/stri3.png'\r\n"
     ]
    }
   ],
   "source": [
    "! mv -v /home/f4119597/Downloads/Screenshot.png media/stri4.png"
   ]
  },
  {
   "cell_type": "code",
   "execution_count": null,
   "metadata": {},
   "outputs": [],
   "source": []
  },
  {
   "cell_type": "code",
   "execution_count": null,
   "metadata": {},
   "outputs": [],
   "source": []
  },
  {
   "cell_type": "code",
   "execution_count": null,
   "metadata": {},
   "outputs": [],
   "source": []
  },
  {
   "cell_type": "code",
   "execution_count": null,
   "metadata": {},
   "outputs": [],
   "source": []
  },
  {
   "cell_type": "code",
   "execution_count": null,
   "metadata": {},
   "outputs": [],
   "source": []
  },
  {
   "cell_type": "code",
   "execution_count": null,
   "metadata": {},
   "outputs": [],
   "source": []
  },
  {
   "cell_type": "code",
   "execution_count": null,
   "metadata": {},
   "outputs": [],
   "source": []
  },
  {
   "cell_type": "code",
   "execution_count": null,
   "metadata": {},
   "outputs": [],
   "source": []
  },
  {
   "cell_type": "code",
   "execution_count": null,
   "metadata": {},
   "outputs": [],
   "source": []
  },
  {
   "cell_type": "code",
   "execution_count": null,
   "metadata": {},
   "outputs": [],
   "source": []
  },
  {
   "cell_type": "code",
   "execution_count": null,
   "metadata": {},
   "outputs": [],
   "source": []
  },
  {
   "cell_type": "code",
   "execution_count": null,
   "metadata": {},
   "outputs": [],
   "source": []
  }
 ],
 "metadata": {
  "kernelspec": {
   "display_name": "Python 3",
   "language": "python",
   "name": "python3"
  },
  "language_info": {
   "codemirror_mode": {
    "name": "ipython",
    "version": 3
   },
   "file_extension": ".py",
   "mimetype": "text/x-python",
   "name": "python",
   "nbconvert_exporter": "python",
   "pygments_lexer": "ipython3",
   "version": "3.6.9"
  }
 },
 "nbformat": 4,
 "nbformat_minor": 2
}
