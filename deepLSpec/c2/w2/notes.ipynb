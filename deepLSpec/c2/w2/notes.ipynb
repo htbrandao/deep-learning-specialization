{
 "cells": [
  {
   "cell_type": "markdown",
   "metadata": {},
   "source": [
    "# Course 2: Week 2"
   ]
  },
  {
   "cell_type": "markdown",
   "metadata": {},
   "source": [
    "## ## Mini-batch gradient descent\n",
    "\n",
    "To process your whole training set at once would demand a lot of memory. Instead, we will split our training set inti mini-batchs (smaller portions) of size $t$.\n",
    "\n",
    "Then, we run our model on each portion at a time, until it has run all of them."
   ]
  },
  {
   "cell_type": "markdown",
   "metadata": {},
   "source": [
    "**Example:**\n",
    "\n",
    "\n",
    "One of the many parameters that we used was `number_of_iterations`. \n",
    "\n",
    "Assume,\n",
    "\n",
    "`number_of_iterations` = 10, and that we split our trainig data ($X$) in 50 parts.\n",
    "\n",
    "Then, for each mini-batch $0 < i < 50$, $X^{\\{i\\}}$ we will run $X^{\\{i\\}}$ through our model a `number_of_iterations`-times.\n",
    "\n",
    "Whenever all 50 parts are done, we'll have **1 $epoch$**\n",
    "\n",
    "Which means we just got a new parameter to tune: `number of epochs`."
   ]
  },
  {
   "cell_type": "markdown",
   "metadata": {},
   "source": [
    "![](files/media/mini.png)\n",
    "\n",
    "Pay attention to $X^{\\{i\\}}$'s and $Y^{\\{i\\}}$'s shapes:\n",
    "\n",
    "$X := (n_x, t)$ and $Y := (1, t)$\n"
   ]
  },
  {
   "cell_type": "markdown",
   "metadata": {},
   "source": []
  },
  {
   "cell_type": "markdown",
   "metadata": {},
   "source": []
  },
  {
   "cell_type": "markdown",
   "metadata": {},
   "source": []
  },
  {
   "cell_type": "markdown",
   "metadata": {},
   "source": []
  },
  {
   "cell_type": "markdown",
   "metadata": {},
   "source": []
  },
  {
   "cell_type": "markdown",
   "metadata": {},
   "source": []
  },
  {
   "cell_type": "markdown",
   "metadata": {},
   "source": []
  },
  {
   "cell_type": "markdown",
   "metadata": {},
   "source": []
  },
  {
   "cell_type": "markdown",
   "metadata": {},
   "source": []
  },
  {
   "cell_type": "markdown",
   "metadata": {},
   "source": []
  },
  {
   "cell_type": "code",
   "execution_count": 1,
   "metadata": {},
   "outputs": [
    {
     "name": "stdout",
     "output_type": "stream",
     "text": [
      "renamed '/home/f4119597/Downloads/Screenshot.png' -> './files/media/mini.png'\r\n"
     ]
    }
   ],
   "source": [
    "# !mv -v /home/f4119597/Downloads/Screenshot.png ./files/media/mini.png"
   ]
  },
  {
   "cell_type": "code",
   "execution_count": null,
   "metadata": {},
   "outputs": [],
   "source": []
  }
 ],
 "metadata": {
  "kernelspec": {
   "display_name": "Python 3",
   "language": "python",
   "name": "python3"
  },
  "language_info": {
   "codemirror_mode": {
    "name": "ipython",
    "version": 3
   },
   "file_extension": ".py",
   "mimetype": "text/x-python",
   "name": "python",
   "nbconvert_exporter": "python",
   "pygments_lexer": "ipython3",
   "version": "3.6.9"
  }
 },
 "nbformat": 4,
 "nbformat_minor": 2
}
