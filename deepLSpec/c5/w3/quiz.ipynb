{
 "cells": [
  {
   "cell_type": "markdown",
   "metadata": {},
   "source": [
    "# # Quiz 3 (/10)"
   ]
  },
  {
   "cell_type": "markdown",
   "metadata": {},
   "source": [
    "![](media/q1.png)\n",
    "![](media/q2.png)\n",
    "![](media/q3.png)\n",
    "![](media/q4.png)\n",
    "![](media/q5.png)\n",
    "![](media/q6.png)\n",
    "![](media/q7.png)\n",
    "![](media/q8.png)\n",
    "![](media/q9.png)\n",
    "![](media/q10.png)"
   ]
  }
 ],
 "metadata": {
  "kernelspec": {
   "display_name": "Python 3",
   "language": "python",
   "name": "python3"
  },
  "language_info": {
   "codemirror_mode": {
    "name": "ipython",
    "version": 3
   },
   "file_extension": ".py",
   "mimetype": "text/x-python",
   "name": "python",
   "nbconvert_exporter": "python",
   "pygments_lexer": "ipython3",
   "version": "3.6.9"
  }
 },
 "nbformat": 4,
 "nbformat_minor": 2
}
