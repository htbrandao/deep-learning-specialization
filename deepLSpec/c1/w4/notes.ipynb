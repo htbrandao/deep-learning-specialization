{
 "cells": [
  {
   "cell_type": "markdown",
   "metadata": {},
   "source": [
    "# Course 1: Week 4"
   ]
  },
  {
   "cell_type": "markdown",
   "metadata": {},
   "source": [
    "## # Deep neural network\n",
    "\n",
    "![deep1](./files/media/deep1.png)\n",
    "\n",
    "![deep2](./files/media/deep2.png)"
   ]
  },
  {
   "cell_type": "markdown",
   "metadata": {},
   "source": [
    "## # Foward propagation in a Deep Network\n",
    "\n",
    "![fp](./files/media/fp.png)\n",
    "\n",
    "![fp2](./files/media/fp2.png)\n",
    "\n",
    "Applying a vectorized logic:\n",
    "\n",
    "![fp3](./files/media/fp3.png)"
   ]
  },
  {
   "cell_type": "markdown",
   "metadata": {},
   "source": [
    "## # Matrix dimensions \n",
    "\n",
    "## ## Single feature:\n",
    "\n",
    "![dim](./files/media/dim.png)\n",
    "\n",
    "![dim2](./files/media/dim2.png)\n",
    "\n",
    "w, l:\n",
    "\n",
    "`w[l]` : **(`n[l]`, `n[l-1]`)**\n",
    "\n",
    "`b[l]` : **(`n[l]`, 1)**\n",
    "\n",
    "dw, db:\n",
    "\n",
    "`dw[l]` : `w[l]` : **(`n[l]`, `n[l-1]`)**\n",
    "\n",
    "`db[l]` : `b[l]` : **(`n[l]`, 1)**\n",
    "\n",
    "z, a:\n",
    "\n",
    "`z[l]` : **(`n[l]`, 1)**\n",
    "\n",
    "`a[l]` : `z[l]` : **(`n[l]`, 1)**\n",
    "\n",
    "dz, da:\n",
    "\n",
    "`dz[l]` : `z[l]` : **(`n[l]`, 1)**\n",
    "\n",
    "`da[l]` : `a[l]`\n",
    "\n",
    "\n",
    "## ## Vectorized implementation:\n",
    "\n",
    "![dim3](./files/media/dim3.png)"
   ]
  },
  {
   "cell_type": "markdown",
   "metadata": {},
   "source": [
    "## # Example\n",
    "\n",
    "![ex](./files/media/ex.png)\n",
    "\n",
    "Foward and backward step:\n",
    "\n",
    "![ex2](./files/media/ex2.png)\n",
    "\n",
    "On each step, store the values:\n",
    "\n",
    "![ex3](./files/media/ex3.png)\n",
    "\n",
    "![ex4](./files/media/ex4.png)"
   ]
  },
  {
   "cell_type": "markdown",
   "metadata": {},
   "source": [
    "## # Hyperparameters\n",
    "\n",
    "[...] \"things that you need to tell your learning algorithm and so these are parameters **that control the ultimate parameters W and B** and so we call all of these things below hyperparameters\"\n",
    "\n",
    "E.g.: `learning rate`, `# of iterations`, `# of hidden layers`,\n",
    "`# of hidden units on a layer`, `different activation function`."
   ]
  },
  {
   "cell_type": "markdown",
   "metadata": {},
   "source": [
    "<div class=\"alert alert-block alert-info\">\n",
    "<b>Head's up!</b>\n",
    "<br>\n",
    "Regarding assingment #4:\n",
    "<br>\n",
    "<br>\n",
    "You could get confused because you will only have to calculate the <b>first gradient</b> (dL/dA, L is cost). Since we'll use <b>ReLU</b> as the activation function for all the <b>L-1</b> layers, you should remember that: $ReLU(x) = max(0, x) = f(x)$\n",
    "<br>\n",
    "<br>\n",
    "Then,\n",
    "<br>\n",
    "<br>\n",
    "$\\frac{\\partial \\mathcal{f}}{\\partial x} :=$\n",
    "<br>\n",
    "    <b>&nbsp;&nbsp;&nbsp;&nbsp;1</b>, if $f(x) > 0$\n",
    "    <br>\n",
    "    <t>&nbsp;&nbsp;&nbsp;&nbsp;&nbsp;&nbsp;&nbsp;&nbsp;or,<t>\n",
    "    <br>\n",
    "    <b>&nbsp;&nbsp;&nbsp;&nbsp;0</b>, if $f(x) < 0$\n",
    "<br>\n",
    "<br>\n",
    "Which means that on each step of the gradient descent,\n",
    "<br>\n",
    "<br>\n",
    "$\\frac{\\partial \\mathcal{f}}{\\partial 'SOMETHING'}$ = {0, 1}, for x ≠ \n",
    "0\n",
    "<br>\n",
    "<br>\n",
    "Thus, we do not need to figure it out manually on each step!\n",
    "\n",
    "</div>"
   ]
  },
  {
   "cell_type": "code",
   "execution_count": null,
   "metadata": {},
   "outputs": [],
   "source": []
  }
 ],
 "metadata": {
  "kernelspec": {
   "display_name": "Python 3",
   "language": "python",
   "name": "python3"
  },
  "language_info": {
   "codemirror_mode": {
    "name": "ipython",
    "version": 3
   },
   "file_extension": ".py",
   "mimetype": "text/x-python",
   "name": "python",
   "nbconvert_exporter": "python",
   "pygments_lexer": "ipython3",
   "version": "3.6.9"
  }
 },
 "nbformat": 4,
 "nbformat_minor": 2
}
