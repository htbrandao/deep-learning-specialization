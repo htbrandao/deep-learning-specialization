{
 "cells": [
  {
   "cell_type": "markdown",
   "metadata": {},
   "source": [
    "# Course1: Week 4"
   ]
  },
  {
   "cell_type": "markdown",
   "metadata": {},
   "source": [
    "## # Deep neural network\n",
    "\n",
    "![deep1](./files/media/deep1.png)\n",
    "\n",
    "![deep2](./files/media/deep2.png)"
   ]
  },
  {
   "cell_type": "markdown",
   "metadata": {},
   "source": [
    "## # Foward propagation in a Deep Network\n",
    "\n",
    "![fp](./files/media/fp.png)\n",
    "\n",
    "![fp2](./files/media/fp2.png)\n",
    "\n",
    "Applying a vectorized logic:\n",
    "\n",
    "![fp3](./files/media/fp3.png)"
   ]
  },
  {
   "cell_type": "markdown",
   "metadata": {},
   "source": [
    "## # Matrix dimensions \n",
    "\n",
    "## ## Single feature:\n",
    "\n",
    "![dim](./files/media/dim.png)\n",
    "\n",
    "![dim2](./files/media/dim2.png)\n",
    "\n",
    "w, l:\n",
    "\n",
    "`w[l]` : **(`n[l]`, `n[l-1]`)**\n",
    "\n",
    "`b[l]` : **(`n[l]`, 1)**\n",
    "\n",
    "dw, db:\n",
    "\n",
    "`dw[l]` : `w[l]` : **(`n[l]`, `n[l-1]`)**\n",
    "\n",
    "`db[l]` : `b[l]` : **(`n[l]`, 1)**\n",
    "\n",
    "z, a:\n",
    "\n",
    "`z[l]` : **(`n[l]`, 1)**\n",
    "\n",
    "`a[l]` : `z[l]` : **(`n[l]`, 1)**\n",
    "\n",
    "dz, da:\n",
    "\n",
    "`dz[l]` : `z[l]` : **(`n[l]`, 1)**\n",
    "\n",
    "`da[l]` : `a[l]`\n",
    "\n",
    "\n",
    "## ## Vectorized implementation:\n",
    "\n",
    "![dim3](./files/media/dim3.png)"
   ]
  },
  {
   "cell_type": "markdown",
   "metadata": {},
   "source": []
  },
  {
   "cell_type": "markdown",
   "metadata": {},
   "source": []
  },
  {
   "cell_type": "markdown",
   "metadata": {},
   "source": []
  },
  {
   "cell_type": "markdown",
   "metadata": {},
   "source": []
  },
  {
   "cell_type": "markdown",
   "metadata": {},
   "source": []
  },
  {
   "cell_type": "code",
   "execution_count": 21,
   "metadata": {},
   "outputs": [],
   "source": [
    "# !mv /home/f4119597/Downloads/Screenshot.png ./files/media/dim3.png"
   ]
  },
  {
   "cell_type": "code",
   "execution_count": 27,
   "metadata": {},
   "outputs": [
    {
     "name": "stdout",
     "output_type": "stream",
     "text": [
      "total 1236\r\n",
      "-rw-rw---- 1 f4119597 f4119597 144193 jan 10 16:03 deep1.png\r\n",
      "-rw-rw---- 1 f4119597 f4119597 212328 jan 13 12:04 deep2.png\r\n",
      "-rw-rw---- 1 f4119597 f4119597 331847 jan 13 13:00 dim2.png\r\n",
      "-rw-rw---- 1 f4119597 f4119597 219117 jan 13 13:13 dim3.png\r\n",
      "-rw-rw---- 1 f4119597 f4119597  62893 jan 13 12:18 dim.png\r\n",
      "-rw-rw---- 1 f4119597 f4119597 141554 jan 13 12:08 fp2.png\r\n",
      "-rw-rw---- 1 f4119597 f4119597  83093 jan 13 12:10 fp3.png\r\n",
      "-rw-rw---- 1 f4119597 f4119597  52079 jan 13 12:05 fp.png\r\n"
     ]
    }
   ],
   "source": [
    "# !ls -l ./files/media/"
   ]
  },
  {
   "cell_type": "code",
   "execution_count": null,
   "metadata": {},
   "outputs": [],
   "source": []
  },
  {
   "cell_type": "code",
   "execution_count": null,
   "metadata": {},
   "outputs": [],
   "source": []
  },
  {
   "cell_type": "code",
   "execution_count": null,
   "metadata": {},
   "outputs": [],
   "source": []
  },
  {
   "cell_type": "code",
   "execution_count": null,
   "metadata": {},
   "outputs": [],
   "source": []
  },
  {
   "cell_type": "code",
   "execution_count": null,
   "metadata": {},
   "outputs": [],
   "source": []
  },
  {
   "cell_type": "code",
   "execution_count": null,
   "metadata": {},
   "outputs": [],
   "source": []
  },
  {
   "cell_type": "code",
   "execution_count": null,
   "metadata": {},
   "outputs": [],
   "source": []
  },
  {
   "cell_type": "code",
   "execution_count": null,
   "metadata": {},
   "outputs": [],
   "source": []
  },
  {
   "cell_type": "code",
   "execution_count": null,
   "metadata": {},
   "outputs": [],
   "source": []
  },
  {
   "cell_type": "code",
   "execution_count": null,
   "metadata": {},
   "outputs": [],
   "source": []
  },
  {
   "cell_type": "code",
   "execution_count": null,
   "metadata": {},
   "outputs": [],
   "source": []
  },
  {
   "cell_type": "code",
   "execution_count": null,
   "metadata": {},
   "outputs": [],
   "source": []
  },
  {
   "cell_type": "code",
   "execution_count": null,
   "metadata": {},
   "outputs": [],
   "source": []
  },
  {
   "cell_type": "code",
   "execution_count": null,
   "metadata": {},
   "outputs": [],
   "source": []
  }
 ],
 "metadata": {
  "kernelspec": {
   "display_name": "Python 3",
   "language": "python",
   "name": "python3"
  },
  "language_info": {
   "codemirror_mode": {
    "name": "ipython",
    "version": 3
   },
   "file_extension": ".py",
   "mimetype": "text/x-python",
   "name": "python",
   "nbconvert_exporter": "python",
   "pygments_lexer": "ipython3",
   "version": "3.6.9"
  }
 },
 "nbformat": 4,
 "nbformat_minor": 2
}
