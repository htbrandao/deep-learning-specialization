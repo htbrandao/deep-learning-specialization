{
 "cells": [
  {
   "cell_type": "markdown",
   "metadata": {},
   "source": [
    "# # Quizz 02"
   ]
  },
  {
   "cell_type": "code",
   "execution_count": 4,
   "metadata": {},
   "outputs": [],
   "source": [
    "import numpy as np"
   ]
  },
  {
   "cell_type": "markdown",
   "metadata": {},
   "source": [
    "## 1)\n",
    "\n",
    "![](files/media/Screenshot.png)"
   ]
  },
  {
   "cell_type": "markdown",
   "metadata": {},
   "source": [
    "## 2)\n",
    "\n",
    "![](files/media/Screenshot(1).png)"
   ]
  },
  {
   "cell_type": "markdown",
   "metadata": {},
   "source": [
    "## 3\n",
    "\n",
    "![](files/media/Screenshot(2).png)"
   ]
  },
  {
   "cell_type": "code",
   "execution_count": 31,
   "metadata": {},
   "outputs": [
    {
     "data": {
      "text/plain": [
       "(32, 32, 3)"
      ]
     },
     "execution_count": 31,
     "metadata": {},
     "output_type": "execute_result"
    }
   ],
   "source": [
    "img = np.random.rand(32, 32, 3)\n",
    "img.shape"
   ]
  },
  {
   "cell_type": "code",
   "execution_count": 32,
   "metadata": {},
   "outputs": [
    {
     "data": {
      "text/plain": [
       "(3072, 1)"
      ]
     },
     "execution_count": 32,
     "metadata": {},
     "output_type": "execute_result"
    }
   ],
   "source": [
    "img.reshape(32*32*3,1).shape # => 3072 rows, 1 column"
   ]
  },
  {
   "cell_type": "markdown",
   "metadata": {},
   "source": [
    "## 4)\n",
    "\n",
    "![](files/media/Screenshot(3).png)"
   ]
  },
  {
   "cell_type": "code",
   "execution_count": 33,
   "metadata": {},
   "outputs": [
    {
     "data": {
      "text/plain": [
       "(2, 3)"
      ]
     },
     "execution_count": 33,
     "metadata": {},
     "output_type": "execute_result"
    }
   ],
   "source": [
    "a = np.random.rand(2, 3)\n",
    "b = np.random.rand(2, 1)\n",
    "\n",
    "c = a + b\n",
    "\n",
    "c.shape"
   ]
  },
  {
   "cell_type": "markdown",
   "metadata": {},
   "source": [
    "## 5)\n",
    "\n",
    "![](files/media/Screenshot(4).png)"
   ]
  },
  {
   "cell_type": "code",
   "execution_count": 34,
   "metadata": {},
   "outputs": [
    {
     "name": "stdout",
     "output_type": "stream",
     "text": [
      "Incompatible dimmensions a: (4, 3), b: (3, 2)\n"
     ]
    }
   ],
   "source": [
    "# The numbers of columns from 'a' is not equal to number of rows in 'b'\n",
    "# Which is a pre-requisite for matrix multiplication\n",
    "\n",
    "a = np.random.randn(4, 3) # a.shape = (4, 3)\n",
    "b = np.random.randn(3, 2) # b.shape = (3, 2)\n",
    "\n",
    "try:\n",
    "    c = a*b\n",
    "except ValueError:\n",
    "    print('Incompatible dimmensions a: {}, b: {}'.format(a.shape, b.shape))"
   ]
  },
  {
   "cell_type": "markdown",
   "metadata": {},
   "source": [
    "## 6)\n",
    "\n",
    "![](files/media/Screenshot(5).png)"
   ]
  },
  {
   "cell_type": "markdown",
   "metadata": {},
   "source": [
    "## 7)\n",
    "![](files/media/Screenshot(6).png)"
   ]
  },
  {
   "cell_type": "code",
   "execution_count": 41,
   "metadata": {},
   "outputs": [
    {
     "data": {
      "text/plain": [
       "((12288, 45),\n",
       " array([[ -4.43282432,  -1.09637328,  -9.68040282, ...,   6.08883315,\n",
       "           2.86251765,  19.17096025],\n",
       "        [  9.7738118 ,  -1.60080902,  13.02186095, ..., -17.0809754 ,\n",
       "           9.42467658,  -9.8730577 ],\n",
       "        [ 11.40819378,   2.52893725,  28.11875595, ..., -20.20452902,\n",
       "          -3.17859654,  -9.43692722],\n",
       "        ...,\n",
       "        [ -7.6890421 ,  10.16757921,   2.72365906, ...,  -8.05634151,\n",
       "         -10.2053162 ,  11.25429377],\n",
       "        [  3.05049505,  -9.41337679,  14.15987165, ...,   9.74124148,\n",
       "           0.80758089,   9.22061538],\n",
       "        [  2.7220818 ,  13.17476692,   4.02334473, ...,   7.63399864,\n",
       "          12.21409269, -10.28642641]]))"
      ]
     },
     "execution_count": 41,
     "metadata": {},
     "output_type": "execute_result"
    }
   ],
   "source": [
    "# Since a.shape[1] == b.shape[0], the product can happen\n",
    "\n",
    "a = np.random.randn(12288, 150) # a.shape = (12288, 150)\n",
    "b = np.random.randn(150, 45) # b.shape = (150, 45)\n",
    "c = np.dot(a,b)\n",
    "\n",
    "c.shape, c"
   ]
  },
  {
   "cell_type": "code",
   "execution_count": 42,
   "metadata": {},
   "outputs": [
    {
     "ename": "ValueError",
     "evalue": "operands could not be broadcast together with shapes (12288,150) (150,45) ",
     "output_type": "error",
     "traceback": [
      "\u001b[0;31m---------------------------------------------------------------------------\u001b[0m",
      "\u001b[0;31mValueError\u001b[0m                                Traceback (most recent call last)",
      "\u001b[0;32m<ipython-input-42-9bc1a869709f>\u001b[0m in \u001b[0;36m<module>\u001b[0;34m\u001b[0m\n\u001b[0;32m----> 1\u001b[0;31m \u001b[0ma\u001b[0m \u001b[0;34m*\u001b[0m \u001b[0mb\u001b[0m\u001b[0;34m\u001b[0m\u001b[0;34m\u001b[0m\u001b[0m\n\u001b[0m",
      "\u001b[0;31mValueError\u001b[0m: operands could not be broadcast together with shapes (12288,150) (150,45) "
     ]
    }
   ],
   "source": [
    "a * b"
   ]
  },
  {
   "cell_type": "markdown",
   "metadata": {},
   "source": [
    "## 8)\n",
    "\n",
    "    a.shape = (3,4)\n",
    "    b.shape = (4,1)\n",
    "\n",
    "`c`: \n",
    "\n",
    "    c1,1 = a1,1 + b1    c1,2 = a1,2 + b2    c1,3 = a1,3 + b3    c1,4 = a1,4 + b4\n",
    "    ...\n",
    "    c4,1 = a4,1 + b1    c4,2 = a1,2 + b2    c4,3 = a1,3 + b3    c4,4 = a1,4 + b4\n",
    "\n",
    "![](files/media/Screenshot(7).png)"
   ]
  },
  {
   "cell_type": "markdown",
   "metadata": {},
   "source": [
    "## 9)\n",
    "\n",
    "    Quick tipo from Question #8:\n",
    "    \n",
    "    \"ValueError: operands could not be broadcast together with shapes (12288,150) (150,45)\"\n",
    "\n",
    "![](files/media/Screenshot(8).png)"
   ]
  },
  {
   "cell_type": "code",
   "execution_count": 36,
   "metadata": {},
   "outputs": [
    {
     "data": {
      "text/plain": [
       "((3, 3), array([[-0.99453621,  0.63113836, -1.31413508],\n",
       "        [ 0.12683798, -0.27886805, -7.69695023],\n",
       "        [-0.01986315,  0.06435623,  0.0558964 ]]))"
      ]
     },
     "execution_count": 36,
     "metadata": {},
     "output_type": "execute_result"
    }
   ],
   "source": [
    "a = np.random.randn(3, 3)\n",
    "b = np.random.randn(3, 1)\n",
    "c = a*b\n",
    "\n",
    "c.shape, c"
   ]
  },
  {
   "cell_type": "markdown",
   "metadata": {},
   "source": [
    "## 10)\n",
    "\n",
    "![](files/media/Screenshot(9).png)"
   ]
  },
  {
   "cell_type": "markdown",
   "metadata": {},
   "source": [
    "    u = a * b\n",
    "    v = a * c\n",
    "    w = b + c\n",
    "\n",
    "    j = u + v - w\n",
    "    j = (a * b) + (a * c) - (b + c)\n",
    "    j = ab + ac - b - c\n",
    "    \n",
    "    Then, \n",
    "        j = b * (a - 1) + c * (a - c)\n",
    "        \n",
    "    Or,\n",
    "        j = (a - 1) * (b + c) <===\n",
    "        j = ab + ac - b - c\n",
    "\n"
   ]
  },
  {
   "cell_type": "code",
   "execution_count": null,
   "metadata": {},
   "outputs": [],
   "source": []
  }
 ],
 "metadata": {
  "kernelspec": {
   "display_name": "Python 3",
   "language": "python",
   "name": "python3"
  },
  "language_info": {
   "codemirror_mode": {
    "name": "ipython",
    "version": 3
   },
   "file_extension": ".py",
   "mimetype": "text/x-python",
   "name": "python",
   "nbconvert_exporter": "python",
   "pygments_lexer": "ipython3",
   "version": "3.6.9"
  }
 },
 "nbformat": 4,
 "nbformat_minor": 2
}
