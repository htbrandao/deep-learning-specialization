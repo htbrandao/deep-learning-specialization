{
 "cells": [
  {
   "cell_type": "markdown",
   "metadata": {},
   "source": [
    "# # Quiz 2"
   ]
  },
  {
   "cell_type": "markdown",
   "metadata": {},
   "source": [
    "# 1)\n",
    "![](media/Screenshot(15).png)\n",
    "# 2)\n",
    "![](media/Screenshot(1).png)\n",
    "# 3)\n",
    "![](media/Screenshot(2).png)\n",
    "# 4)\n",
    "![](media/Screenshot(3).png)\n",
    "# 5)\n",
    "![](media/Screenshot(4).png)\n",
    "# 6)\n",
    "![](media/Screenshot(5).png)\n",
    "# 7)\n",
    "![](media/Screenshot(6).png)\n",
    "# 8)\n",
    "![](media/Screenshot(7).png)\n",
    "# 9)\n",
    "![](media/Screenshot(8).png)\n",
    "# 10)\n",
    "![](media/Screenshot(9).png)\n",
    "# 11)\n",
    "![](media/Screenshot(10).png)\n",
    "# 12)\n",
    "![](media/Screenshot(11).png)\n",
    "# 13)\n",
    "![](media/Screenshot(12).png)\n",
    "# 14)\n",
    "![](media/Screenshot(13).png)\n",
    "# 15)\n",
    "![](media/Screenshot(14).png)"
   ]
  },
  {
   "cell_type": "code",
   "execution_count": null,
   "metadata": {},
   "outputs": [],
   "source": []
  }
 ],
 "metadata": {
  "kernelspec": {
   "display_name": "Python 3",
   "language": "python",
   "name": "python3"
  },
  "language_info": {
   "codemirror_mode": {
    "name": "ipython",
    "version": 3
   },
   "file_extension": ".py",
   "mimetype": "text/x-python",
   "name": "python",
   "nbconvert_exporter": "python",
   "pygments_lexer": "ipython3",
   "version": "3.6.9"
  }
 },
 "nbformat": 4,
 "nbformat_minor": 2
}
