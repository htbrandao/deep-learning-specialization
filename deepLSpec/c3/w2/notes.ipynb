{
 "cells": [
  {
   "cell_type": "markdown",
   "metadata": {},
   "source": [
    "# # Course 3: Week 2"
   ]
  },
  {
   "cell_type": "markdown",
   "metadata": {},
   "source": [
    "## # Mismatch training and dev/test set"
   ]
  },
  {
   "cell_type": "markdown",
   "metadata": {},
   "source": []
  },
  {
   "cell_type": "markdown",
   "metadata": {},
   "source": [
    "![](media/bv.png)\n",
    "\n",
    "![](media/bv2.png)\n",
    "\n",
    "![](media/bv3.png)"
   ]
  },
  {
   "cell_type": "markdown",
   "metadata": {},
   "source": [
    "## # Transfer Learning\n",
    "\n",
    "Small dog data set? Big cat data set? Train on one, apply on another.\n",
    "\n",
    "![](media/trans.png)"
   ]
  },
  {
   "cell_type": "markdown",
   "metadata": {},
   "source": [
    "## ## Multi-task learning\n",
    "\n",
    "One network to to many tasks.\n",
    "\n",
    "![](media/multi.png)\n",
    "\n",
    "![](media/multi2.png)\n",
    "\n",
    "($L$ is the usual logistic loss)\n",
    "\n",
    "![](media/multi3.png)"
   ]
  },
  {
   "cell_type": "markdown",
   "metadata": {},
   "source": [
    "## ## End-to-end\n",
    "\n",
    "Breaking problems in many steps.\n",
    "\n",
    "**Example:**\n",
    "![](media/ete.png)\n",
    "\n",
    "![](media/ete2.png)\n",
    "\n",
    "![](media/ete3.png)"
   ]
  },
  {
   "cell_type": "code",
   "execution_count": null,
   "metadata": {},
   "outputs": [],
   "source": []
  }
 ],
 "metadata": {
  "kernelspec": {
   "display_name": "'Python Interactive'",
   "language": "python",
   "name": "40307ef4-ead5-4df3-85bb-eda3df293ead"
  },
  "language_info": {
   "codemirror_mode": {
    "name": "ipython",
    "version": 3
   },
   "file_extension": ".py",
   "mimetype": "text/x-python",
   "name": "python",
   "nbconvert_exporter": "python",
   "pygments_lexer": "ipython3",
   "version": "3.6.9"
  }
 },
 "nbformat": 4,
 "nbformat_minor": 2
}
