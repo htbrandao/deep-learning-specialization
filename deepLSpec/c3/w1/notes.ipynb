{
 "cells": [
  {
   "cell_type": "markdown",
   "metadata": {},
   "source": [
    "# # Course 3: Week 1"
   ]
  },
  {
   "cell_type": "markdown",
   "metadata": {},
   "source": [
    "## # Strategy\n",
    "\n",
    "![](media/idea.png)\n",
    "\n",
    "Try to develop controls that handle 'ortogonal' parameters.\n",
    "\n",
    "Develop it so controlling one parameter will not mess with another.\n",
    "\n",
    "This will lead to sequential improvements whitout performance losses derivate from tuning one parameter whitout leading to poor performance because of another."
   ]
  },
  {
   "cell_type": "markdown",
   "metadata": {},
   "source": [
    "## # Single numeric evaluation\n",
    "\n",
    "Set up tresholds for - and understand - your metrics.\n",
    "\n",
    "![](media/num2.png)\n",
    "\n",
    "**Example:**\n",
    "\n",
    "Evaluate your problem, which is better: having false positives (FP) or false negatives (FN)?\n",
    "\n",
    "Imagine that you are developing a network to detect cancer. Which one is more important: FP or FN?"
   ]
  },
  {
   "cell_type": "markdown",
   "metadata": {},
   "source": [
    "([How to Describe Your Data](https://realpython.com/python-statistics/))\n",
    "\n",
    "A very good and well-rounded metric is $F1_{score}$:\n",
    "\n",
    "$F1_{score} = \\frac{2 * recall * precision}{precision + recall\n",
    "}$"
   ]
  },
  {
   "cell_type": "markdown",
   "metadata": {},
   "source": [
    "![](media/num3.png)"
   ]
  },
  {
   "cell_type": "markdown",
   "metadata": {},
   "source": [
    "![](media/num4.png)"
   ]
  },
  {
   "cell_type": "markdown",
   "metadata": {},
   "source": [
    "![](media/num5.png)"
   ]
  },
  {
   "cell_type": "markdown",
   "metadata": {},
   "source": [
    "## # Humam level performance\n",
    "\n",
    "![](media/hum.png)\n",
    "\n",
    "![](media/hum2.png)\n",
    "\n",
    "![](media/hum3.png)\n",
    "\n",
    "([Bias and variance](https://www.quora.com/What-is-bias-and-variance))\n"
   ]
  },
  {
   "cell_type": "markdown",
   "metadata": {},
   "source": [
    "**Example:**\n",
    "\n",
    "![](media/hum4.png)\n",
    "\n",
    "![](media/hum5.png)"
   ]
  },
  {
   "cell_type": "markdown",
   "metadata": {},
   "source": [
    "## ## Surpassing human level performance\n",
    "\n",
    "![](media/surp.png)\n",
    "Our Bayes error is \n",
    "\n",
    "$1\\% - 0.5\\% = 0.1\\%$\n",
    "\n",
    "and our variance is $0.2\\%$\n",
    "\n",
    "![](media/surp2.png)\n",
    "![](media/surp3.png)\n",
    "\n"
   ]
  },
  {
   "cell_type": "code",
   "execution_count": null,
   "metadata": {},
   "outputs": [],
   "source": []
  }
 ],
 "metadata": {
  "kernelspec": {
   "display_name": "Python 3",
   "language": "python",
   "name": "python3"
  },
  "language_info": {
   "codemirror_mode": {
    "name": "ipython",
    "version": 3
   },
   "file_extension": ".py",
   "mimetype": "text/x-python",
   "name": "python",
   "nbconvert_exporter": "python",
   "pygments_lexer": "ipython3",
   "version": "3.6.9"
  }
 },
 "nbformat": 4,
 "nbformat_minor": 2
}
